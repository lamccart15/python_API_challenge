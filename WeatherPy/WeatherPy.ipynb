{
 "cells": [
  {
   "cell_type": "markdown",
   "metadata": {},
   "source": [
    "# WeatherPy\n",
    "----\n",
    "\n",
    "#### Note\n",
    "* Instructions have been included for each segment. You do not have to follow them exactly, but they are included to help you think through the steps."
   ]
  },
  {
   "cell_type": "code",
   "execution_count": 1,
   "metadata": {
    "scrolled": true
   },
   "outputs": [],
   "source": [
    "# Dependencies and Setup\n",
    "import matplotlib.pyplot as plt\n",
    "import pandas as pd\n",
    "import numpy as np\n",
    "import requests\n",
    "import time\n",
    "from scipy.stats import linregress\n",
    "import datetime\n",
    "import scipy.stats as st\n",
    "\n",
    "# Import API key\n",
    "from api_keys import weather_api_key\n",
    "\n",
    "# Incorporated citipy to determine city based on latitude and longitude\n",
    "from citipy import citipy\n",
    "\n",
    "# Output File (CSV)\n",
    "output_data_file = \"output_data/cities.csv\"\n",
    "\n",
    "# Range of latitudes and longitudes\n",
    "lat_range = (-90, 90)\n",
    "lng_range = (-180, 180)"
   ]
  },
  {
   "cell_type": "markdown",
   "metadata": {},
   "source": [
    "## Generate Cities List"
   ]
  },
  {
   "cell_type": "code",
   "execution_count": 2,
   "metadata": {},
   "outputs": [
    {
     "data": {
      "text/plain": [
       "613"
      ]
     },
     "execution_count": 2,
     "metadata": {},
     "output_type": "execute_result"
    }
   ],
   "source": [
    "# List for holding lat_lngs and cities\n",
    "lat_lngs = []\n",
    "cities = []\n",
    "\n",
    "# Create a set of random lat and lng combinations\n",
    "lats = np.random.uniform(lat_range[0], lat_range[1], size=1500)\n",
    "lngs = np.random.uniform(lng_range[0], lng_range[1], size=1500)\n",
    "lat_lngs = zip(lats, lngs)\n",
    "\n",
    "# Identify nearest city for each lat, lng combination\n",
    "for lat_lng in lat_lngs:\n",
    "    city = citipy.nearest_city(lat_lng[0], lat_lng[1]).city_name\n",
    "    \n",
    "    # If the city is unique, then add it to a our cities list\n",
    "    if city not in cities:\n",
    "        cities.append(city)\n",
    "\n",
    "# Print the city count to confirm sufficient count\n",
    "len(cities)"
   ]
  },
  {
   "cell_type": "markdown",
   "metadata": {},
   "source": [
    "### Perform API Calls\n",
    "* Perform a weather check on each city using a series of successive API calls.\n",
    "* Include a print log of each city as it'sbeing processed (with the city number and city name).\n"
   ]
  },
  {
   "cell_type": "code",
   "execution_count": 3,
   "metadata": {},
   "outputs": [],
   "source": [
    "## Identify url and units\n",
    "url = \"http://api.openweathermap.org/data/2.5/weather?\"\n",
    "units = \"imperial\"\n",
    "\n",
    "# Build partial query URL\n",
    "query_url = f\"{url}appid={weather_api_key}&units={units}&q=\""
   ]
  },
  {
   "cell_type": "code",
   "execution_count": 4,
   "metadata": {
    "scrolled": false
   },
   "outputs": [
    {
     "name": "stdout",
     "output_type": "stream",
     "text": [
      "----------------------------\n",
      "Beginning Data Retrieval\n",
      "----------------------------\n",
      "Processing Record 1 of Set 1 | rikitea.\n",
      "Processing Record 2 of Set 1 | bethel.\n",
      "Processing Record 3 of Set 1 | arraial do cabo.\n",
      "Processing Record 4 of Set 1 | cherskiy.\n",
      "Processing Record 5 of Set 1 | aykhal.\n",
      "Processing Record 6 of Set 1 | dikson.\n",
      "Processing Record 7 of Set 1 | yellowknife.\n",
      "City not found. Skipping...\n",
      "City not found. Skipping...\n",
      "Processing Record 8 of Set 1 | jamestown.\n",
      "Processing Record 9 of Set 1 | mataura.\n",
      "Processing Record 10 of Set 1 | new norfolk.\n",
      "Processing Record 11 of Set 1 | bambous virieux.\n",
      "Processing Record 12 of Set 1 | neuquen.\n",
      "City not found. Skipping...\n",
      "Processing Record 13 of Set 1 | vaini.\n",
      "Processing Record 14 of Set 1 | nome.\n",
      "Processing Record 15 of Set 1 | samoylovka.\n",
      "Processing Record 16 of Set 1 | vardo.\n",
      "Processing Record 17 of Set 1 | port elizabeth.\n",
      "Processing Record 18 of Set 1 | chuy.\n",
      "Processing Record 19 of Set 1 | punta arenas.\n",
      "Processing Record 20 of Set 1 | georgetown.\n",
      "Processing Record 21 of Set 1 | dukat.\n",
      "Processing Record 22 of Set 1 | ambilobe.\n",
      "Processing Record 23 of Set 1 | meulaboh.\n",
      "City not found. Skipping...\n",
      "Processing Record 24 of Set 1 | saint-philippe.\n",
      "Processing Record 25 of Set 1 | castro.\n",
      "Processing Record 26 of Set 1 | pimentel.\n",
      "Processing Record 27 of Set 1 | longyearbyen.\n",
      "Processing Record 28 of Set 1 | avarua.\n",
      "Processing Record 29 of Set 1 | ribeira grande.\n",
      "Processing Record 30 of Set 1 | kayerkan.\n",
      "City not found. Skipping...\n",
      "Processing Record 31 of Set 1 | barrow.\n",
      "Processing Record 32 of Set 1 | severo-kurilsk.\n",
      "Processing Record 33 of Set 1 | vredendal.\n",
      "Processing Record 34 of Set 1 | luderitz.\n",
      "Processing Record 35 of Set 1 | busselton.\n",
      "City not found. Skipping...\n",
      "Processing Record 36 of Set 1 | huron.\n",
      "Processing Record 37 of Set 1 | maues.\n",
      "Processing Record 38 of Set 1 | bluff.\n",
      "Processing Record 39 of Set 1 | inuvik.\n",
      "Processing Record 40 of Set 1 | carballo.\n",
      "Processing Record 41 of Set 1 | tamala.\n",
      "City not found. Skipping...\n",
      "Processing Record 42 of Set 1 | hermanus.\n",
      "Processing Record 43 of Set 1 | gat.\n",
      "Processing Record 44 of Set 1 | asau.\n",
      "Processing Record 45 of Set 1 | ushuaia.\n",
      "Processing Record 46 of Set 1 | half moon bay.\n",
      "Processing Record 47 of Set 1 | nikolskoye.\n",
      "Processing Record 48 of Set 1 | awjilah.\n",
      "Processing Record 49 of Set 1 | pevek.\n",
      "Processing Record 50 of Set 1 | albany.\n",
      "Processing Record 1 of Set 2 | asfi.\n",
      "Processing Record 2 of Set 2 | necochea.\n",
      "Processing Record 3 of Set 2 | talnakh.\n",
      "Processing Record 4 of Set 2 | comodoro rivadavia.\n",
      "Processing Record 5 of Set 2 | puerto ayora.\n",
      "Processing Record 6 of Set 2 | norman wells.\n",
      "City not found. Skipping...\n",
      "City not found. Skipping...\n",
      "City not found. Skipping...\n",
      "Processing Record 7 of Set 2 | chokurdakh.\n",
      "Processing Record 8 of Set 2 | nanortalik.\n",
      "Processing Record 9 of Set 2 | west bay.\n",
      "Processing Record 10 of Set 2 | hastings.\n",
      "City not found. Skipping...\n",
      "City not found. Skipping...\n",
      "Processing Record 11 of Set 2 | klaksvik.\n",
      "Processing Record 12 of Set 2 | husavik.\n",
      "Processing Record 13 of Set 2 | kodiak.\n",
      "Processing Record 14 of Set 2 | hobart.\n",
      "Processing Record 15 of Set 2 | acari.\n",
      "Processing Record 16 of Set 2 | pisco.\n",
      "Processing Record 17 of Set 2 | thompson.\n",
      "City not found. Skipping...\n",
      "Processing Record 18 of Set 2 | hilo.\n",
      "Processing Record 19 of Set 2 | provideniya.\n",
      "Processing Record 20 of Set 2 | carauari.\n",
      "Processing Record 21 of Set 2 | adre.\n",
      "Processing Record 22 of Set 2 | bathsheba.\n",
      "Processing Record 23 of Set 2 | erbaa.\n",
      "Processing Record 24 of Set 2 | dunedin.\n",
      "Processing Record 25 of Set 2 | bud.\n",
      "Processing Record 26 of Set 2 | mogadishu.\n",
      "Processing Record 27 of Set 2 | atuona.\n",
      "Processing Record 28 of Set 2 | kutum.\n",
      "City not found. Skipping...\n",
      "City not found. Skipping...\n",
      "Processing Record 29 of Set 2 | portland.\n",
      "Processing Record 30 of Set 2 | menongue.\n",
      "Processing Record 31 of Set 2 | maneadero.\n",
      "Processing Record 32 of Set 2 | upernavik.\n",
      "Processing Record 33 of Set 2 | tiksi.\n",
      "City not found. Skipping...\n",
      "Processing Record 34 of Set 2 | vostok.\n",
      "Processing Record 35 of Set 2 | kirakira.\n",
      "Processing Record 36 of Set 2 | khatanga.\n",
      "Processing Record 37 of Set 2 | edgewater.\n",
      "Processing Record 38 of Set 2 | kaitangata.\n",
      "Processing Record 39 of Set 2 | butaritari.\n",
      "Processing Record 40 of Set 2 | lagoa.\n",
      "Processing Record 41 of Set 2 | gidam.\n",
      "Processing Record 42 of Set 2 | dicabisagan.\n",
      "Processing Record 43 of Set 2 | mar del plata.\n",
      "Processing Record 44 of Set 2 | caucaia.\n",
      "Processing Record 45 of Set 2 | arcata.\n",
      "Processing Record 46 of Set 2 | kizema.\n",
      "Processing Record 47 of Set 2 | saint george.\n",
      "Processing Record 48 of Set 2 | fare.\n",
      "City not found. Skipping...\n",
      "Processing Record 49 of Set 2 | putina.\n",
      "Processing Record 50 of Set 2 | male.\n",
      "Processing Record 1 of Set 3 | maun.\n",
      "Processing Record 2 of Set 3 | izumo.\n",
      "Processing Record 3 of Set 3 | khovu-aksy.\n",
      "Processing Record 4 of Set 3 | mezen.\n",
      "Processing Record 5 of Set 3 | qaanaaq.\n",
      "Processing Record 6 of Set 3 | saskylakh.\n",
      "Processing Record 7 of Set 3 | grindavik.\n",
      "Processing Record 8 of Set 3 | sept-iles.\n",
      "Processing Record 9 of Set 3 | puerto escondido.\n",
      "Processing Record 10 of Set 3 | kavieng.\n",
      "Processing Record 11 of Set 3 | marawi.\n",
      "Processing Record 12 of Set 3 | faya.\n",
      "City not found. Skipping...\n",
      "Processing Record 13 of Set 3 | ilulissat.\n",
      "Processing Record 14 of Set 3 | port-gentil.\n",
      "Processing Record 15 of Set 3 | ahuimanu.\n",
      "Processing Record 16 of Set 3 | ikongo.\n",
      "Processing Record 17 of Set 3 | port alfred.\n",
      "Processing Record 18 of Set 3 | katsuura.\n",
      "Processing Record 19 of Set 3 | radomir.\n",
      "Processing Record 20 of Set 3 | coquimbo.\n",
      "Processing Record 21 of Set 3 | nisia floresta.\n",
      "City not found. Skipping...\n",
      "City not found. Skipping...\n",
      "Processing Record 22 of Set 3 | ponta do sol.\n",
      "Processing Record 23 of Set 3 | bambanglipuro.\n",
      "Processing Record 24 of Set 3 | telenesti.\n",
      "Processing Record 25 of Set 3 | victoria.\n",
      "Processing Record 26 of Set 3 | arlit.\n",
      "Processing Record 27 of Set 3 | belmonte.\n",
      "Processing Record 28 of Set 3 | ambahta.\n",
      "Processing Record 29 of Set 3 | belaya gora.\n",
      "Processing Record 30 of Set 3 | aquiraz.\n",
      "Processing Record 31 of Set 3 | beloha.\n",
      "Processing Record 32 of Set 3 | brae.\n",
      "Processing Record 33 of Set 3 | cayenne.\n",
      "Processing Record 34 of Set 3 | mabaruma.\n",
      "Processing Record 35 of Set 3 | cape town.\n",
      "Processing Record 36 of Set 3 | makat.\n",
      "City not found. Skipping...\n",
      "Processing Record 37 of Set 3 | broken hill.\n",
      "Processing Record 38 of Set 3 | rosehearty.\n",
      "Processing Record 39 of Set 3 | shingu.\n",
      "Processing Record 40 of Set 3 | dingle.\n",
      "City not found. Skipping...\n",
      "City not found. Skipping...\n",
      "Processing Record 41 of Set 3 | rabo de peixe.\n",
      "City not found. Skipping...\n",
      "Processing Record 42 of Set 3 | christchurch.\n",
      "Processing Record 43 of Set 3 | lata.\n",
      "Processing Record 44 of Set 3 | cabo san lucas.\n",
      "Processing Record 45 of Set 3 | sinnamary.\n",
      "Processing Record 46 of Set 3 | anadyr.\n",
      "Processing Record 47 of Set 3 | los llanos de aridane.\n",
      "Processing Record 48 of Set 3 | martapura.\n",
      "City not found. Skipping...\n",
      "Processing Record 49 of Set 3 | terekli-mekteb.\n",
      "Processing Record 50 of Set 3 | yambio.\n",
      "Processing Record 1 of Set 4 | nara.\n",
      "Processing Record 2 of Set 4 | mahebourg.\n",
      "Processing Record 3 of Set 4 | bredasdorp.\n",
      "Processing Record 4 of Set 4 | hithadhoo.\n",
      "Processing Record 5 of Set 4 | kudahuvadhoo.\n",
      "Processing Record 6 of Set 4 | teahupoo.\n",
      "Processing Record 7 of Set 4 | vao.\n",
      "Processing Record 8 of Set 4 | kamenka.\n",
      "Processing Record 9 of Set 4 | ulaangom.\n",
      "Processing Record 10 of Set 4 | fairbanks.\n",
      "Processing Record 11 of Set 4 | kahului.\n",
      "Processing Record 12 of Set 4 | ukiah.\n",
      "Processing Record 13 of Set 4 | qaqortoq.\n",
      "Processing Record 14 of Set 4 | lompoc.\n",
      "Processing Record 15 of Set 4 | goderich.\n",
      "Processing Record 16 of Set 4 | yanam.\n",
      "Processing Record 17 of Set 4 | whitehorse.\n",
      "City not found. Skipping...\n",
      "Processing Record 18 of Set 4 | camacha.\n",
      "Processing Record 19 of Set 4 | nouadhibou.\n",
      "Processing Record 20 of Set 4 | sonoita.\n",
      "Processing Record 21 of Set 4 | santa rosa.\n",
      "City not found. Skipping...\n",
      "Processing Record 22 of Set 4 | valleyview.\n",
      "Processing Record 23 of Set 4 | dehloran.\n",
      "Processing Record 24 of Set 4 | gonzalez.\n",
      "Processing Record 25 of Set 4 | amahai.\n",
      "Processing Record 26 of Set 4 | iwaki.\n"
     ]
    },
    {
     "name": "stdout",
     "output_type": "stream",
     "text": [
      "Processing Record 27 of Set 4 | tuktoyaktuk.\n",
      "Processing Record 28 of Set 4 | nemuro.\n",
      "Processing Record 29 of Set 4 | manali.\n",
      "Processing Record 30 of Set 4 | singaraja.\n",
      "Processing Record 31 of Set 4 | byron bay.\n",
      "Processing Record 32 of Set 4 | sorland.\n",
      "Processing Record 33 of Set 4 | sakakah.\n",
      "Processing Record 34 of Set 4 | sangar.\n",
      "Processing Record 35 of Set 4 | yarovoye.\n",
      "Processing Record 36 of Set 4 | bolivar.\n",
      "Processing Record 37 of Set 4 | porto walter.\n",
      "Processing Record 38 of Set 4 | baker city.\n",
      "Processing Record 39 of Set 4 | darnah.\n",
      "City not found. Skipping...\n",
      "Processing Record 40 of Set 4 | iquique.\n",
      "Processing Record 41 of Set 4 | alice springs.\n",
      "Processing Record 42 of Set 4 | lavrentiya.\n",
      "City not found. Skipping...\n",
      "Processing Record 43 of Set 4 | san vicente.\n",
      "Processing Record 44 of Set 4 | abreus.\n",
      "Processing Record 45 of Set 4 | rundu.\n",
      "Processing Record 46 of Set 4 | east london.\n",
      "Processing Record 47 of Set 4 | kerema.\n",
      "City not found. Skipping...\n",
      "Processing Record 48 of Set 4 | hofn.\n",
      "Processing Record 49 of Set 4 | angoche.\n",
      "Processing Record 50 of Set 4 | hobyo.\n",
      "Processing Record 1 of Set 5 | weatherford.\n",
      "City not found. Skipping...\n",
      "Processing Record 2 of Set 5 | te anau.\n",
      "Processing Record 3 of Set 5 | kruisfontein.\n",
      "Processing Record 4 of Set 5 | san patricio.\n",
      "Processing Record 5 of Set 5 | suratgarh.\n",
      "Processing Record 6 of Set 5 | lorengau.\n",
      "Processing Record 7 of Set 5 | bac lieu.\n",
      "Processing Record 8 of Set 5 | cervo.\n",
      "Processing Record 9 of Set 5 | sur.\n",
      "Processing Record 10 of Set 5 | natal.\n",
      "Processing Record 11 of Set 5 | japura.\n",
      "Processing Record 12 of Set 5 | panormos.\n",
      "Processing Record 13 of Set 5 | verkhoyansk.\n",
      "Processing Record 14 of Set 5 | ucluelet.\n",
      "Processing Record 15 of Set 5 | gornopravdinsk.\n",
      "Processing Record 16 of Set 5 | qostanay.\n",
      "City not found. Skipping...\n",
      "Processing Record 17 of Set 5 | takoradi.\n",
      "Processing Record 18 of Set 5 | stokmarknes.\n",
      "Processing Record 19 of Set 5 | sakaiminato.\n",
      "Processing Record 20 of Set 5 | ixtapa.\n",
      "Processing Record 21 of Set 5 | narasannapeta.\n",
      "Processing Record 22 of Set 5 | buraydah.\n",
      "Processing Record 23 of Set 5 | havoysund.\n",
      "City not found. Skipping...\n",
      "Processing Record 24 of Set 5 | guerrero negro.\n",
      "Processing Record 25 of Set 5 | malegaon.\n",
      "Processing Record 26 of Set 5 | kavaratti.\n",
      "Processing Record 27 of Set 5 | sterling.\n",
      "City not found. Skipping...\n",
      "Processing Record 28 of Set 5 | talara.\n",
      "Processing Record 29 of Set 5 | jacqueville.\n",
      "Processing Record 30 of Set 5 | rock hill.\n",
      "Processing Record 31 of Set 5 | pergamino.\n",
      "Processing Record 32 of Set 5 | qiongshan.\n",
      "Processing Record 33 of Set 5 | mulanje.\n",
      "Processing Record 34 of Set 5 | poltavka.\n",
      "Processing Record 35 of Set 5 | bonthe.\n",
      "Processing Record 36 of Set 5 | itarema.\n",
      "Processing Record 37 of Set 5 | tautira.\n",
      "Processing Record 38 of Set 5 | ampanihy.\n",
      "Processing Record 39 of Set 5 | lishui.\n",
      "Processing Record 40 of Set 5 | ginir.\n",
      "Processing Record 41 of Set 5 | kapaa.\n",
      "Processing Record 42 of Set 5 | north battleford.\n",
      "Processing Record 43 of Set 5 | hamilton.\n",
      "Processing Record 44 of Set 5 | berlevag.\n",
      "Processing Record 45 of Set 5 | san quintin.\n",
      "Processing Record 46 of Set 5 | bilibino.\n",
      "Processing Record 47 of Set 5 | jalu.\n",
      "Processing Record 48 of Set 5 | cairns.\n",
      "Processing Record 49 of Set 5 | samarai.\n",
      "Processing Record 50 of Set 5 | kaele.\n",
      "Processing Record 1 of Set 6 | lira.\n",
      "Processing Record 2 of Set 6 | cockburn town.\n",
      "Processing Record 3 of Set 6 | port hardy.\n",
      "Processing Record 4 of Set 6 | sitka.\n",
      "Processing Record 5 of Set 6 | waingapu.\n",
      "Processing Record 6 of Set 6 | nzerekore.\n",
      "Processing Record 7 of Set 6 | teknaf.\n",
      "Processing Record 8 of Set 6 | lashio.\n",
      "Processing Record 9 of Set 6 | kaeo.\n",
      "Processing Record 10 of Set 6 | russell.\n",
      "Processing Record 11 of Set 6 | nanding.\n",
      "Processing Record 12 of Set 6 | namatanai.\n",
      "Processing Record 13 of Set 6 | saint-francois.\n",
      "Processing Record 14 of Set 6 | inhambane.\n",
      "Processing Record 15 of Set 6 | xining.\n",
      "Processing Record 16 of Set 6 | bandarbeyla.\n",
      "Processing Record 17 of Set 6 | ambon.\n",
      "Processing Record 18 of Set 6 | ritchie.\n",
      "Processing Record 19 of Set 6 | poum.\n",
      "Processing Record 20 of Set 6 | eyl.\n",
      "Processing Record 21 of Set 6 | chicama.\n",
      "Processing Record 22 of Set 6 | isaka.\n",
      "Processing Record 23 of Set 6 | lebu.\n",
      "Processing Record 24 of Set 6 | zwedru.\n",
      "Processing Record 25 of Set 6 | carnarvon.\n",
      "Processing Record 26 of Set 6 | bage.\n",
      "Processing Record 27 of Set 6 | itoman.\n",
      "City not found. Skipping...\n",
      "Processing Record 28 of Set 6 | evensk.\n",
      "Processing Record 29 of Set 6 | iquitos.\n",
      "Processing Record 30 of Set 6 | araouane.\n",
      "City not found. Skipping...\n",
      "Processing Record 31 of Set 6 | tasiilaq.\n",
      "Processing Record 32 of Set 6 | same.\n",
      "City not found. Skipping...\n",
      "Processing Record 33 of Set 6 | shestakovo.\n",
      "Processing Record 34 of Set 6 | price.\n",
      "Processing Record 35 of Set 6 | burnie.\n",
      "Processing Record 36 of Set 6 | assiniboia.\n",
      "Processing Record 37 of Set 6 | vila.\n",
      "Processing Record 38 of Set 6 | gallup.\n",
      "City not found. Skipping...\n",
      "Processing Record 39 of Set 6 | muros.\n",
      "Processing Record 40 of Set 6 | umm lajj.\n",
      "Processing Record 41 of Set 6 | darhan.\n",
      "Processing Record 42 of Set 6 | ostrovnoy.\n",
      "Processing Record 43 of Set 6 | maningrida.\n",
      "Processing Record 44 of Set 6 | traverse city.\n",
      "Processing Record 45 of Set 6 | itacarambi.\n",
      "Processing Record 46 of Set 6 | mehamn.\n",
      "Processing Record 47 of Set 6 | ewa beach.\n",
      "Processing Record 48 of Set 6 | bubaque.\n",
      "Processing Record 49 of Set 6 | caravelas.\n",
      "Processing Record 50 of Set 6 | chodavaram.\n",
      "Processing Record 1 of Set 7 | la paz.\n",
      "Processing Record 2 of Set 7 | banda aceh.\n",
      "Processing Record 3 of Set 7 | lasa.\n",
      "Processing Record 4 of Set 7 | coihaique.\n",
      "Processing Record 5 of Set 7 | manacapuru.\n",
      "Processing Record 6 of Set 7 | aflao.\n",
      "Processing Record 7 of Set 7 | coahuayana.\n",
      "Processing Record 8 of Set 7 | clyde river.\n",
      "Processing Record 9 of Set 7 | phayao.\n",
      "Processing Record 10 of Set 7 | havre-saint-pierre.\n",
      "Processing Record 11 of Set 7 | vanimo.\n",
      "Processing Record 12 of Set 7 | maceio.\n",
      "Processing Record 13 of Set 7 | deputatskiy.\n",
      "Processing Record 14 of Set 7 | ihiala.\n",
      "Processing Record 15 of Set 7 | yumen.\n",
      "Processing Record 16 of Set 7 | port macquarie.\n",
      "Processing Record 17 of Set 7 | maiduguri.\n",
      "City not found. Skipping...\n",
      "Processing Record 18 of Set 7 | izazi.\n",
      "City not found. Skipping...\n",
      "Processing Record 19 of Set 7 | shonguy.\n",
      "Processing Record 20 of Set 7 | ipotesti.\n",
      "Processing Record 21 of Set 7 | hasaki.\n",
      "Processing Record 22 of Set 7 | beira.\n",
      "Processing Record 23 of Set 7 | luvianos.\n",
      "Processing Record 24 of Set 7 | urumqi.\n",
      "Processing Record 25 of Set 7 | sovetskiy.\n",
      "Processing Record 26 of Set 7 | santa isabel.\n",
      "Processing Record 27 of Set 7 | ancud.\n",
      "Processing Record 28 of Set 7 | qui nhon.\n",
      "Processing Record 29 of Set 7 | airai.\n",
      "Processing Record 30 of Set 7 | labuhan.\n",
      "Processing Record 31 of Set 7 | palmer.\n",
      "Processing Record 32 of Set 7 | moron.\n",
      "Processing Record 33 of Set 7 | vigrestad.\n",
      "City not found. Skipping...\n",
      "Processing Record 34 of Set 7 | saint-georges.\n",
      "Processing Record 35 of Set 7 | minbu.\n",
      "Processing Record 36 of Set 7 | paamiut.\n",
      "Processing Record 37 of Set 7 | ahipara.\n",
      "City not found. Skipping...\n",
      "Processing Record 38 of Set 7 | miri.\n",
      "Processing Record 39 of Set 7 | yizheng.\n",
      "Processing Record 40 of Set 7 | felanitx.\n",
      "Processing Record 41 of Set 7 | crestline.\n",
      "City not found. Skipping...\n",
      "Processing Record 42 of Set 7 | vanavara.\n",
      "Processing Record 43 of Set 7 | gilgit.\n",
      "Processing Record 44 of Set 7 | hervey bay.\n",
      "Processing Record 45 of Set 7 | athens.\n",
      "Processing Record 46 of Set 7 | tuatapere.\n",
      "City not found. Skipping...\n",
      "City not found. Skipping...\n",
      "Processing Record 47 of Set 7 | anantapur.\n",
      "Processing Record 48 of Set 7 | bwanga.\n",
      "City not found. Skipping...\n",
      "Processing Record 49 of Set 7 | novoye leushino.\n",
      "Processing Record 50 of Set 7 | marzuq.\n",
      "Processing Record 1 of Set 8 | boyolangu.\n",
      "Processing Record 2 of Set 8 | naze.\n",
      "Processing Record 3 of Set 8 | velyka lepetykha.\n",
      "Processing Record 4 of Set 8 | cidreira.\n",
      "Processing Record 5 of Set 8 | uyuni.\n",
      "Processing Record 6 of Set 8 | breza.\n",
      "Processing Record 7 of Set 8 | koslan.\n",
      "Processing Record 8 of Set 8 | souillac.\n",
      "Processing Record 9 of Set 8 | vereya.\n",
      "Processing Record 10 of Set 8 | gijon.\n",
      "Processing Record 11 of Set 8 | kirovskiy.\n"
     ]
    },
    {
     "name": "stdout",
     "output_type": "stream",
     "text": [
      "Processing Record 12 of Set 8 | esperance.\n",
      "City not found. Skipping...\n",
      "Processing Record 13 of Set 8 | narsaq.\n",
      "Processing Record 14 of Set 8 | princeton.\n",
      "City not found. Skipping...\n",
      "Processing Record 15 of Set 8 | jiazi.\n",
      "Processing Record 16 of Set 8 | presidencia roque saenz pena.\n",
      "Processing Record 17 of Set 8 | sayyan.\n",
      "Processing Record 18 of Set 8 | chimbote.\n",
      "Processing Record 19 of Set 8 | shenjiamen.\n",
      "Processing Record 20 of Set 8 | ushtobe.\n",
      "Processing Record 21 of Set 8 | kedrovyy.\n",
      "Processing Record 22 of Set 8 | matagami.\n",
      "Processing Record 23 of Set 8 | coleraine.\n",
      "Processing Record 24 of Set 8 | zavitinsk.\n",
      "Processing Record 25 of Set 8 | gonen.\n",
      "Processing Record 26 of Set 8 | zhanakorgan.\n",
      "Processing Record 27 of Set 8 | sisimiut.\n",
      "Processing Record 28 of Set 8 | salalah.\n",
      "Processing Record 29 of Set 8 | launceston.\n",
      "Processing Record 30 of Set 8 | dir.\n",
      "Processing Record 31 of Set 8 | garissa.\n",
      "Processing Record 32 of Set 8 | puerto baquerizo moreno.\n",
      "Processing Record 33 of Set 8 | nabire.\n",
      "Processing Record 34 of Set 8 | abbeyfeale.\n",
      "Processing Record 35 of Set 8 | goundam.\n",
      "Processing Record 36 of Set 8 | san angelo.\n",
      "Processing Record 37 of Set 8 | bardiyah.\n",
      "Processing Record 38 of Set 8 | lufilufi.\n",
      "Processing Record 39 of Set 8 | cleethorpes.\n",
      "Processing Record 40 of Set 8 | tocopilla.\n",
      "Processing Record 41 of Set 8 | elko.\n",
      "Processing Record 42 of Set 8 | unai.\n",
      "Processing Record 43 of Set 8 | mananjary.\n",
      "Processing Record 44 of Set 8 | hovd.\n",
      "Processing Record 45 of Set 8 | inirida.\n",
      "Processing Record 46 of Set 8 | vila franca do campo.\n",
      "Processing Record 47 of Set 8 | odweyne.\n",
      "Processing Record 48 of Set 8 | charters towers.\n",
      "Processing Record 49 of Set 8 | manaure.\n",
      "Processing Record 50 of Set 8 | purpe.\n",
      "Processing Record 1 of Set 9 | college.\n",
      "Processing Record 2 of Set 9 | acapulco.\n",
      "Processing Record 3 of Set 9 | moose factory.\n",
      "Processing Record 4 of Set 9 | megion.\n",
      "Processing Record 5 of Set 9 | correntina.\n",
      "Processing Record 6 of Set 9 | siniscola.\n",
      "Processing Record 7 of Set 9 | kaka.\n",
      "Processing Record 8 of Set 9 | taltal.\n",
      "Processing Record 9 of Set 9 | monopoli.\n",
      "Processing Record 10 of Set 9 | am timan.\n",
      "Processing Record 11 of Set 9 | pangnirtung.\n",
      "Processing Record 12 of Set 9 | khasan.\n",
      "Processing Record 13 of Set 9 | isangel.\n",
      "Processing Record 14 of Set 9 | methoni.\n",
      "Processing Record 15 of Set 9 | manokwari.\n",
      "Processing Record 16 of Set 9 | dhidhdhoo.\n",
      "Processing Record 17 of Set 9 | sibolga.\n",
      "City not found. Skipping...\n",
      "Processing Record 18 of Set 9 | haines junction.\n",
      "Processing Record 19 of Set 9 | creston.\n",
      "Processing Record 20 of Set 9 | smithers.\n",
      "Processing Record 21 of Set 9 | seda.\n",
      "Processing Record 22 of Set 9 | nadym.\n",
      "Processing Record 23 of Set 9 | emerald.\n",
      "Processing Record 24 of Set 9 | soe.\n",
      "Processing Record 25 of Set 9 | graham.\n",
      "Processing Record 26 of Set 9 | luba.\n",
      "Processing Record 27 of Set 9 | ballina.\n",
      "Processing Record 28 of Set 9 | adeje.\n",
      "Processing Record 29 of Set 9 | uarini.\n",
      "Processing Record 30 of Set 9 | yenagoa.\n",
      "Processing Record 31 of Set 9 | artesia.\n",
      "Processing Record 32 of Set 9 | pacasmayo.\n",
      "Processing Record 33 of Set 9 | mahibadhoo.\n",
      "Processing Record 34 of Set 9 | tadine.\n",
      "Processing Record 35 of Set 9 | biltine.\n",
      "Processing Record 36 of Set 9 | orsha.\n",
      "Processing Record 37 of Set 9 | abha.\n",
      "Processing Record 38 of Set 9 | ranong.\n",
      "Processing Record 39 of Set 9 | hami.\n",
      "Processing Record 40 of Set 9 | saldanha.\n",
      "Processing Record 41 of Set 9 | karasuk.\n",
      "Processing Record 42 of Set 9 | golden.\n",
      "Processing Record 43 of Set 9 | chany.\n",
      "Processing Record 44 of Set 9 | rocha.\n",
      "Processing Record 45 of Set 9 | synevyr.\n",
      "Processing Record 46 of Set 9 | ust-kuyga.\n",
      "Processing Record 47 of Set 9 | loma bonita.\n",
      "Processing Record 48 of Set 9 | beringovskiy.\n",
      "Processing Record 49 of Set 9 | aklavik.\n",
      "Processing Record 50 of Set 9 | pecos.\n",
      "Processing Record 1 of Set 10 | mackay.\n",
      "Processing Record 2 of Set 10 | srandakan.\n",
      "Processing Record 3 of Set 10 | tyrma.\n",
      "Processing Record 4 of Set 10 | urubamba.\n",
      "Processing Record 5 of Set 10 | upata.\n",
      "City not found. Skipping...\n",
      "Processing Record 6 of Set 10 | kiama.\n",
      "City not found. Skipping...\n",
      "Processing Record 7 of Set 10 | sault sainte marie.\n",
      "Processing Record 8 of Set 10 | sao felix do xingu.\n",
      "Processing Record 9 of Set 10 | acajutla.\n",
      "Processing Record 10 of Set 10 | shelburne.\n",
      "Processing Record 11 of Set 10 | rio gallegos.\n",
      "Processing Record 12 of Set 10 | metu.\n",
      "Processing Record 13 of Set 10 | galle.\n",
      "Processing Record 14 of Set 10 | altamirano.\n",
      "Processing Record 15 of Set 10 | tucupita.\n",
      "Processing Record 16 of Set 10 | saint-michel-des-saints.\n",
      "Processing Record 17 of Set 10 | tonekabon.\n",
      "Processing Record 18 of Set 10 | namibe.\n",
      "Processing Record 19 of Set 10 | pacific grove.\n",
      "Processing Record 20 of Set 10 | leningradskiy.\n",
      "Processing Record 21 of Set 10 | grand gaube.\n",
      "Processing Record 22 of Set 10 | charlestown.\n",
      "Processing Record 23 of Set 10 | kununurra.\n",
      "Processing Record 24 of Set 10 | boa vista.\n",
      "Processing Record 25 of Set 10 | halifax.\n",
      "Processing Record 26 of Set 10 | carlsbad.\n",
      "Processing Record 27 of Set 10 | codrington.\n",
      "Processing Record 28 of Set 10 | chernaya kholunitsa.\n",
      "Processing Record 29 of Set 10 | atar.\n",
      "Processing Record 30 of Set 10 | longyan.\n",
      "Processing Record 31 of Set 10 | wageningen.\n",
      "City not found. Skipping...\n",
      "Processing Record 32 of Set 10 | ayia galini.\n",
      "Processing Record 33 of Set 10 | comillas.\n",
      "Processing Record 34 of Set 10 | geraldton.\n",
      "Processing Record 35 of Set 10 | iqaluit.\n",
      "Processing Record 36 of Set 10 | gibraleon.\n",
      "Processing Record 37 of Set 10 | ankpa.\n",
      "Processing Record 38 of Set 10 | solvychegodsk.\n",
      "Processing Record 39 of Set 10 | okhotsk.\n",
      "Processing Record 40 of Set 10 | itambacuri.\n",
      "Processing Record 41 of Set 10 | lubbock.\n",
      "Processing Record 42 of Set 10 | filingue.\n",
      "Processing Record 43 of Set 10 | nouakchott.\n",
      "Processing Record 44 of Set 10 | kurilsk.\n",
      "Processing Record 45 of Set 10 | lunenburg.\n",
      "Processing Record 46 of Set 10 | sabang.\n",
      "Processing Record 47 of Set 10 | egvekinot.\n",
      "Processing Record 48 of Set 10 | mount gambier.\n",
      "Processing Record 49 of Set 10 | dolores.\n",
      "Processing Record 50 of Set 10 | patitirion.\n",
      "Processing Record 1 of Set 11 | benguela.\n",
      "Processing Record 2 of Set 11 | faanui.\n",
      "Processing Record 3 of Set 11 | rio grande.\n",
      "Processing Record 4 of Set 11 | hecun.\n",
      "Processing Record 5 of Set 11 | suzaka.\n",
      "Processing Record 6 of Set 11 | cap malheureux.\n",
      "Processing Record 7 of Set 11 | oktyabrskiy.\n",
      "Processing Record 8 of Set 11 | laguna.\n",
      "Processing Record 9 of Set 11 | dalupirip.\n",
      "Processing Record 10 of Set 11 | adrar.\n",
      "Processing Record 11 of Set 11 | agadez.\n",
      "Processing Record 12 of Set 11 | taoudenni.\n",
      "Processing Record 13 of Set 11 | nenjiang.\n",
      "Processing Record 14 of Set 11 | camocim.\n",
      "Processing Record 15 of Set 11 | erzin.\n",
      "Processing Record 16 of Set 11 | kamaishi.\n",
      "Processing Record 17 of Set 11 | suntar.\n",
      "Processing Record 18 of Set 11 | onega.\n",
      "Processing Record 19 of Set 11 | beyneu.\n",
      "Processing Record 20 of Set 11 | kamakhyanagar.\n",
      "Processing Record 21 of Set 11 | capaci.\n",
      "Processing Record 22 of Set 11 | bijar.\n",
      "Processing Record 23 of Set 11 | sao filipe.\n",
      "Processing Record 24 of Set 11 | saint anthony.\n",
      "Processing Record 25 of Set 11 | andira.\n",
      "Processing Record 26 of Set 11 | hirara.\n",
      "City not found. Skipping...\n",
      "Processing Record 27 of Set 11 | sokyryany.\n",
      "Processing Record 28 of Set 11 | la libertad.\n",
      "Processing Record 29 of Set 11 | tzaneen.\n",
      "Processing Record 30 of Set 11 | jiwani.\n",
      "Processing Record 31 of Set 11 | mitsamiouli.\n",
      "Processing Record 32 of Set 11 | sidi ali.\n",
      "Processing Record 33 of Set 11 | ikalamavony.\n",
      "Processing Record 34 of Set 11 | north bend.\n",
      "City not found. Skipping...\n",
      "Processing Record 35 of Set 11 | puerto del rosario.\n",
      "Processing Record 36 of Set 11 | torbay.\n",
      "Processing Record 37 of Set 11 | alugan.\n",
      "Processing Record 38 of Set 11 | dakar.\n",
      "Processing Record 39 of Set 11 | constitucion.\n",
      "Processing Record 40 of Set 11 | scarborough.\n",
      "Processing Record 41 of Set 11 | nivala.\n",
      "City not found. Skipping...\n",
      "Processing Record 42 of Set 11 | vila do maio.\n",
      "Processing Record 43 of Set 11 | jacareacanga.\n",
      "Processing Record 44 of Set 11 | sampit.\n",
      "Processing Record 45 of Set 11 | tarko-sale.\n",
      "Processing Record 46 of Set 11 | saint-honore.\n",
      "Processing Record 47 of Set 11 | piet retief.\n"
     ]
    },
    {
     "name": "stdout",
     "output_type": "stream",
     "text": [
      "Processing Record 48 of Set 11 | issaquah.\n",
      "Processing Record 49 of Set 11 | ajdabiya.\n",
      "Processing Record 50 of Set 11 | ewo.\n",
      "Processing Record 1 of Set 12 | althofen.\n",
      "Processing Record 2 of Set 12 | vestmanna.\n",
      "Processing Record 3 of Set 12 | rivne.\n",
      "Processing Record 4 of Set 12 | fort nelson.\n",
      "Processing Record 5 of Set 12 | belyy yar.\n",
      "Processing Record 6 of Set 12 | caramay.\n",
      "Processing Record 7 of Set 12 | sambava.\n",
      "Processing Record 8 of Set 12 | saint-joseph.\n",
      "----------------------------\n",
      "Data Retrieval Complete\n",
      "----------------------------\n"
     ]
    }
   ],
   "source": [
    "# Create lists to hold data\n",
    "city_name = []\n",
    "lat = []\n",
    "lng = []\n",
    "max_temp = []\n",
    "humidity = []\n",
    "cloudiness = []\n",
    "windspeed = []\n",
    "country = []\n",
    "date = []\n",
    "\n",
    "# Loop through the list of cities and perform a request for data on each\n",
    "print(\"----------------------------\")\n",
    "print(f\"Beginning Data Retrieval\")\n",
    "print(\"----------------------------\")\n",
    "\n",
    "record = 0 \n",
    "set_number = 1 \n",
    "\n",
    "for city in cities:   \n",
    "\n",
    "    try:\n",
    "        response = requests.get(query_url + city).json()\n",
    "        city_name.append(response['name'])\n",
    "        lat.append(response['coord']['lat'])\n",
    "        lng.append(response['coord']['lon'])\n",
    "        max_temp.append(response['main']['temp_max'])\n",
    "        humidity.append(response['main']['humidity'])\n",
    "        cloudiness.append(response['clouds']['all'])\n",
    "        windspeed.append(response['wind']['speed'])\n",
    "        country.append(response['sys']['country'])\n",
    "        date.append(response['dt'])\n",
    "        \n",
    "        if record >= 50:\n",
    "            record = 1 \n",
    "            set_number = set_number + 1\n",
    "        else: \n",
    "            record = record + 1 \n",
    "\n",
    "        print(f\"Processing Record {record} of Set {set_number} | {city}.\")\n",
    "        time.sleep(1.01)\n",
    "    except:\n",
    "        print(\"City not found. Skipping...\")\n",
    "        time.sleep(1.01)\n",
    "        \n",
    "print(\"----------------------------\")\n",
    "print(f\"Data Retrieval Complete\")\n",
    "print(\"----------------------------\")    "
   ]
  },
  {
   "cell_type": "markdown",
   "metadata": {},
   "source": [
    "### Convert Raw Data to DataFrame\n",
    "* Export the city data into a .csv.\n",
    "* Display the DataFrame"
   ]
  },
  {
   "cell_type": "code",
   "execution_count": 8,
   "metadata": {},
   "outputs": [
    {
     "data": {
      "text/html": [
       "<div>\n",
       "<style scoped>\n",
       "    .dataframe tbody tr th:only-of-type {\n",
       "        vertical-align: middle;\n",
       "    }\n",
       "\n",
       "    .dataframe tbody tr th {\n",
       "        vertical-align: top;\n",
       "    }\n",
       "\n",
       "    .dataframe thead th {\n",
       "        text-align: right;\n",
       "    }\n",
       "</style>\n",
       "<table border=\"1\" class=\"dataframe\">\n",
       "  <thead>\n",
       "    <tr style=\"text-align: right;\">\n",
       "      <th></th>\n",
       "      <th>City</th>\n",
       "      <th>Lat</th>\n",
       "      <th>Lng</th>\n",
       "      <th>Max Temp</th>\n",
       "      <th>Humidity</th>\n",
       "      <th>Cloudiness</th>\n",
       "      <th>Wind Speed</th>\n",
       "      <th>Country</th>\n",
       "      <th>Date</th>\n",
       "    </tr>\n",
       "  </thead>\n",
       "  <tbody>\n",
       "    <tr>\n",
       "      <th>0</th>\n",
       "      <td>Rikitea</td>\n",
       "      <td>-23.1203</td>\n",
       "      <td>-134.9692</td>\n",
       "      <td>77.72</td>\n",
       "      <td>74</td>\n",
       "      <td>80</td>\n",
       "      <td>7.74</td>\n",
       "      <td>PF</td>\n",
       "      <td>1618505679</td>\n",
       "    </tr>\n",
       "    <tr>\n",
       "      <th>1</th>\n",
       "      <td>Bethel</td>\n",
       "      <td>41.3712</td>\n",
       "      <td>-73.4140</td>\n",
       "      <td>50.00</td>\n",
       "      <td>96</td>\n",
       "      <td>100</td>\n",
       "      <td>6.13</td>\n",
       "      <td>US</td>\n",
       "      <td>1618505681</td>\n",
       "    </tr>\n",
       "    <tr>\n",
       "      <th>2</th>\n",
       "      <td>Arraial do Cabo</td>\n",
       "      <td>-22.9661</td>\n",
       "      <td>-42.0278</td>\n",
       "      <td>82.40</td>\n",
       "      <td>57</td>\n",
       "      <td>40</td>\n",
       "      <td>9.22</td>\n",
       "      <td>BR</td>\n",
       "      <td>1618505682</td>\n",
       "    </tr>\n",
       "    <tr>\n",
       "      <th>3</th>\n",
       "      <td>Cherskiy</td>\n",
       "      <td>68.7500</td>\n",
       "      <td>161.3000</td>\n",
       "      <td>12.20</td>\n",
       "      <td>95</td>\n",
       "      <td>100</td>\n",
       "      <td>5.28</td>\n",
       "      <td>RU</td>\n",
       "      <td>1618505683</td>\n",
       "    </tr>\n",
       "    <tr>\n",
       "      <th>4</th>\n",
       "      <td>Aykhal</td>\n",
       "      <td>66.0000</td>\n",
       "      <td>111.5000</td>\n",
       "      <td>14.86</td>\n",
       "      <td>96</td>\n",
       "      <td>88</td>\n",
       "      <td>8.57</td>\n",
       "      <td>RU</td>\n",
       "      <td>1618505685</td>\n",
       "    </tr>\n",
       "    <tr>\n",
       "      <th>...</th>\n",
       "      <td>...</td>\n",
       "      <td>...</td>\n",
       "      <td>...</td>\n",
       "      <td>...</td>\n",
       "      <td>...</td>\n",
       "      <td>...</td>\n",
       "      <td>...</td>\n",
       "      <td>...</td>\n",
       "      <td>...</td>\n",
       "    </tr>\n",
       "    <tr>\n",
       "      <th>553</th>\n",
       "      <td>Fort Nelson</td>\n",
       "      <td>58.8053</td>\n",
       "      <td>-122.7002</td>\n",
       "      <td>41.00</td>\n",
       "      <td>56</td>\n",
       "      <td>75</td>\n",
       "      <td>5.75</td>\n",
       "      <td>CA</td>\n",
       "      <td>1618506335</td>\n",
       "    </tr>\n",
       "    <tr>\n",
       "      <th>554</th>\n",
       "      <td>Belyy Yar</td>\n",
       "      <td>53.6039</td>\n",
       "      <td>91.3903</td>\n",
       "      <td>39.20</td>\n",
       "      <td>65</td>\n",
       "      <td>59</td>\n",
       "      <td>6.71</td>\n",
       "      <td>RU</td>\n",
       "      <td>1618506481</td>\n",
       "    </tr>\n",
       "    <tr>\n",
       "      <th>555</th>\n",
       "      <td>Caramay</td>\n",
       "      <td>10.1815</td>\n",
       "      <td>119.2360</td>\n",
       "      <td>78.10</td>\n",
       "      <td>85</td>\n",
       "      <td>100</td>\n",
       "      <td>3.13</td>\n",
       "      <td>PH</td>\n",
       "      <td>1618506483</td>\n",
       "    </tr>\n",
       "    <tr>\n",
       "      <th>556</th>\n",
       "      <td>Sambava</td>\n",
       "      <td>-14.2667</td>\n",
       "      <td>50.1667</td>\n",
       "      <td>78.33</td>\n",
       "      <td>84</td>\n",
       "      <td>32</td>\n",
       "      <td>5.44</td>\n",
       "      <td>MG</td>\n",
       "      <td>1618506484</td>\n",
       "    </tr>\n",
       "    <tr>\n",
       "      <th>557</th>\n",
       "      <td>Saint-Joseph</td>\n",
       "      <td>-21.3667</td>\n",
       "      <td>55.6167</td>\n",
       "      <td>77.00</td>\n",
       "      <td>83</td>\n",
       "      <td>0</td>\n",
       "      <td>6.11</td>\n",
       "      <td>RE</td>\n",
       "      <td>1618506485</td>\n",
       "    </tr>\n",
       "  </tbody>\n",
       "</table>\n",
       "<p>558 rows × 9 columns</p>\n",
       "</div>"
      ],
      "text/plain": [
       "                City      Lat       Lng  Max Temp  Humidity  Cloudiness  \\\n",
       "0            Rikitea -23.1203 -134.9692     77.72        74          80   \n",
       "1             Bethel  41.3712  -73.4140     50.00        96         100   \n",
       "2    Arraial do Cabo -22.9661  -42.0278     82.40        57          40   \n",
       "3           Cherskiy  68.7500  161.3000     12.20        95         100   \n",
       "4             Aykhal  66.0000  111.5000     14.86        96          88   \n",
       "..               ...      ...       ...       ...       ...         ...   \n",
       "553      Fort Nelson  58.8053 -122.7002     41.00        56          75   \n",
       "554        Belyy Yar  53.6039   91.3903     39.20        65          59   \n",
       "555          Caramay  10.1815  119.2360     78.10        85         100   \n",
       "556          Sambava -14.2667   50.1667     78.33        84          32   \n",
       "557     Saint-Joseph -21.3667   55.6167     77.00        83           0   \n",
       "\n",
       "     Wind Speed Country        Date  \n",
       "0          7.74      PF  1618505679  \n",
       "1          6.13      US  1618505681  \n",
       "2          9.22      BR  1618505682  \n",
       "3          5.28      RU  1618505683  \n",
       "4          8.57      RU  1618505685  \n",
       "..          ...     ...         ...  \n",
       "553        5.75      CA  1618506335  \n",
       "554        6.71      RU  1618506481  \n",
       "555        3.13      PH  1618506483  \n",
       "556        5.44      MG  1618506484  \n",
       "557        6.11      RE  1618506485  \n",
       "\n",
       "[558 rows x 9 columns]"
      ]
     },
     "execution_count": 8,
     "metadata": {},
     "output_type": "execute_result"
    }
   ],
   "source": [
    "# Create dataframe\n",
    "weather_dict = {\n",
    "    \"City\": city_name,\n",
    "    \"Lat\": lat,\n",
    "    \"Lng\": lng, \n",
    "    \"Max Temp\": max_temp, \n",
    "    \"Humidity\": humidity, \n",
    "    \"Cloudiness\": cloudiness, \n",
    "    \"Wind Speed\": windspeed, \n",
    "    \"Country\": country, \n",
    "    \"Date\": date\n",
    "}\n",
    "\n",
    "weather_data = pd.DataFrame(weather_dict)\n",
    "weather_data"
   ]
  },
  {
   "cell_type": "code",
   "execution_count": 17,
   "metadata": {},
   "outputs": [],
   "source": [
    "# Export data into CSV\n",
    "weather_data.to_csv('Output/weather.csv', index=False, header=True)"
   ]
  },
  {
   "cell_type": "code",
   "execution_count": 18,
   "metadata": {},
   "outputs": [
    {
     "data": {
      "text/html": [
       "<div>\n",
       "<style scoped>\n",
       "    .dataframe tbody tr th:only-of-type {\n",
       "        vertical-align: middle;\n",
       "    }\n",
       "\n",
       "    .dataframe tbody tr th {\n",
       "        vertical-align: top;\n",
       "    }\n",
       "\n",
       "    .dataframe thead th {\n",
       "        text-align: right;\n",
       "    }\n",
       "</style>\n",
       "<table border=\"1\" class=\"dataframe\">\n",
       "  <thead>\n",
       "    <tr style=\"text-align: right;\">\n",
       "      <th></th>\n",
       "      <th>Lat</th>\n",
       "      <th>Lng</th>\n",
       "      <th>Max Temp</th>\n",
       "      <th>Humidity</th>\n",
       "      <th>Cloudiness</th>\n",
       "      <th>Wind Speed</th>\n",
       "      <th>Date</th>\n",
       "    </tr>\n",
       "  </thead>\n",
       "  <tbody>\n",
       "    <tr>\n",
       "      <th>count</th>\n",
       "      <td>558.000000</td>\n",
       "      <td>558.000000</td>\n",
       "      <td>558.000000</td>\n",
       "      <td>558.000000</td>\n",
       "      <td>558.000000</td>\n",
       "      <td>558.000000</td>\n",
       "      <td>5.580000e+02</td>\n",
       "    </tr>\n",
       "    <tr>\n",
       "      <th>mean</th>\n",
       "      <td>19.645020</td>\n",
       "      <td>14.697996</td>\n",
       "      <td>60.632007</td>\n",
       "      <td>67.826165</td>\n",
       "      <td>56.689964</td>\n",
       "      <td>7.974803</td>\n",
       "      <td>1.618506e+09</td>\n",
       "    </tr>\n",
       "    <tr>\n",
       "      <th>std</th>\n",
       "      <td>32.971286</td>\n",
       "      <td>90.835109</td>\n",
       "      <td>23.223167</td>\n",
       "      <td>22.240813</td>\n",
       "      <td>36.267690</td>\n",
       "      <td>5.387674</td>\n",
       "      <td>2.369651e+02</td>\n",
       "    </tr>\n",
       "    <tr>\n",
       "      <th>min</th>\n",
       "      <td>-54.800000</td>\n",
       "      <td>-179.166700</td>\n",
       "      <td>-22.130000</td>\n",
       "      <td>4.000000</td>\n",
       "      <td>0.000000</td>\n",
       "      <td>0.470000</td>\n",
       "      <td>1.618505e+09</td>\n",
       "    </tr>\n",
       "    <tr>\n",
       "      <th>25%</th>\n",
       "      <td>-6.872475</td>\n",
       "      <td>-64.910100</td>\n",
       "      <td>46.400000</td>\n",
       "      <td>57.000000</td>\n",
       "      <td>20.000000</td>\n",
       "      <td>3.980000</td>\n",
       "      <td>1.618506e+09</td>\n",
       "    </tr>\n",
       "    <tr>\n",
       "      <th>50%</th>\n",
       "      <td>21.452950</td>\n",
       "      <td>21.626550</td>\n",
       "      <td>64.400000</td>\n",
       "      <td>72.000000</td>\n",
       "      <td>69.000000</td>\n",
       "      <td>6.910000</td>\n",
       "      <td>1.618506e+09</td>\n",
       "    </tr>\n",
       "    <tr>\n",
       "      <th>75%</th>\n",
       "      <td>46.509000</td>\n",
       "      <td>91.773000</td>\n",
       "      <td>78.815000</td>\n",
       "      <td>85.000000</td>\n",
       "      <td>90.000000</td>\n",
       "      <td>10.960000</td>\n",
       "      <td>1.618506e+09</td>\n",
       "    </tr>\n",
       "    <tr>\n",
       "      <th>max</th>\n",
       "      <td>78.218600</td>\n",
       "      <td>179.316700</td>\n",
       "      <td>104.310000</td>\n",
       "      <td>100.000000</td>\n",
       "      <td>100.000000</td>\n",
       "      <td>35.160000</td>\n",
       "      <td>1.618506e+09</td>\n",
       "    </tr>\n",
       "  </tbody>\n",
       "</table>\n",
       "</div>"
      ],
      "text/plain": [
       "              Lat         Lng    Max Temp    Humidity  Cloudiness  Wind Speed  \\\n",
       "count  558.000000  558.000000  558.000000  558.000000  558.000000  558.000000   \n",
       "mean    19.645020   14.697996   60.632007   67.826165   56.689964    7.974803   \n",
       "std     32.971286   90.835109   23.223167   22.240813   36.267690    5.387674   \n",
       "min    -54.800000 -179.166700  -22.130000    4.000000    0.000000    0.470000   \n",
       "25%     -6.872475  -64.910100   46.400000   57.000000   20.000000    3.980000   \n",
       "50%     21.452950   21.626550   64.400000   72.000000   69.000000    6.910000   \n",
       "75%     46.509000   91.773000   78.815000   85.000000   90.000000   10.960000   \n",
       "max     78.218600  179.316700  104.310000  100.000000  100.000000   35.160000   \n",
       "\n",
       "               Date  \n",
       "count  5.580000e+02  \n",
       "mean   1.618506e+09  \n",
       "std    2.369651e+02  \n",
       "min    1.618505e+09  \n",
       "25%    1.618506e+09  \n",
       "50%    1.618506e+09  \n",
       "75%    1.618506e+09  \n",
       "max    1.618506e+09  "
      ]
     },
     "execution_count": 18,
     "metadata": {},
     "output_type": "execute_result"
    }
   ],
   "source": [
    "# Describe data\n",
    "weather_data.describe()"
   ]
  },
  {
   "cell_type": "code",
   "execution_count": 19,
   "metadata": {},
   "outputs": [
    {
     "data": {
      "text/plain": [
       "558"
      ]
     },
     "execution_count": 19,
     "metadata": {},
     "output_type": "execute_result"
    }
   ],
   "source": [
    "# Clarify code is only pulling unique cities (no repeat cities)\n",
    "# Count all cities in dataframe\n",
    "len(weather_data)"
   ]
  },
  {
   "cell_type": "code",
   "execution_count": 20,
   "metadata": {},
   "outputs": [
    {
     "data": {
      "text/plain": [
       "558"
      ]
     },
     "execution_count": 20,
     "metadata": {},
     "output_type": "execute_result"
    }
   ],
   "source": [
    "# Count unique cities in dataframe (values should match)\n",
    "weather_u = weather_data[\"City\"].unique()\n",
    "len(weather_u)"
   ]
  },
  {
   "cell_type": "markdown",
   "metadata": {},
   "source": [
    "## Inspect the data and remove the cities where the humidity > 100%.\n",
    "----\n",
    "Skip this step if there are no cities that have humidity > 100%. "
   ]
  },
  {
   "cell_type": "markdown",
   "metadata": {},
   "source": [
    "## Plotting the Data\n",
    "* Use proper labeling of the plots using plot titles (including date of analysis) and axes labels.\n",
    "* Save the plotted figures as .pngs."
   ]
  },
  {
   "cell_type": "markdown",
   "metadata": {},
   "source": [
    "## Latitude vs. Temperature Plot"
   ]
  },
  {
   "cell_type": "code",
   "execution_count": 25,
   "metadata": {
    "scrolled": true
   },
   "outputs": [
    {
     "data": {
      "image/png": "[encoded data removed]",
      "text/plain": [
       "<Figure size 432x288 with 1 Axes>"
      ]
     },
     "metadata": {
      "needs_background": "light"
     },
     "output_type": "display_data"
    }
   ],
   "source": [
    "# Convert time into date format\n",
    "converted_weather_data_df = pd.to_datetime(weather_data['Date'], unit='s').dt.strftime('%m/%d/%Y')\n",
    "\n",
    "# Generate and format scatter plot\n",
    "x_axis = weather_data[\"Lat\"]\n",
    "data = weather_data[\"Max Temp\"]\n",
    "plt.scatter(x_axis, data, marker=\"o\", facecolors=\"blue\", edgecolors=\"black\")\n",
    "plt.title(f\"City Latitude vs. Max Temperature ({converted_weather_data_df[1]})\")\n",
    "plt.xlabel(\"Latitude\")\n",
    "plt.ylabel(\"Max Temperature (F)\")\n",
    "plt.grid()\n",
    "\n",
    "# Save figure \n",
    "plt.savefig(\"Images/Lat_temp.png\")\n",
    "\n",
    "plt.show()"
   ]
  },
  {
   "cell_type": "code",
   "execution_count": null,
   "metadata": {},
   "outputs": [],
   "source": [
    "## The above plot analyzes the relationship between the maximum temperature and latitude. \n",
    "## From the graph it is clear that the temperature is higher near the equator. "
   ]
  },
  {
   "cell_type": "markdown",
   "metadata": {},
   "source": [
    "## Latitude vs. Humidity Plot"
   ]
  },
  {
   "cell_type": "code",
   "execution_count": 26,
   "metadata": {},
   "outputs": [
    {
     "data": {
      "image/png": "[encoded data removed]",
      "text/plain": [
       "<Figure size 432x288 with 1 Axes>"
      ]
     },
     "metadata": {
      "needs_background": "light"
     },
     "output_type": "display_data"
    }
   ],
   "source": [
    "# Generate and format scatter plot\n",
    "x_axis = weather_data[\"Lat\"]\n",
    "data = weather_data[\"Humidity\"]\n",
    "plt.scatter(x_axis, data, marker=\"o\", facecolors=\"blue\", edgecolors=\"black\")\n",
    "plt.title(f\"City Latitude vs. Humidity ({converted_weather_data_df[1]})\")\n",
    "plt.xlabel(\"Latitude\")\n",
    "plt.ylabel(\"Humidity (%)\")\n",
    "plt.grid()\n",
    "\n",
    "# Save figure \n",
    "plt.savefig(\"Images/Lat_Humidity.png\")\n",
    "\n",
    "plt.show()"
   ]
  },
  {
   "cell_type": "code",
   "execution_count": null,
   "metadata": {},
   "outputs": [],
   "source": [
    "## The above plot analyzes the relationship between latitude and humidity. \n",
    "## The graph indicates that the majority of the cities have about 50% humidity on this day. "
   ]
  },
  {
   "cell_type": "markdown",
   "metadata": {},
   "source": [
    "## Latitude vs. Cloudiness Plot"
   ]
  },
  {
   "cell_type": "code",
   "execution_count": 27,
   "metadata": {},
   "outputs": [
    {
     "data": {
      "image/png": "[encoded data removed]",
      "text/plain": [
       "<Figure size 432x288 with 1 Axes>"
      ]
     },
     "metadata": {
      "needs_background": "light"
     },
     "output_type": "display_data"
    }
   ],
   "source": [
    "# Generate and format scatter plot\n",
    "x_axis = weather_data[\"Lat\"]\n",
    "data = weather_data[\"Cloudiness\"]\n",
    "plt.scatter(x_axis, data, marker=\"o\", facecolors=\"blue\", edgecolors=\"black\")\n",
    "plt.title(f\"City Latitude vs. Cloudiness ({converted_weather_data_df[1]})\")\n",
    "plt.xlabel(\"Latitude\")\n",
    "plt.ylabel(\"Cloudiness (%)\")\n",
    "plt.grid()\n",
    "\n",
    "# Save figure \n",
    "plt.savefig(\"Images/Lat_Cloudiness.png\")\n",
    "\n",
    "plt.show()"
   ]
  },
  {
   "cell_type": "code",
   "execution_count": null,
   "metadata": {},
   "outputs": [],
   "source": [
    "## The above plot analyzes the relationship between latitude and cloudiness. \n",
    "## The graph indicates that there does not appear to be a relationship between latitude and cloudiness.  "
   ]
  },
  {
   "cell_type": "markdown",
   "metadata": {},
   "source": [
    "## Latitude vs. Wind Speed Plot"
   ]
  },
  {
   "cell_type": "code",
   "execution_count": 28,
   "metadata": {},
   "outputs": [
    {
     "data": {
      "image/png": "[encoded data removed]",
      "text/plain": [
       "<Figure size 432x288 with 1 Axes>"
      ]
     },
     "metadata": {
      "needs_background": "light"
     },
     "output_type": "display_data"
    }
   ],
   "source": [
    "# Generate and format scatter plot\n",
    "x_axis = weather_data[\"Lat\"]\n",
    "data = weather_data[\"Wind Speed\"]\n",
    "plt.scatter(x_axis, data, marker=\"o\", facecolors=\"blue\", edgecolors=\"black\")\n",
    "plt.title(f\"City Latitude vs. Wind Speed ({converted_weather_data_df[1]})\")\n",
    "plt.xlabel(\"Latitude\")\n",
    "plt.ylabel(\"Wind Speed (mph)\")\n",
    "plt.grid()\n",
    "\n",
    "# Save figure \n",
    "plt.savefig(\"Images/Lat_WindSpeed.png\")\n",
    "\n",
    "plt.show()"
   ]
  },
  {
   "cell_type": "code",
   "execution_count": null,
   "metadata": {},
   "outputs": [],
   "source": [
    "## The above plot analyzes the relationship between latitude and wind speed. \n",
    "## The graph indicates that on this day across the globe, windspeed remained below 15 mph in most locations. "
   ]
  },
  {
   "cell_type": "markdown",
   "metadata": {},
   "source": [
    "## Linear Regression"
   ]
  },
  {
   "cell_type": "code",
   "execution_count": 29,
   "metadata": {},
   "outputs": [],
   "source": [
    "# Create northern hemisphere dataframe\n",
    "northern_df = weather_data[weather_data[\"Lat\"] >= 0]\n",
    "\n",
    "# Create southern hemisphere dataframe\n",
    "southern_df = weather_data[weather_data[\"Lat\"] < 0] "
   ]
  },
  {
   "cell_type": "markdown",
   "metadata": {},
   "source": [
    "####  Northern Hemisphere - Max Temp vs. Latitude Linear Regression"
   ]
  },
  {
   "cell_type": "code",
   "execution_count": 30,
   "metadata": {},
   "outputs": [
    {
     "name": "stdout",
     "output_type": "stream",
     "text": [
      "The r-value is: 0.7836449694423298\n"
     ]
    },
    {
     "data": {
      "image/png": "[encoded data removed]",
      "text/plain": [
       "<Figure size 432x288 with 1 Axes>"
      ]
     },
     "metadata": {
      "needs_background": "light"
     },
     "output_type": "display_data"
    }
   ],
   "source": [
    "# Generate scatter plot\n",
    "x_axis = northern_df[\"Lat\"]\n",
    "data = northern_df[\"Max Temp\"]\n",
    "plt.scatter(x_axis, data, marker=\"o\", facecolors=\"blue\", edgecolors=\"black\")\n",
    "\n",
    "# Complete linear regression \n",
    "(slope, intercept, rvalue, pvalue, stderr) = linregress(x_axis, data)\n",
    "regress_values = x_axis * slope + intercept\n",
    "line_eq = \"y= \" + str(round(slope, 2)) + \"x + \" + str(round(intercept, 2))\n",
    "plt.plot(x_axis, regress_values, \"r-\")\n",
    "plt.annotate(line_eq, (6,10), fontsize = 15, color = \"red\")\n",
    "\n",
    "# Format plot\n",
    "plt.title(f\"City Latitude vs. Max Temperature ({converted_weather_data_df[1]})\")\n",
    "plt.xlabel(\"Latitude\")\n",
    "plt.ylabel(\"Max Temperature (F)\")\n",
    "plt.grid()\n",
    "\n",
    "# Print correlation and plot \n",
    "print(f\"The r-value is: {rvalue**2}\")\n",
    "\n",
    "# Save figure \n",
    "plt.savefig(\"Images/North_Lat_MaxTemp.png\")\n",
    "\n",
    "plt.show()"
   ]
  },
  {
   "cell_type": "markdown",
   "metadata": {},
   "source": [
    "####  Southern Hemisphere - Max Temp vs. Latitude Linear Regression"
   ]
  },
  {
   "cell_type": "code",
   "execution_count": 31,
   "metadata": {},
   "outputs": [
    {
     "name": "stdout",
     "output_type": "stream",
     "text": [
      "The r-value is: 0.4635175250787851\n"
     ]
    },
    {
     "data": {
      "image/png": "[encoded data removed]",
      "text/plain": [
       "<Figure size 432x288 with 1 Axes>"
      ]
     },
     "metadata": {
      "needs_background": "light"
     },
     "output_type": "display_data"
    }
   ],
   "source": [
    "# Generate scatter plot\n",
    "x_axis = southern_df[\"Lat\"]\n",
    "data = southern_df[\"Max Temp\"]\n",
    "plt.scatter(x_axis, data, marker=\"o\", facecolors=\"blue\", edgecolors=\"black\")\n",
    "\n",
    "# Complete linear regression\n",
    "(slope, intercept, rvalue, pvalue, stderr) = linregress(x_axis, data)\n",
    "regress_values = x_axis * slope + intercept\n",
    "line_eq = \"y= \" + str(round(slope, 2)) + \"x + \" + str(round(intercept, 2))\n",
    "plt.plot(x_axis, regress_values, \"r-\")\n",
    "plt.annotate(line_eq, (-53,80), fontsize = 15, color = \"red\")\n",
    "\n",
    "# Format plot \n",
    "plt.title(f\"City Latitude vs. Max Temperature ({converted_weather_data_df[1]})\")\n",
    "plt.xlabel(\"Latitude\")\n",
    "plt.ylabel(\"Max Temperature (F)\")\n",
    "plt.grid()\n",
    "\n",
    "# Print correlation and plot\n",
    "print(f\"The r-value is: {rvalue**2}\")\n",
    "\n",
    "# Save figure \n",
    "plt.savefig(\"Images/South_Lat_MaxTemp.png\")\n",
    "plt.show()"
   ]
  },
  {
   "cell_type": "code",
   "execution_count": null,
   "metadata": {},
   "outputs": [],
   "source": [
    "## The two plots above analyze the relationship between latitude and max temperature in both the northern and southern hemispheres. \n",
    "## The graphs indicate that temperature and latitude are correlated - as we get closer to the equator, temperature rises. "
   ]
  },
  {
   "cell_type": "markdown",
   "metadata": {},
   "source": [
    "####  Northern Hemisphere - Humidity (%) vs. Latitude Linear Regression"
   ]
  },
  {
   "cell_type": "code",
   "execution_count": 32,
   "metadata": {},
   "outputs": [
    {
     "name": "stdout",
     "output_type": "stream",
     "text": [
      "The r-value is: 0.09268056767133999\n"
     ]
    },
    {
     "data": {
      "image/png": "[encoded data removed]",
      "text/plain": [
       "<Figure size 432x288 with 1 Axes>"
      ]
     },
     "metadata": {
      "needs_background": "light"
     },
     "output_type": "display_data"
    }
   ],
   "source": [
    "# Generate and format scatter plot\n",
    "x_axis = northern_df[\"Lat\"]\n",
    "data = northern_df[\"Humidity\"]\n",
    "plt.scatter(x_axis, data, marker=\"o\", facecolors=\"blue\", edgecolors=\"black\")\n",
    "\n",
    "# Complete linear regression\n",
    "(slope, intercept, rvalue, pvalue, stderr) = linregress(x_axis, data)\n",
    "regress_values = x_axis * slope + intercept\n",
    "line_eq = \"y= \" + str(round(slope, 2)) + \"x + \" + str(round(intercept, 2))\n",
    "plt.plot(x_axis, regress_values, \"r-\")\n",
    "plt.annotate(line_eq, (47,10), fontsize = 15, color = \"red\")\n",
    "\n",
    "# Format plot\n",
    "plt.title(f\"City Latitude vs. Humidity ({converted_weather_data_df[1]})\")\n",
    "plt.xlabel(\"Latitude\")\n",
    "plt.ylabel(\"Humidity (%)\")\n",
    "plt.grid()\n",
    "\n",
    "# Print correlation and plot\n",
    "print(f\"The r-value is: {rvalue**2}\")\n",
    "\n",
    "# Save figure \n",
    "plt.savefig(\"Images/North_Lat_Humidity.png\")\n",
    "\n",
    "plt.show()"
   ]
  },
  {
   "cell_type": "markdown",
   "metadata": {},
   "source": [
    "####  Southern Hemisphere - Humidity (%) vs. Latitude Linear Regression"
   ]
  },
  {
   "cell_type": "code",
   "execution_count": 33,
   "metadata": {},
   "outputs": [
    {
     "name": "stdout",
     "output_type": "stream",
     "text": [
      "The r-value is: 0.018711595300238998\n"
     ]
    },
    {
     "data": {
      "image/png": "[encoded data removed]",
      "text/plain": [
       "<Figure size 432x288 with 1 Axes>"
      ]
     },
     "metadata": {
      "needs_background": "light"
     },
     "output_type": "display_data"
    }
   ],
   "source": [
    "# Generate and format scatter plot\n",
    "x_axis = southern_df[\"Lat\"]\n",
    "data = southern_df[\"Humidity\"]\n",
    "plt.scatter(x_axis, data, marker=\"o\", facecolors=\"blue\", edgecolors=\"black\")\n",
    "\n",
    "# Complete linear regression\n",
    "(slope, intercept, rvalue, pvalue, stderr) = linregress(x_axis, data)\n",
    "regress_values = x_axis * slope + intercept\n",
    "line_eq = \"y= \" + str(round(slope, 2)) + \"x + \" + str(round(intercept, 2))\n",
    "plt.plot(x_axis, regress_values, \"r-\")\n",
    "plt.annotate(line_eq, (-50,30), fontsize = 15, color = \"red\")\n",
    "\n",
    "# Format plot \n",
    "plt.title(f\"City Latitude vs. Humidity ({converted_weather_data_df[1]})\")\n",
    "plt.xlabel(\"Latitude\")\n",
    "plt.ylabel(\"Humidity (%)\")\n",
    "plt.grid()\n",
    "\n",
    "# Print correlation and plot \n",
    "print(f\"The r-value is: {rvalue**2}\")\n",
    "\n",
    "# Save figure \n",
    "plt.savefig(\"Images/South_Lat_Humidity.png\")\n",
    "\n",
    "plt.show()"
   ]
  },
  {
   "cell_type": "code",
   "execution_count": null,
   "metadata": {},
   "outputs": [],
   "source": [
    "## The two plots above analyze the relationship between latitude and humidity in both the northern and southern hemispheres.  \n",
    "## The graphs indicate that within these locations, there is a mild positive correlation with latitude and humidity - with a stonger correlation in the northern hemisphere. "
   ]
  },
  {
   "cell_type": "markdown",
   "metadata": {},
   "source": [
    "####  Northern Hemisphere - Cloudiness (%) vs. Latitude Linear Regression"
   ]
  },
  {
   "cell_type": "code",
   "execution_count": 34,
   "metadata": {},
   "outputs": [
    {
     "name": "stdout",
     "output_type": "stream",
     "text": [
      "The r-value is: 0.015755766982135593\n"
     ]
    },
    {
     "data": {
      "image/png": "[encoded data removed]",
      "text/plain": [
       "<Figure size 432x288 with 1 Axes>"
      ]
     },
     "metadata": {
      "needs_background": "light"
     },
     "output_type": "display_data"
    }
   ],
   "source": [
    "# Generate and format scatter plot\n",
    "x_axis = northern_df[\"Lat\"]\n",
    "data = northern_df[\"Cloudiness\"]\n",
    "plt.scatter(x_axis, data, marker=\"o\", facecolors=\"blue\", edgecolors=\"black\")\n",
    "\n",
    "# Complete linear regression \n",
    "(slope, intercept, rvalue, pvalue, stderr) = linregress(x_axis, data)\n",
    "regress_values = x_axis * slope + intercept\n",
    "line_eq = \"y= \" + str(round(slope, 2)) + \"x + \" + str(round(intercept, 2))\n",
    "plt.plot(x_axis, regress_values, \"r-\")\n",
    "plt.annotate(line_eq, (6,12), fontsize = 15, color = \"red\")\n",
    "\n",
    "# Format plot\n",
    "plt.title(f\"City Latitude vs. Cloudiness ({converted_weather_data_df[1]})\")\n",
    "plt.xlabel(\"Latitude\")\n",
    "plt.ylabel(\"Cloudiness (%)\")\n",
    "plt.grid()\n",
    "\n",
    "# Print correlation and plot\n",
    "print(f\"The r-value is: {rvalue**2}\")\n",
    "\n",
    "# Save figure \n",
    "plt.savefig(\"Images/North_Lat_Cloud.png\")\n",
    "\n",
    "plt.show()"
   ]
  },
  {
   "cell_type": "markdown",
   "metadata": {},
   "source": [
    "####  Southern Hemisphere - Cloudiness (%) vs. Latitude Linear Regression"
   ]
  },
  {
   "cell_type": "code",
   "execution_count": 35,
   "metadata": {},
   "outputs": [
    {
     "name": "stdout",
     "output_type": "stream",
     "text": [
      "The r-value is: 0.049752443117894424\n"
     ]
    },
    {
     "data": {
      "image/png": "[encoded data removed]",
      "text/plain": [
       "<Figure size 432x288 with 1 Axes>"
      ]
     },
     "metadata": {
      "needs_background": "light"
     },
     "output_type": "display_data"
    }
   ],
   "source": [
    "# Generate and format scatter plot\n",
    "x_axis = southern_df[\"Lat\"]\n",
    "data = southern_df[\"Cloudiness\"]\n",
    "plt.scatter(x_axis, data, marker=\"o\", facecolors=\"blue\", edgecolors=\"black\")\n",
    "\n",
    "# Complete linear regression\n",
    "(slope, intercept, rvalue, pvalue, stderr) = linregress(x_axis, data)\n",
    "regress_values = x_axis * slope + intercept\n",
    "line_eq = \"y= \" + str(round(slope, 2)) + \"x + \" + str(round(intercept, 2))\n",
    "plt.plot(x_axis, regress_values, \"r-\")\n",
    "plt.annotate(line_eq, (-50,60), fontsize = 15, color = \"red\")\n",
    "\n",
    "# Format plot\n",
    "plt.title(f\"City Latitude vs. Cloudiness ({converted_weather_data_df[1]})\")\n",
    "plt.xlabel(\"Latitude\")\n",
    "plt.ylabel(\"Cloudiness (%)\")\n",
    "plt.grid()\n",
    "\n",
    "# Print correlation and plot\n",
    "print(f\"The r-value is: {rvalue**2}\")\n",
    "\n",
    "# Save figure \n",
    "plt.savefig(\"Images/South_Lat_Cloud.png\")\n",
    "\n",
    "plt.show()"
   ]
  },
  {
   "cell_type": "code",
   "execution_count": null,
   "metadata": {},
   "outputs": [],
   "source": [
    "## The two plots above analyze the relationship between latitude and cloudiness in both the northern and southern hemispheres. \n",
    "## The graphs indicate that cloudiness and latitude have a positive correlation on this day, with a stronger correlation in the southern hemisphere."
   ]
  },
  {
   "cell_type": "markdown",
   "metadata": {},
   "source": [
    "####  Northern Hemisphere - Wind Speed (mph) vs. Latitude Linear Regression"
   ]
  },
  {
   "cell_type": "code",
   "execution_count": 36,
   "metadata": {
    "scrolled": true
   },
   "outputs": [
    {
     "name": "stdout",
     "output_type": "stream",
     "text": [
      "The r-value is: 0.008015037741603068\n"
     ]
    },
    {
     "data": {
      "image/png": "[encoded data removed]",
      "text/plain": [
       "<Figure size 432x288 with 1 Axes>"
      ]
     },
     "metadata": {
      "needs_background": "light"
     },
     "output_type": "display_data"
    }
   ],
   "source": [
    "# Generate and format scatter plot\n",
    "x_axis = northern_df[\"Lat\"]\n",
    "data = northern_df[\"Wind Speed\"]\n",
    "plt.scatter(x_axis, data, marker=\"o\", facecolors=\"blue\", edgecolors=\"black\")\n",
    "\n",
    "# Complete linear regression\n",
    "(slope, intercept, rvalue, pvalue, stderr) = linregress(x_axis, data)\n",
    "regress_values = x_axis * slope + intercept\n",
    "line_eq = \"y= \" + str(round(slope, 2)) + \"x + \" + str(round(intercept, 2))\n",
    "plt.plot(x_axis, regress_values, \"r-\")\n",
    "plt.annotate(line_eq, (20,27), fontsize = 15, color = \"red\")\n",
    "\n",
    "# Format plot\n",
    "plt.title(f\"City Latitude vs. Wind Speed ({converted_weather_data_df[1]})\")\n",
    "plt.xlabel(\"Latitude\")\n",
    "plt.ylabel(\"Wind Speed (mph)\")\n",
    "plt.grid()\n",
    "\n",
    "# Print correlation and plot \n",
    "print(f\"The r-value is: {rvalue**2}\")\n",
    "\n",
    "# Save figure \n",
    "plt.savefig(\"Images/North_Lat_WindSpeed.png\")\n",
    "\n",
    "plt.show()"
   ]
  },
  {
   "cell_type": "markdown",
   "metadata": {},
   "source": [
    "####  Southern Hemisphere - Wind Speed (mph) vs. Latitude Linear Regression"
   ]
  },
  {
   "cell_type": "code",
   "execution_count": 37,
   "metadata": {},
   "outputs": [
    {
     "name": "stdout",
     "output_type": "stream",
     "text": [
      "The r-value is: 0.012153834530586261\n"
     ]
    },
    {
     "data": {
      "image/png": "[encoded data removed]",
      "text/plain": [
       "<Figure size 432x288 with 1 Axes>"
      ]
     },
     "metadata": {
      "needs_background": "light"
     },
     "output_type": "display_data"
    }
   ],
   "source": [
    "# Generate and format scatter plot\n",
    "x_axis = southern_df[\"Lat\"]\n",
    "data = southern_df[\"Wind Speed\"]\n",
    "plt.scatter(x_axis, data, marker=\"o\", facecolors=\"blue\", edgecolors=\"black\")\n",
    "\n",
    "# Complete linear regression\n",
    "(slope, intercept, rvalue, pvalue, stderr) = linregress(x_axis, data)\n",
    "regress_values = x_axis * slope + intercept\n",
    "line_eq = \"y= \" + str(round(slope, 2)) + \"x + \" + str(round(intercept, 2))\n",
    "plt.plot(x_axis, regress_values, \"r-\")\n",
    "plt.annotate(line_eq, (-20, 25), fontsize = 15, color = \"red\")\n",
    "\n",
    "# Format plot\n",
    "plt.title(f\"City Latitude vs. Wind Speed ({converted_weather_data_df[1]})\")\n",
    "plt.xlabel(\"Latitude\")\n",
    "plt.ylabel(\"Wind Speed (mph)\")\n",
    "plt.grid()\n",
    "\n",
    "# Print correlation and plot \n",
    "print(f\"The r-value is: {rvalue**2}\")\n",
    "\n",
    "# Save figure \n",
    "plt.savefig(\"Images/South_Lat_WindSpeed.png\")\n",
    "\n",
    "plt.show()"
   ]
  },
  {
   "cell_type": "code",
   "execution_count": null,
   "metadata": {},
   "outputs": [],
   "source": [
    "## The two plots above analyze the relationship between latitude and wind speed in both the northern and southern hemispheres. \n",
    "## The graphs indicate that wind speed remains below 15% in the majority of locations - with a larger amount of cities in this dataset existing in the northern hemisphere. There is a slightly positive correlation in the northern hemisphere and slightly negative correlation in the southern hemisphere. "
   ]
  }
 ],
 "metadata": {
  "anaconda-cloud": {},
  "kernel_info": {
   "name": "python3"
  },
  "kernelspec": {
   "display_name": "Python [conda env:PythonData] *",
   "language": "python",
   "name": "conda-env-PythonData-py"
  },
  "language_info": {
   "codemirror_mode": {
    "name": "ipython",
    "version": 3
   },
   "file_extension": ".py",
   "mimetype": "text/x-python",
   "name": "python",
   "nbconvert_exporter": "python",
   "pygments_lexer": "ipython3",
   "version": "3.6.10"
  },
  "latex_envs": {
   "LaTeX_envs_menu_present": true,
   "autoclose": false,
   "autocomplete": true,
   "bibliofile": "biblio.bib",
   "cite_by": "apalike",
   "current_citInitial": 1,
   "eqLabelWithNumbers": true,
   "eqNumInitial": 1,
   "hotkeys": {
    "equation": "Ctrl-E",
    "itemize": "Ctrl-I"
   },
   "labels_anchors": false,
   "latex_user_defs": false,
   "report_style_numbering": false,
   "user_envs_cfg": false
  },
  "nteract": {
   "version": "0.12.3"
  }
 },
 "nbformat": 4,
 "nbformat_minor": 2
}
