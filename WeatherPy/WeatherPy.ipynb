{
 "cells": [
  {
   "cell_type": "markdown",
   "metadata": {},
   "source": [
    "# WeatherPy\n",
    "----\n",
    "\n",
    "#### Note\n",
    "* Instructions have been included for each segment. You do not have to follow them exactly, but they are included to help you think through the steps."
   ]
  },
  {
   "cell_type": "code",
   "execution_count": 1,
   "metadata": {
    "scrolled": true
   },
   "outputs": [],
   "source": [
    "# Dependencies and Setup\n",
    "import matplotlib.pyplot as plt\n",
    "import pandas as pd\n",
    "import numpy as np\n",
    "import requests\n",
    "import time\n",
    "from scipy.stats import linregress\n",
    "import datetime\n",
    "import scipy.stats as st\n",
    "\n",
    "# Import API key\n",
    "from api_keys import weather_api_key\n",
    "\n",
    "# Incorporated citipy to determine city based on latitude and longitude\n",
    "from citipy import citipy\n",
    "\n",
    "# Output File (CSV)\n",
    "output_data_file = \"output_data/cities.csv\"\n",
    "\n",
    "# Range of latitudes and longitudes\n",
    "lat_range = (-90, 90)\n",
    "lng_range = (-180, 180)"
   ]
  },
  {
   "cell_type": "markdown",
   "metadata": {},
   "source": [
    "## Generate Cities List"
   ]
  },
  {
   "cell_type": "code",
   "execution_count": 2,
   "metadata": {},
   "outputs": [
    {
     "data": {
      "text/plain": [
       "585"
      ]
     },
     "execution_count": 2,
     "metadata": {},
     "output_type": "execute_result"
    }
   ],
   "source": [
    "# List for holding lat_lngs and cities\n",
    "lat_lngs = []\n",
    "cities = []\n",
    "\n",
    "# Create a set of random lat and lng combinations\n",
    "lats = np.random.uniform(lat_range[0], lat_range[1], size=1500)\n",
    "lngs = np.random.uniform(lng_range[0], lng_range[1], size=1500)\n",
    "lat_lngs = zip(lats, lngs)\n",
    "\n",
    "# Identify nearest city for each lat, lng combination\n",
    "for lat_lng in lat_lngs:\n",
    "    city = citipy.nearest_city(lat_lng[0], lat_lng[1]).city_name\n",
    "    \n",
    "    # If the city is unique, then add it to a our cities list\n",
    "    if city not in cities:\n",
    "        cities.append(city)\n",
    "\n",
    "# Print the city count to confirm sufficient count\n",
    "len(cities)"
   ]
  },
  {
   "cell_type": "markdown",
   "metadata": {},
   "source": [
    "### Perform API Calls\n",
    "* Perform a weather check on each city using a series of successive API calls.\n",
    "* Include a print log of each city as it'sbeing processed (with the city number and city name).\n"
   ]
  },
  {
   "cell_type": "code",
   "execution_count": 3,
   "metadata": {},
   "outputs": [],
   "source": [
    "## Identify url and units\n",
    "url = \"http://api.openweathermap.org/data/2.5/weather?\"\n",
    "units = \"imperial\"\n",
    "\n",
    "# Build partial query URL\n",
    "query_url = f\"{url}appid={weather_api_key}&units={units}&q=\""
   ]
  },
  {
   "cell_type": "code",
   "execution_count": 4,
   "metadata": {
    "scrolled": false
   },
   "outputs": [
    {
     "name": "stdout",
     "output_type": "stream",
     "text": [
      "----------------------------\n",
      "Beginning Data Retrieval\n",
      "----------------------------\n",
      "Processing Record 1 of Set 1 | mahibadhoo.\n",
      "Processing Record 2 of Set 1 | puerto ayora.\n",
      "Processing Record 3 of Set 1 | trinidad.\n",
      "Processing Record 4 of Set 1 | namagiripettai.\n",
      "City not found. Skipping...\n",
      "Processing Record 5 of Set 1 | muana.\n",
      "Processing Record 6 of Set 1 | voyvozh.\n",
      "Processing Record 7 of Set 1 | fallon.\n",
      "City not found. Skipping...\n",
      "Processing Record 8 of Set 1 | bonthe.\n",
      "Processing Record 9 of Set 1 | palmer.\n",
      "Processing Record 10 of Set 1 | ushuaia.\n",
      "Processing Record 11 of Set 1 | dikson.\n",
      "Processing Record 12 of Set 1 | nikolskoye.\n",
      "Processing Record 13 of Set 1 | coruripe.\n",
      "Processing Record 14 of Set 1 | butaritari.\n",
      "Processing Record 15 of Set 1 | bathsheba.\n",
      "Processing Record 16 of Set 1 | coihaique.\n",
      "Processing Record 17 of Set 1 | chokurdakh.\n",
      "Processing Record 18 of Set 1 | naze.\n",
      "Processing Record 19 of Set 1 | ostrovnoy.\n",
      "Processing Record 20 of Set 1 | ponta do sol.\n",
      "Processing Record 21 of Set 1 | klaksvik.\n",
      "Processing Record 22 of Set 1 | nishihara.\n",
      "Processing Record 23 of Set 1 | barcelos.\n",
      "Processing Record 24 of Set 1 | asau.\n",
      "Processing Record 25 of Set 1 | jamestown.\n",
      "Processing Record 26 of Set 1 | la ronge.\n",
      "Processing Record 27 of Set 1 | rikitea.\n",
      "Processing Record 28 of Set 1 | tiksi.\n",
      "Processing Record 29 of Set 1 | vaini.\n",
      "Processing Record 30 of Set 1 | berlevag.\n",
      "Processing Record 31 of Set 1 | khatanga.\n",
      "City not found. Skipping...\n",
      "Processing Record 32 of Set 1 | havoysund.\n",
      "Processing Record 33 of Set 1 | usinsk.\n",
      "Processing Record 34 of Set 1 | bilibino.\n",
      "Processing Record 35 of Set 1 | camacha.\n",
      "Processing Record 36 of Set 1 | punta arenas.\n",
      "Processing Record 37 of Set 1 | tuatapere.\n",
      "Processing Record 38 of Set 1 | east london.\n",
      "Processing Record 39 of Set 1 | albany.\n",
      "Processing Record 40 of Set 1 | raudeberg.\n",
      "Processing Record 41 of Set 1 | bredasdorp.\n",
      "Processing Record 42 of Set 1 | yaan.\n",
      "Processing Record 43 of Set 1 | sao joao da barra.\n",
      "Processing Record 44 of Set 1 | saskylakh.\n",
      "Processing Record 45 of Set 1 | atuona.\n",
      "Processing Record 46 of Set 1 | corsicana.\n",
      "Processing Record 47 of Set 1 | siljan.\n",
      "Processing Record 48 of Set 1 | hobart.\n",
      "Processing Record 49 of Set 1 | port moresby.\n",
      "Processing Record 50 of Set 1 | tuktoyaktuk.\n",
      "Processing Record 1 of Set 2 | kapaa.\n",
      "Processing Record 2 of Set 2 | hilo.\n",
      "Processing Record 3 of Set 2 | axim.\n",
      "Processing Record 4 of Set 2 | vaitape.\n",
      "City not found. Skipping...\n",
      "Processing Record 5 of Set 2 | tucuma.\n",
      "City not found. Skipping...\n",
      "City not found. Skipping...\n",
      "Processing Record 6 of Set 2 | cabedelo.\n",
      "Processing Record 7 of Set 2 | adre.\n",
      "Processing Record 8 of Set 2 | barrow.\n",
      "Processing Record 9 of Set 2 | russellville.\n",
      "Processing Record 10 of Set 2 | qaanaaq.\n",
      "Processing Record 11 of Set 2 | caravelas.\n",
      "Processing Record 12 of Set 2 | mataura.\n",
      "City not found. Skipping...\n",
      "Processing Record 13 of Set 2 | new norfolk.\n",
      "Processing Record 14 of Set 2 | bagdarin.\n",
      "Processing Record 15 of Set 2 | takahashi.\n",
      "Processing Record 16 of Set 2 | biltine.\n",
      "Processing Record 17 of Set 2 | lagoa.\n",
      "Processing Record 18 of Set 2 | pevek.\n",
      "Processing Record 19 of Set 2 | troitsko-pechorsk.\n",
      "City not found. Skipping...\n",
      "Processing Record 20 of Set 2 | castro.\n",
      "City not found. Skipping...\n",
      "Processing Record 21 of Set 2 | yumen.\n",
      "Processing Record 22 of Set 2 | daru.\n",
      "Processing Record 23 of Set 2 | talaja.\n",
      "Processing Record 24 of Set 2 | sokna.\n",
      "Processing Record 25 of Set 2 | silute.\n",
      "Processing Record 26 of Set 2 | aitape.\n",
      "Processing Record 27 of Set 2 | srednekolymsk.\n",
      "Processing Record 28 of Set 2 | toora-khem.\n",
      "Processing Record 29 of Set 2 | flinders.\n",
      "Processing Record 30 of Set 2 | glazov.\n",
      "Processing Record 31 of Set 2 | bansko.\n",
      "Processing Record 32 of Set 2 | bambanglipuro.\n",
      "Processing Record 33 of Set 2 | ulaangom.\n",
      "Processing Record 34 of Set 2 | leningradskiy.\n",
      "Processing Record 35 of Set 2 | paragominas.\n",
      "Processing Record 36 of Set 2 | davila.\n",
      "Processing Record 37 of Set 2 | havre-saint-pierre.\n",
      "Processing Record 38 of Set 2 | avarua.\n",
      "Processing Record 39 of Set 2 | chuy.\n",
      "Processing Record 40 of Set 2 | cape town.\n",
      "Processing Record 41 of Set 2 | dingle.\n",
      "Processing Record 42 of Set 2 | port alfred.\n",
      "Processing Record 43 of Set 2 | shilka.\n",
      "Processing Record 44 of Set 2 | nanortalik.\n",
      "Processing Record 45 of Set 2 | isangel.\n",
      "Processing Record 46 of Set 2 | ekibastuz.\n",
      "Processing Record 47 of Set 2 | hithadhoo.\n",
      "Processing Record 48 of Set 2 | swift current.\n",
      "Processing Record 49 of Set 2 | airai.\n",
      "Processing Record 50 of Set 2 | korla.\n",
      "Processing Record 1 of Set 3 | grindavik.\n",
      "Processing Record 2 of Set 3 | khakhea.\n",
      "City not found. Skipping...\n",
      "Processing Record 3 of Set 3 | kismayo.\n",
      "Processing Record 4 of Set 3 | margate.\n",
      "Processing Record 5 of Set 3 | katsuura.\n",
      "Processing Record 6 of Set 3 | kodiak.\n",
      "Processing Record 7 of Set 3 | te anau.\n",
      "Processing Record 8 of Set 3 | sao filipe.\n",
      "City not found. Skipping...\n",
      "Processing Record 9 of Set 3 | hermanus.\n",
      "Processing Record 10 of Set 3 | haines junction.\n",
      "Processing Record 11 of Set 3 | ilhabela.\n",
      "Processing Record 12 of Set 3 | akureyri.\n",
      "Processing Record 13 of Set 3 | naberera.\n",
      "Processing Record 14 of Set 3 | bluff.\n",
      "Processing Record 15 of Set 3 | qingdao.\n",
      "Processing Record 16 of Set 3 | lata.\n",
      "Processing Record 17 of Set 3 | puro.\n",
      "Processing Record 18 of Set 3 | geraldton.\n",
      "Processing Record 19 of Set 3 | bethel.\n",
      "Processing Record 20 of Set 3 | san cristobal.\n",
      "Processing Record 21 of Set 3 | pisco.\n",
      "Processing Record 22 of Set 3 | maceio.\n",
      "City not found. Skipping...\n",
      "Processing Record 23 of Set 3 | bambous virieux.\n",
      "Processing Record 24 of Set 3 | gorontalo.\n",
      "Processing Record 25 of Set 3 | victoria.\n",
      "Processing Record 26 of Set 3 | souillac.\n",
      "City not found. Skipping...\n",
      "Processing Record 27 of Set 3 | camana.\n",
      "City not found. Skipping...\n",
      "Processing Record 28 of Set 3 | deputatskiy.\n",
      "City not found. Skipping...\n",
      "Processing Record 29 of Set 3 | salalah.\n",
      "Processing Record 30 of Set 3 | puerto escondido.\n",
      "Processing Record 31 of Set 3 | bezhetsk.\n",
      "Processing Record 32 of Set 3 | bima.\n",
      "Processing Record 33 of Set 3 | qaqortoq.\n",
      "Processing Record 34 of Set 3 | busselton.\n",
      "City not found. Skipping...\n",
      "Processing Record 35 of Set 3 | esperance.\n",
      "Processing Record 36 of Set 3 | georgetown.\n",
      "Processing Record 37 of Set 3 | skelleftea.\n",
      "Processing Record 38 of Set 3 | mahebourg.\n",
      "Processing Record 39 of Set 3 | robat karim.\n",
      "Processing Record 40 of Set 3 | oksfjord.\n",
      "Processing Record 41 of Set 3 | mayo.\n",
      "Processing Record 42 of Set 3 | padang.\n",
      "Processing Record 43 of Set 3 | alofi.\n",
      "Processing Record 44 of Set 3 | saint-augustin.\n",
      "Processing Record 45 of Set 3 | tucuman.\n",
      "Processing Record 46 of Set 3 | saldanha.\n",
      "City not found. Skipping...\n",
      "Processing Record 47 of Set 3 | kidal.\n",
      "Processing Record 48 of Set 3 | pine bluff.\n",
      "Processing Record 49 of Set 3 | lorengau.\n",
      "Processing Record 50 of Set 3 | sulangan.\n",
      "Processing Record 1 of Set 4 | carnarvon.\n",
      "Processing Record 2 of Set 4 | norman wells.\n",
      "Processing Record 3 of Set 4 | smithers.\n",
      "Processing Record 4 of Set 4 | cayenne.\n",
      "Processing Record 5 of Set 4 | mar del plata.\n",
      "Processing Record 6 of Set 4 | kuusamo.\n",
      "Processing Record 7 of Set 4 | arraial do cabo.\n",
      "Processing Record 8 of Set 4 | zhangzhou.\n",
      "Processing Record 9 of Set 4 | codrington.\n",
      "Processing Record 10 of Set 4 | cockburn town.\n",
      "Processing Record 11 of Set 4 | saint-pierre.\n",
      "Processing Record 12 of Set 4 | mehran.\n",
      "Processing Record 13 of Set 4 | ribeira grande.\n",
      "Processing Record 14 of Set 4 | najran.\n",
      "Processing Record 15 of Set 4 | les cayes.\n",
      "Processing Record 16 of Set 4 | pangody.\n",
      "Processing Record 17 of Set 4 | mahon.\n",
      "Processing Record 18 of Set 4 | minyar.\n",
      "City not found. Skipping...\n",
      "Processing Record 19 of Set 4 | akyab.\n",
      "Processing Record 20 of Set 4 | upernavik.\n",
      "Processing Record 21 of Set 4 | presidencia roque saenz pena.\n",
      "Processing Record 22 of Set 4 | alta floresta.\n",
      "Processing Record 23 of Set 4 | prince rupert.\n",
      "Processing Record 24 of Set 4 | stornoway.\n",
      "City not found. Skipping...\n",
      "Processing Record 25 of Set 4 | severo-kurilsk.\n",
      "Processing Record 26 of Set 4 | bloomingdale.\n",
      "Processing Record 27 of Set 4 | iqaluit.\n",
      "Processing Record 28 of Set 4 | hasaki.\n",
      "City not found. Skipping...\n",
      "Processing Record 29 of Set 4 | tasiilaq.\n"
     ]
    },
    {
     "name": "stdout",
     "output_type": "stream",
     "text": [
      "Processing Record 30 of Set 4 | san patricio.\n",
      "Processing Record 31 of Set 4 | viedma.\n",
      "Processing Record 32 of Set 4 | addis abeba.\n",
      "City not found. Skipping...\n",
      "Processing Record 33 of Set 4 | maku.\n",
      "Processing Record 34 of Set 4 | basco.\n",
      "Processing Record 35 of Set 4 | petropavlovsk-kamchatskiy.\n",
      "Processing Record 36 of Set 4 | kenai.\n",
      "Processing Record 37 of Set 4 | lavrentiya.\n",
      "Processing Record 38 of Set 4 | varzelandia.\n",
      "Processing Record 39 of Set 4 | olafsvik.\n",
      "Processing Record 40 of Set 4 | tuy hoa.\n",
      "Processing Record 41 of Set 4 | takoradi.\n",
      "Processing Record 42 of Set 4 | umm kaddadah.\n",
      "Processing Record 43 of Set 4 | vrable.\n",
      "Processing Record 44 of Set 4 | cairns.\n",
      "Processing Record 45 of Set 4 | baswa.\n",
      "Processing Record 46 of Set 4 | lebu.\n",
      "Processing Record 47 of Set 4 | cherskiy.\n",
      "Processing Record 48 of Set 4 | surt.\n",
      "Processing Record 49 of Set 4 | sorland.\n",
      "City not found. Skipping...\n",
      "Processing Record 50 of Set 4 | kargasok.\n",
      "City not found. Skipping...\n",
      "Processing Record 1 of Set 5 | harper.\n",
      "Processing Record 2 of Set 5 | soyo.\n",
      "Processing Record 3 of Set 5 | komsomolskiy.\n",
      "Processing Record 4 of Set 5 | mount gambier.\n",
      "Processing Record 5 of Set 5 | kaitangata.\n",
      "Processing Record 6 of Set 5 | clones.\n",
      "City not found. Skipping...\n",
      "Processing Record 7 of Set 5 | vestmannaeyjar.\n",
      "Processing Record 8 of Set 5 | namibe.\n",
      "Processing Record 9 of Set 5 | labuhan.\n",
      "Processing Record 10 of Set 5 | matagami.\n",
      "Processing Record 11 of Set 5 | turtas.\n",
      "Processing Record 12 of Set 5 | vihari.\n",
      "Processing Record 13 of Set 5 | cidreira.\n",
      "Processing Record 14 of Set 5 | hambantota.\n",
      "Processing Record 15 of Set 5 | sijunjung.\n",
      "City not found. Skipping...\n",
      "Processing Record 16 of Set 5 | husavik.\n",
      "Processing Record 17 of Set 5 | lazaro cardenas.\n",
      "Processing Record 18 of Set 5 | port elizabeth.\n",
      "Processing Record 19 of Set 5 | atbasar.\n",
      "City not found. Skipping...\n",
      "Processing Record 20 of Set 5 | dryden.\n",
      "Processing Record 21 of Set 5 | poronaysk.\n",
      "Processing Record 22 of Set 5 | bud.\n",
      "Processing Record 23 of Set 5 | kieta.\n",
      "Processing Record 24 of Set 5 | teya.\n",
      "Processing Record 25 of Set 5 | tual.\n",
      "Processing Record 26 of Set 5 | mitu.\n",
      "Processing Record 27 of Set 5 | tubuala.\n",
      "Processing Record 28 of Set 5 | fairbanks.\n",
      "Processing Record 29 of Set 5 | portland.\n",
      "Processing Record 30 of Set 5 | mackay.\n",
      "Processing Record 31 of Set 5 | elko.\n",
      "Processing Record 32 of Set 5 | aripuana.\n",
      "Processing Record 33 of Set 5 | upington.\n",
      "Processing Record 34 of Set 5 | annau.\n",
      "Processing Record 35 of Set 5 | waitara.\n",
      "Processing Record 36 of Set 5 | carutapera.\n",
      "City not found. Skipping...\n",
      "Processing Record 37 of Set 5 | pimenteiras.\n",
      "Processing Record 38 of Set 5 | kalat.\n",
      "Processing Record 39 of Set 5 | iberia.\n",
      "Processing Record 40 of Set 5 | borogontsy.\n",
      "Processing Record 41 of Set 5 | beitbridge.\n",
      "Processing Record 42 of Set 5 | luderitz.\n",
      "Processing Record 43 of Set 5 | saint-philippe.\n",
      "Processing Record 44 of Set 5 | marsh harbour.\n",
      "Processing Record 45 of Set 5 | clyde river.\n",
      "Processing Record 46 of Set 5 | liwale.\n",
      "Processing Record 47 of Set 5 | xining.\n",
      "Processing Record 48 of Set 5 | moron.\n",
      "Processing Record 49 of Set 5 | evensk.\n",
      "Processing Record 50 of Set 5 | mazatlan.\n",
      "Processing Record 1 of Set 6 | weyburn.\n",
      "Processing Record 2 of Set 6 | alanya.\n",
      "Processing Record 3 of Set 6 | meulaboh.\n",
      "Processing Record 4 of Set 6 | fort nelson.\n",
      "Processing Record 5 of Set 6 | aksarayskiy.\n",
      "Processing Record 6 of Set 6 | coxim.\n",
      "Processing Record 7 of Set 6 | omagh.\n",
      "Processing Record 8 of Set 6 | malindi.\n",
      "Processing Record 9 of Set 6 | ust-maya.\n",
      "Processing Record 10 of Set 6 | touros.\n",
      "Processing Record 11 of Set 6 | andenes.\n",
      "Processing Record 12 of Set 6 | buchanan.\n",
      "Processing Record 13 of Set 6 | kluang.\n",
      "Processing Record 14 of Set 6 | banda aceh.\n",
      "Processing Record 15 of Set 6 | alice springs.\n",
      "Processing Record 16 of Set 6 | vung tau.\n",
      "Processing Record 17 of Set 6 | havelock.\n",
      "City not found. Skipping...\n",
      "Processing Record 18 of Set 6 | skibbereen.\n",
      "Processing Record 19 of Set 6 | mpika.\n",
      "Processing Record 20 of Set 6 | cacu.\n",
      "Processing Record 21 of Set 6 | vostok.\n",
      "Processing Record 22 of Set 6 | port blair.\n",
      "Processing Record 23 of Set 6 | cabo san lucas.\n",
      "Processing Record 24 of Set 6 | egvekinot.\n",
      "Processing Record 25 of Set 6 | bengkulu.\n",
      "Processing Record 26 of Set 6 | yuli.\n",
      "Processing Record 27 of Set 6 | thompson.\n",
      "Processing Record 28 of Set 6 | pontal do parana.\n",
      "Processing Record 29 of Set 6 | san quintin.\n",
      "Processing Record 30 of Set 6 | sioux lookout.\n",
      "Processing Record 31 of Set 6 | zaragoza.\n",
      "Processing Record 32 of Set 6 | torbay.\n",
      "Processing Record 33 of Set 6 | anadyr.\n",
      "Processing Record 34 of Set 6 | marienburg.\n",
      "Processing Record 35 of Set 6 | broken hill.\n",
      "Processing Record 36 of Set 6 | constitucion.\n",
      "Processing Record 37 of Set 6 | abu dhabi.\n",
      "Processing Record 38 of Set 6 | sola.\n",
      "City not found. Skipping...\n",
      "Processing Record 39 of Set 6 | yellowknife.\n",
      "Processing Record 40 of Set 6 | outlook.\n",
      "Processing Record 41 of Set 6 | saint anthony.\n",
      "Processing Record 42 of Set 6 | weihe.\n",
      "Processing Record 43 of Set 6 | vila franca do campo.\n",
      "Processing Record 44 of Set 6 | sjenica.\n",
      "Processing Record 45 of Set 6 | kinablangan.\n",
      "Processing Record 46 of Set 6 | kulhudhuffushi.\n",
      "Processing Record 47 of Set 6 | bay roberts.\n",
      "Processing Record 48 of Set 6 | ancud.\n",
      "Processing Record 49 of Set 6 | aklavik.\n",
      "Processing Record 50 of Set 6 | magadan.\n",
      "Processing Record 1 of Set 7 | cravo norte.\n",
      "Processing Record 2 of Set 7 | olean.\n",
      "Processing Record 3 of Set 7 | sao lourenco do sul.\n",
      "Processing Record 4 of Set 7 | kutum.\n",
      "Processing Record 5 of Set 7 | trelew.\n",
      "Processing Record 6 of Set 7 | shihezi.\n",
      "Processing Record 7 of Set 7 | shache.\n",
      "Processing Record 8 of Set 7 | saratoga springs.\n",
      "City not found. Skipping...\n",
      "Processing Record 9 of Set 7 | gusau.\n",
      "Processing Record 10 of Set 7 | fukuma.\n",
      "Processing Record 11 of Set 7 | bataipora.\n",
      "Processing Record 12 of Set 7 | maumere.\n",
      "Processing Record 13 of Set 7 | ilam.\n",
      "Processing Record 14 of Set 7 | ilulissat.\n",
      "Processing Record 15 of Set 7 | kununurra.\n",
      "Processing Record 16 of Set 7 | sitka.\n",
      "Processing Record 17 of Set 7 | parabel.\n",
      "Processing Record 18 of Set 7 | lenzburg.\n",
      "Processing Record 19 of Set 7 | manicore.\n",
      "Processing Record 20 of Set 7 | ujfeherto.\n",
      "Processing Record 21 of Set 7 | santa helena.\n",
      "Processing Record 22 of Set 7 | roald.\n",
      "Processing Record 23 of Set 7 | kavieng.\n",
      "City not found. Skipping...\n",
      "Processing Record 24 of Set 7 | shelburne.\n",
      "Processing Record 25 of Set 7 | ponta delgada.\n",
      "Processing Record 26 of Set 7 | maibong.\n",
      "Processing Record 27 of Set 7 | nabire.\n",
      "Processing Record 28 of Set 7 | pacific grove.\n",
      "Processing Record 29 of Set 7 | muret.\n",
      "Processing Record 30 of Set 7 | la palma.\n",
      "Processing Record 31 of Set 7 | iwanai.\n",
      "Processing Record 32 of Set 7 | pahrump.\n",
      "Processing Record 33 of Set 7 | guerrero negro.\n",
      "Processing Record 34 of Set 7 | cobija.\n",
      "City not found. Skipping...\n",
      "Processing Record 35 of Set 7 | vallenar.\n",
      "Processing Record 36 of Set 7 | ucluelet.\n",
      "Processing Record 37 of Set 7 | sobolevo.\n",
      "Processing Record 38 of Set 7 | blagoyevo.\n",
      "Processing Record 39 of Set 7 | datong.\n",
      "Processing Record 40 of Set 7 | turukhansk.\n",
      "Processing Record 41 of Set 7 | baley.\n",
      "Processing Record 42 of Set 7 | kiunga.\n",
      "Processing Record 43 of Set 7 | dunedin.\n",
      "Processing Record 44 of Set 7 | podor.\n",
      "City not found. Skipping...\n",
      "Processing Record 45 of Set 7 | fortuna.\n",
      "Processing Record 46 of Set 7 | greymouth.\n",
      "Processing Record 47 of Set 7 | kahului.\n",
      "Processing Record 48 of Set 7 | amarillo.\n",
      "City not found. Skipping...\n",
      "Processing Record 49 of Set 7 | bulgan.\n",
      "Processing Record 50 of Set 7 | gwanda.\n",
      "Processing Record 1 of Set 8 | hailun.\n",
      "Processing Record 2 of Set 8 | provideniya.\n",
      "Processing Record 3 of Set 8 | lompoc.\n",
      "Processing Record 4 of Set 8 | oeiras do para.\n",
      "Processing Record 5 of Set 8 | saint-joseph.\n",
      "Processing Record 6 of Set 8 | broome.\n",
      "Processing Record 7 of Set 8 | whitehorse.\n",
      "Processing Record 8 of Set 8 | vanimo.\n",
      "Processing Record 9 of Set 8 | ahipara.\n",
      "Processing Record 10 of Set 8 | tautira.\n",
      "Processing Record 11 of Set 8 | coquimbo.\n",
      "City not found. Skipping...\n",
      "Processing Record 12 of Set 8 | camalu.\n",
      "Processing Record 13 of Set 8 | hamilton.\n",
      "Processing Record 14 of Set 8 | taseyevo.\n",
      "Processing Record 15 of Set 8 | mehamn.\n"
     ]
    },
    {
     "name": "stdout",
     "output_type": "stream",
     "text": [
      "Processing Record 16 of Set 8 | kroya.\n",
      "Processing Record 17 of Set 8 | canaries.\n",
      "Processing Record 18 of Set 8 | santa maria.\n",
      "Processing Record 19 of Set 8 | aketi.\n",
      "Processing Record 20 of Set 8 | port-gentil.\n",
      "Processing Record 21 of Set 8 | tessalit.\n",
      "Processing Record 22 of Set 8 | oyama.\n",
      "City not found. Skipping...\n",
      "Processing Record 23 of Set 8 | mbengwi.\n",
      "Processing Record 24 of Set 8 | puri.\n",
      "Processing Record 25 of Set 8 | plekhanovo.\n",
      "Processing Record 26 of Set 8 | cap malheureux.\n",
      "Processing Record 27 of Set 8 | faanui.\n",
      "Processing Record 28 of Set 8 | kruisfontein.\n",
      "City not found. Skipping...\n",
      "Processing Record 29 of Set 8 | tigzirt.\n",
      "Processing Record 30 of Set 8 | gland.\n",
      "Processing Record 31 of Set 8 | hoi an.\n",
      "Processing Record 32 of Set 8 | ahuimanu.\n",
      "City not found. Skipping...\n",
      "Processing Record 33 of Set 8 | webuye.\n",
      "Processing Record 34 of Set 8 | lufilufi.\n",
      "Processing Record 35 of Set 8 | semporna.\n",
      "Processing Record 36 of Set 8 | leticia.\n",
      "Processing Record 37 of Set 8 | plover.\n",
      "Processing Record 38 of Set 8 | hede.\n",
      "Processing Record 39 of Set 8 | christchurch.\n",
      "Processing Record 40 of Set 8 | yining.\n",
      "Processing Record 41 of Set 8 | hearst.\n",
      "Processing Record 42 of Set 8 | faya.\n",
      "Processing Record 43 of Set 8 | gobabis.\n",
      "Processing Record 44 of Set 8 | zhanaozen.\n",
      "Processing Record 45 of Set 8 | sao jose da coroa grande.\n",
      "Processing Record 46 of Set 8 | maseru.\n",
      "Processing Record 47 of Set 8 | mehriz.\n",
      "Processing Record 48 of Set 8 | ossora.\n",
      "Processing Record 49 of Set 8 | rongcheng.\n",
      "Processing Record 50 of Set 8 | manaus.\n",
      "Processing Record 1 of Set 9 | port arthur.\n",
      "City not found. Skipping...\n",
      "Processing Record 2 of Set 9 | saint-francois.\n",
      "Processing Record 3 of Set 9 | muromtsevo.\n",
      "City not found. Skipping...\n",
      "Processing Record 4 of Set 9 | bucak.\n",
      "Processing Record 5 of Set 9 | behbahan.\n",
      "Processing Record 6 of Set 9 | maneromango.\n",
      "Processing Record 7 of Set 9 | puerto quijarro.\n",
      "Processing Record 8 of Set 9 | ankazoabo.\n",
      "Processing Record 9 of Set 9 | saryozek.\n",
      "Processing Record 10 of Set 9 | beringovskiy.\n",
      "Processing Record 11 of Set 9 | songjianghe.\n",
      "Processing Record 12 of Set 9 | bandarbeyla.\n",
      "Processing Record 13 of Set 9 | colesberg.\n",
      "Processing Record 14 of Set 9 | develi.\n",
      "Processing Record 15 of Set 9 | keskin.\n",
      "Processing Record 16 of Set 9 | sambava.\n",
      "Processing Record 17 of Set 9 | the hammocks.\n",
      "Processing Record 18 of Set 9 | kysyl-syr.\n",
      "Processing Record 19 of Set 9 | da lat.\n",
      "Processing Record 20 of Set 9 | san andres.\n",
      "Processing Record 21 of Set 9 | puksoozero.\n",
      "Processing Record 22 of Set 9 | grand gaube.\n",
      "Processing Record 23 of Set 9 | simbahan.\n",
      "City not found. Skipping...\n",
      "Processing Record 24 of Set 9 | sapa.\n",
      "Processing Record 25 of Set 9 | lakhdenpokhya.\n",
      "Processing Record 26 of Set 9 | peace river.\n",
      "Processing Record 27 of Set 9 | henderson.\n",
      "Processing Record 28 of Set 9 | porangatu.\n",
      "Processing Record 29 of Set 9 | talcahuano.\n",
      "Processing Record 30 of Set 9 | fuling.\n",
      "Processing Record 31 of Set 9 | macas.\n",
      "Processing Record 32 of Set 9 | linhares.\n",
      "Processing Record 33 of Set 9 | tabou.\n",
      "Processing Record 34 of Set 9 | arlit.\n",
      "Processing Record 35 of Set 9 | poum.\n",
      "Processing Record 36 of Set 9 | makat.\n",
      "Processing Record 37 of Set 9 | longyearbyen.\n",
      "Processing Record 38 of Set 9 | kalmunai.\n",
      "Processing Record 39 of Set 9 | luganville.\n",
      "Processing Record 40 of Set 9 | yulara.\n",
      "Processing Record 41 of Set 9 | kyaikkami.\n",
      "Processing Record 42 of Set 9 | puerto madero.\n",
      "Processing Record 43 of Set 9 | college.\n",
      "Processing Record 44 of Set 9 | manoel urbano.\n",
      "Processing Record 45 of Set 9 | bardiyah.\n",
      "Processing Record 46 of Set 9 | lodja.\n",
      "Processing Record 47 of Set 9 | chateau-thierry.\n",
      "Processing Record 48 of Set 9 | baykit.\n",
      "Processing Record 49 of Set 9 | sibolga.\n",
      "City not found. Skipping...\n",
      "Processing Record 50 of Set 9 | ust-nera.\n",
      "Processing Record 1 of Set 10 | tamiahua.\n",
      "Processing Record 2 of Set 10 | laguna.\n",
      "Processing Record 3 of Set 10 | talnakh.\n",
      "Processing Record 4 of Set 10 | kingaroy.\n",
      "Processing Record 5 of Set 10 | oga.\n",
      "Processing Record 6 of Set 10 | torit.\n",
      "Processing Record 7 of Set 10 | rio piracicaba.\n",
      "Processing Record 8 of Set 10 | ambilobe.\n",
      "Processing Record 9 of Set 10 | manassas.\n",
      "Processing Record 10 of Set 10 | kirkenaer.\n",
      "Processing Record 11 of Set 10 | port keats.\n",
      "Processing Record 12 of Set 10 | pudozh.\n",
      "Processing Record 13 of Set 10 | rio tercero.\n",
      "Processing Record 14 of Set 10 | puerto narino.\n",
      "Processing Record 15 of Set 10 | birao.\n",
      "Processing Record 16 of Set 10 | majene.\n",
      "Processing Record 17 of Set 10 | donskoye.\n",
      "Processing Record 18 of Set 10 | kem.\n",
      "City not found. Skipping...\n",
      "Processing Record 19 of Set 10 | raga.\n",
      "Processing Record 20 of Set 10 | tazovskiy.\n",
      "City not found. Skipping...\n",
      "Processing Record 21 of Set 10 | lahaina.\n",
      "Processing Record 22 of Set 10 | nyurba.\n",
      "Processing Record 23 of Set 10 | portel.\n",
      "Processing Record 24 of Set 10 | lumut.\n",
      "Processing Record 25 of Set 10 | boa vista.\n",
      "Processing Record 26 of Set 10 | bonavista.\n",
      "City not found. Skipping...\n",
      "Processing Record 27 of Set 10 | tiarei.\n",
      "Processing Record 28 of Set 10 | karratha.\n",
      "Processing Record 29 of Set 10 | kawalu.\n",
      "City not found. Skipping...\n",
      "Processing Record 30 of Set 10 | florida.\n",
      "Processing Record 31 of Set 10 | hobyo.\n",
      "Processing Record 32 of Set 10 | graciano sanchez.\n",
      "Processing Record 33 of Set 10 | zabol.\n",
      "Processing Record 34 of Set 10 | dawson.\n",
      "Processing Record 35 of Set 10 | san juan.\n",
      "Processing Record 36 of Set 10 | balkanabat.\n",
      "Processing Record 37 of Set 10 | khash.\n",
      "Processing Record 38 of Set 10 | panalingaan.\n",
      "Processing Record 39 of Set 10 | bowen.\n",
      "Processing Record 40 of Set 10 | juneau.\n",
      "Processing Record 41 of Set 10 | urdoma.\n",
      "Processing Record 42 of Set 10 | oranjemund.\n",
      "City not found. Skipping...\n",
      "Processing Record 43 of Set 10 | narsaq.\n",
      "Processing Record 44 of Set 10 | qui nhon.\n",
      "Processing Record 45 of Set 10 | vanavara.\n",
      "Processing Record 46 of Set 10 | lingao.\n",
      "Processing Record 47 of Set 10 | valparaiso.\n",
      "Processing Record 48 of Set 10 | hami.\n",
      "Processing Record 49 of Set 10 | svetlogorsk.\n",
      "Processing Record 50 of Set 10 | khipro.\n",
      "Processing Record 1 of Set 11 | salym.\n",
      "Processing Record 2 of Set 11 | eyl.\n",
      "Processing Record 3 of Set 11 | zhigansk.\n",
      "Processing Record 4 of Set 11 | morgantown.\n",
      "Processing Record 5 of Set 11 | asadabad.\n",
      "Processing Record 6 of Set 11 | maragogi.\n",
      "Processing Record 7 of Set 11 | hit.\n",
      "Processing Record 8 of Set 11 | hare bay.\n",
      "Processing Record 9 of Set 11 | roma.\n",
      "Processing Record 10 of Set 11 | nouadhibou.\n",
      "City not found. Skipping...\n",
      "Processing Record 11 of Set 11 | atambua.\n",
      "City not found. Skipping...\n",
      "Processing Record 12 of Set 11 | wajima.\n",
      "Processing Record 13 of Set 11 | conceicao do araguaia.\n",
      "Processing Record 14 of Set 11 | maningrida.\n",
      "Processing Record 15 of Set 11 | pochutla.\n",
      "Processing Record 16 of Set 11 | santa helena de goias.\n",
      "Processing Record 17 of Set 11 | teahupoo.\n",
      "Processing Record 18 of Set 11 | huarmey.\n",
      "Processing Record 19 of Set 11 | mabaruma.\n",
      "Processing Record 20 of Set 11 | nioro.\n",
      "Processing Record 21 of Set 11 | opuwo.\n",
      "Processing Record 22 of Set 11 | baracoa.\n",
      "Processing Record 23 of Set 11 | phangnga.\n",
      "Processing Record 24 of Set 11 | werda.\n",
      "Processing Record 25 of Set 11 | pemangkat.\n",
      "Processing Record 26 of Set 11 | bilma.\n",
      "Processing Record 27 of Set 11 | puerto carreno.\n",
      "Processing Record 28 of Set 11 | kangaatsiaq.\n",
      "Processing Record 29 of Set 11 | banting.\n",
      "Processing Record 30 of Set 11 | new milford.\n",
      "Processing Record 31 of Set 11 | kathmandu.\n",
      "Processing Record 32 of Set 11 | konosha.\n",
      "Processing Record 33 of Set 11 | ayr.\n",
      "Processing Record 34 of Set 11 | manakara.\n",
      "Processing Record 35 of Set 11 | berekum.\n",
      "Processing Record 36 of Set 11 | beeskow.\n",
      "----------------------------\n",
      "Data Retrieval Complete\n",
      "----------------------------\n"
     ]
    }
   ],
   "source": [
    "# Create lists to hold data\n",
    "city_name = []\n",
    "lat = []\n",
    "lng = []\n",
    "max_temp = []\n",
    "humidity = []\n",
    "cloudiness = []\n",
    "windspeed = []\n",
    "country = []\n",
    "date = []\n",
    "\n",
    "# Loop through the list of cities and perform a request for data on each\n",
    "print(\"----------------------------\")\n",
    "print(f\"Beginning Data Retrieval\")\n",
    "print(\"----------------------------\")\n",
    "\n",
    "record = 0 \n",
    "set_number = 1 \n",
    "\n",
    "for city in cities:   \n",
    "\n",
    "    try:\n",
    "        response = requests.get(query_url + city).json()\n",
    "        city_name.append(response['name'])\n",
    "        lat.append(response['coord']['lat'])\n",
    "        lng.append(response['coord']['lon'])\n",
    "        max_temp.append(response['main']['temp_max'])\n",
    "        humidity.append(response['main']['humidity'])\n",
    "        cloudiness.append(response['clouds']['all'])\n",
    "        windspeed.append(response['wind']['speed'])\n",
    "        country.append(response['sys']['country'])\n",
    "        date.append(response['dt'])\n",
    "        \n",
    "        if record >= 50:\n",
    "            record = 1 \n",
    "            set_number = set_number + 1\n",
    "        else: \n",
    "            record = record + 1 \n",
    "\n",
    "        print(f\"Processing Record {record} of Set {set_number} | {city}.\")\n",
    "        time.sleep(1.01)\n",
    "    except:\n",
    "        print(\"City not found. Skipping...\")\n",
    "        time.sleep(1.01)\n",
    "        \n",
    "print(\"----------------------------\")\n",
    "print(f\"Data Retrieval Complete\")\n",
    "print(\"----------------------------\")    "
   ]
  },
  {
   "cell_type": "markdown",
   "metadata": {},
   "source": [
    "### Convert Raw Data to DataFrame\n",
    "* Export the city data into a .csv.\n",
    "* Display the DataFrame"
   ]
  },
  {
   "cell_type": "code",
   "execution_count": 5,
   "metadata": {},
   "outputs": [
    {
     "data": {
      "text/html": [
       "<div>\n",
       "<style scoped>\n",
       "    .dataframe tbody tr th:only-of-type {\n",
       "        vertical-align: middle;\n",
       "    }\n",
       "\n",
       "    .dataframe tbody tr th {\n",
       "        vertical-align: top;\n",
       "    }\n",
       "\n",
       "    .dataframe thead th {\n",
       "        text-align: right;\n",
       "    }\n",
       "</style>\n",
       "<table border=\"1\" class=\"dataframe\">\n",
       "  <thead>\n",
       "    <tr style=\"text-align: right;\">\n",
       "      <th></th>\n",
       "      <th>City</th>\n",
       "      <th>Lat</th>\n",
       "      <th>Lng</th>\n",
       "      <th>Max Temp</th>\n",
       "      <th>Humidity</th>\n",
       "      <th>Cloudiness</th>\n",
       "      <th>Wind Speed</th>\n",
       "      <th>Country</th>\n",
       "      <th>Date</th>\n",
       "    </tr>\n",
       "  </thead>\n",
       "  <tbody>\n",
       "    <tr>\n",
       "      <th>0</th>\n",
       "      <td>Mahibadhoo</td>\n",
       "      <td>3.7833</td>\n",
       "      <td>72.9667</td>\n",
       "      <td>83.23</td>\n",
       "      <td>74</td>\n",
       "      <td>8</td>\n",
       "      <td>8.61</td>\n",
       "      <td>MV</td>\n",
       "      <td>1619292721</td>\n",
       "    </tr>\n",
       "    <tr>\n",
       "      <th>1</th>\n",
       "      <td>Puerto Ayora</td>\n",
       "      <td>-0.7393</td>\n",
       "      <td>-90.3518</td>\n",
       "      <td>80.60</td>\n",
       "      <td>78</td>\n",
       "      <td>75</td>\n",
       "      <td>9.22</td>\n",
       "      <td>EC</td>\n",
       "      <td>1619292723</td>\n",
       "    </tr>\n",
       "    <tr>\n",
       "      <th>2</th>\n",
       "      <td>La Santisima Trinidad</td>\n",
       "      <td>-14.8333</td>\n",
       "      <td>-64.9000</td>\n",
       "      <td>78.80</td>\n",
       "      <td>94</td>\n",
       "      <td>75</td>\n",
       "      <td>8.05</td>\n",
       "      <td>BO</td>\n",
       "      <td>1619292548</td>\n",
       "    </tr>\n",
       "    <tr>\n",
       "      <th>3</th>\n",
       "      <td>Nāmagiripettai</td>\n",
       "      <td>11.4667</td>\n",
       "      <td>78.2667</td>\n",
       "      <td>79.70</td>\n",
       "      <td>75</td>\n",
       "      <td>100</td>\n",
       "      <td>4.34</td>\n",
       "      <td>IN</td>\n",
       "      <td>1619292725</td>\n",
       "    </tr>\n",
       "    <tr>\n",
       "      <th>4</th>\n",
       "      <td>Muaná</td>\n",
       "      <td>-1.5283</td>\n",
       "      <td>-49.2167</td>\n",
       "      <td>84.36</td>\n",
       "      <td>72</td>\n",
       "      <td>29</td>\n",
       "      <td>4.94</td>\n",
       "      <td>BR</td>\n",
       "      <td>1619292728</td>\n",
       "    </tr>\n",
       "    <tr>\n",
       "      <th>...</th>\n",
       "      <td>...</td>\n",
       "      <td>...</td>\n",
       "      <td>...</td>\n",
       "      <td>...</td>\n",
       "      <td>...</td>\n",
       "      <td>...</td>\n",
       "      <td>...</td>\n",
       "      <td>...</td>\n",
       "      <td>...</td>\n",
       "    </tr>\n",
       "    <tr>\n",
       "      <th>531</th>\n",
       "      <td>Konosha</td>\n",
       "      <td>60.9736</td>\n",
       "      <td>40.2570</td>\n",
       "      <td>44.89</td>\n",
       "      <td>76</td>\n",
       "      <td>56</td>\n",
       "      <td>7.90</td>\n",
       "      <td>RU</td>\n",
       "      <td>1619293526</td>\n",
       "    </tr>\n",
       "    <tr>\n",
       "      <th>532</th>\n",
       "      <td>Ayr</td>\n",
       "      <td>55.4627</td>\n",
       "      <td>-4.6339</td>\n",
       "      <td>55.40</td>\n",
       "      <td>58</td>\n",
       "      <td>0</td>\n",
       "      <td>12.66</td>\n",
       "      <td>GB</td>\n",
       "      <td>1619293528</td>\n",
       "    </tr>\n",
       "    <tr>\n",
       "      <th>533</th>\n",
       "      <td>Manakara</td>\n",
       "      <td>-22.1333</td>\n",
       "      <td>48.0167</td>\n",
       "      <td>70.45</td>\n",
       "      <td>91</td>\n",
       "      <td>32</td>\n",
       "      <td>2.89</td>\n",
       "      <td>MG</td>\n",
       "      <td>1619293529</td>\n",
       "    </tr>\n",
       "    <tr>\n",
       "      <th>534</th>\n",
       "      <td>Berekum</td>\n",
       "      <td>7.4534</td>\n",
       "      <td>-2.5840</td>\n",
       "      <td>72.63</td>\n",
       "      <td>94</td>\n",
       "      <td>79</td>\n",
       "      <td>8.77</td>\n",
       "      <td>GH</td>\n",
       "      <td>1619293531</td>\n",
       "    </tr>\n",
       "    <tr>\n",
       "      <th>535</th>\n",
       "      <td>Beeskow</td>\n",
       "      <td>52.1667</td>\n",
       "      <td>14.2500</td>\n",
       "      <td>48.00</td>\n",
       "      <td>56</td>\n",
       "      <td>100</td>\n",
       "      <td>1.99</td>\n",
       "      <td>DE</td>\n",
       "      <td>1619293532</td>\n",
       "    </tr>\n",
       "  </tbody>\n",
       "</table>\n",
       "<p>536 rows × 9 columns</p>\n",
       "</div>"
      ],
      "text/plain": [
       "                      City      Lat      Lng  Max Temp  Humidity  Cloudiness  \\\n",
       "0               Mahibadhoo   3.7833  72.9667     83.23        74           8   \n",
       "1             Puerto Ayora  -0.7393 -90.3518     80.60        78          75   \n",
       "2    La Santisima Trinidad -14.8333 -64.9000     78.80        94          75   \n",
       "3           Nāmagiripettai  11.4667  78.2667     79.70        75         100   \n",
       "4                    Muaná  -1.5283 -49.2167     84.36        72          29   \n",
       "..                     ...      ...      ...       ...       ...         ...   \n",
       "531                Konosha  60.9736  40.2570     44.89        76          56   \n",
       "532                    Ayr  55.4627  -4.6339     55.40        58           0   \n",
       "533               Manakara -22.1333  48.0167     70.45        91          32   \n",
       "534                Berekum   7.4534  -2.5840     72.63        94          79   \n",
       "535                Beeskow  52.1667  14.2500     48.00        56         100   \n",
       "\n",
       "     Wind Speed Country        Date  \n",
       "0          8.61      MV  1619292721  \n",
       "1          9.22      EC  1619292723  \n",
       "2          8.05      BO  1619292548  \n",
       "3          4.34      IN  1619292725  \n",
       "4          4.94      BR  1619292728  \n",
       "..          ...     ...         ...  \n",
       "531        7.90      RU  1619293526  \n",
       "532       12.66      GB  1619293528  \n",
       "533        2.89      MG  1619293529  \n",
       "534        8.77      GH  1619293531  \n",
       "535        1.99      DE  1619293532  \n",
       "\n",
       "[536 rows x 9 columns]"
      ]
     },
     "execution_count": 5,
     "metadata": {},
     "output_type": "execute_result"
    }
   ],
   "source": [
    "# Create dataframe\n",
    "weather_dict = {\n",
    "    \"City\": city_name,\n",
    "    \"Lat\": lat,\n",
    "    \"Lng\": lng, \n",
    "    \"Max Temp\": max_temp, \n",
    "    \"Humidity\": humidity, \n",
    "    \"Cloudiness\": cloudiness, \n",
    "    \"Wind Speed\": windspeed, \n",
    "    \"Country\": country, \n",
    "    \"Date\": date\n",
    "}\n",
    "\n",
    "weather_data = pd.DataFrame(weather_dict)\n",
    "weather_data"
   ]
  },
  {
   "cell_type": "code",
   "execution_count": 6,
   "metadata": {},
   "outputs": [],
   "source": [
    "# Export data into CSV\n",
    "weather_data.to_csv('Output/weather.csv', index=False, header=True)"
   ]
  },
  {
   "cell_type": "code",
   "execution_count": 7,
   "metadata": {},
   "outputs": [
    {
     "data": {
      "text/html": [
       "<div>\n",
       "<style scoped>\n",
       "    .dataframe tbody tr th:only-of-type {\n",
       "        vertical-align: middle;\n",
       "    }\n",
       "\n",
       "    .dataframe tbody tr th {\n",
       "        vertical-align: top;\n",
       "    }\n",
       "\n",
       "    .dataframe thead th {\n",
       "        text-align: right;\n",
       "    }\n",
       "</style>\n",
       "<table border=\"1\" class=\"dataframe\">\n",
       "  <thead>\n",
       "    <tr style=\"text-align: right;\">\n",
       "      <th></th>\n",
       "      <th>Lat</th>\n",
       "      <th>Lng</th>\n",
       "      <th>Max Temp</th>\n",
       "      <th>Humidity</th>\n",
       "      <th>Cloudiness</th>\n",
       "      <th>Wind Speed</th>\n",
       "      <th>Date</th>\n",
       "    </tr>\n",
       "  </thead>\n",
       "  <tbody>\n",
       "    <tr>\n",
       "      <th>count</th>\n",
       "      <td>536.000000</td>\n",
       "      <td>536.000000</td>\n",
       "      <td>536.000000</td>\n",
       "      <td>536.000000</td>\n",
       "      <td>536.000000</td>\n",
       "      <td>536.000000</td>\n",
       "      <td>5.360000e+02</td>\n",
       "    </tr>\n",
       "    <tr>\n",
       "      <th>mean</th>\n",
       "      <td>19.881082</td>\n",
       "      <td>15.862682</td>\n",
       "      <td>61.896026</td>\n",
       "      <td>67.404851</td>\n",
       "      <td>55.930970</td>\n",
       "      <td>7.803638</td>\n",
       "      <td>1.619293e+09</td>\n",
       "    </tr>\n",
       "    <tr>\n",
       "      <th>std</th>\n",
       "      <td>33.515856</td>\n",
       "      <td>91.301960</td>\n",
       "      <td>19.833551</td>\n",
       "      <td>24.034599</td>\n",
       "      <td>37.928079</td>\n",
       "      <td>5.316456</td>\n",
       "      <td>2.511861e+02</td>\n",
       "    </tr>\n",
       "    <tr>\n",
       "      <th>min</th>\n",
       "      <td>-54.800000</td>\n",
       "      <td>-179.166700</td>\n",
       "      <td>-10.170000</td>\n",
       "      <td>6.000000</td>\n",
       "      <td>0.000000</td>\n",
       "      <td>0.430000</td>\n",
       "      <td>1.619292e+09</td>\n",
       "    </tr>\n",
       "    <tr>\n",
       "      <th>25%</th>\n",
       "      <td>-8.310025</td>\n",
       "      <td>-61.724400</td>\n",
       "      <td>46.400000</td>\n",
       "      <td>53.000000</td>\n",
       "      <td>20.000000</td>\n",
       "      <td>3.845000</td>\n",
       "      <td>1.619293e+09</td>\n",
       "    </tr>\n",
       "    <tr>\n",
       "      <th>50%</th>\n",
       "      <td>21.452950</td>\n",
       "      <td>21.583200</td>\n",
       "      <td>64.400000</td>\n",
       "      <td>74.000000</td>\n",
       "      <td>70.000000</td>\n",
       "      <td>6.855000</td>\n",
       "      <td>1.619293e+09</td>\n",
       "    </tr>\n",
       "    <tr>\n",
       "      <th>75%</th>\n",
       "      <td>48.962175</td>\n",
       "      <td>97.291875</td>\n",
       "      <td>78.817500</td>\n",
       "      <td>86.000000</td>\n",
       "      <td>94.000000</td>\n",
       "      <td>10.090000</td>\n",
       "      <td>1.619293e+09</td>\n",
       "    </tr>\n",
       "    <tr>\n",
       "      <th>max</th>\n",
       "      <td>78.218600</td>\n",
       "      <td>179.316700</td>\n",
       "      <td>99.700000</td>\n",
       "      <td>100.000000</td>\n",
       "      <td>100.000000</td>\n",
       "      <td>31.070000</td>\n",
       "      <td>1.619294e+09</td>\n",
       "    </tr>\n",
       "  </tbody>\n",
       "</table>\n",
       "</div>"
      ],
      "text/plain": [
       "              Lat         Lng    Max Temp    Humidity  Cloudiness  Wind Speed  \\\n",
       "count  536.000000  536.000000  536.000000  536.000000  536.000000  536.000000   \n",
       "mean    19.881082   15.862682   61.896026   67.404851   55.930970    7.803638   \n",
       "std     33.515856   91.301960   19.833551   24.034599   37.928079    5.316456   \n",
       "min    -54.800000 -179.166700  -10.170000    6.000000    0.000000    0.430000   \n",
       "25%     -8.310025  -61.724400   46.400000   53.000000   20.000000    3.845000   \n",
       "50%     21.452950   21.583200   64.400000   74.000000   70.000000    6.855000   \n",
       "75%     48.962175   97.291875   78.817500   86.000000   94.000000   10.090000   \n",
       "max     78.218600  179.316700   99.700000  100.000000  100.000000   31.070000   \n",
       "\n",
       "               Date  \n",
       "count  5.360000e+02  \n",
       "mean   1.619293e+09  \n",
       "std    2.511861e+02  \n",
       "min    1.619292e+09  \n",
       "25%    1.619293e+09  \n",
       "50%    1.619293e+09  \n",
       "75%    1.619293e+09  \n",
       "max    1.619294e+09  "
      ]
     },
     "execution_count": 7,
     "metadata": {},
     "output_type": "execute_result"
    }
   ],
   "source": [
    "# Describe data\n",
    "weather_data.describe()"
   ]
  },
  {
   "cell_type": "code",
   "execution_count": 8,
   "metadata": {},
   "outputs": [
    {
     "data": {
      "text/plain": [
       "536"
      ]
     },
     "execution_count": 8,
     "metadata": {},
     "output_type": "execute_result"
    }
   ],
   "source": [
    "# Clarify code is only pulling unique cities (no repeat cities)\n",
    "# Count all cities in dataframe\n",
    "len(weather_data)"
   ]
  },
  {
   "cell_type": "code",
   "execution_count": 9,
   "metadata": {},
   "outputs": [
    {
     "data": {
      "text/plain": [
       "536"
      ]
     },
     "execution_count": 9,
     "metadata": {},
     "output_type": "execute_result"
    }
   ],
   "source": [
    "# Count unique cities in dataframe (values should match)\n",
    "weather_u = weather_data[\"City\"].unique()\n",
    "len(weather_u)"
   ]
  },
  {
   "cell_type": "markdown",
   "metadata": {},
   "source": [
    "## Inspect the data and remove the cities where the humidity > 100%.\n",
    "----\n",
    "Skip this step if there are no cities that have humidity > 100%. "
   ]
  },
  {
   "cell_type": "markdown",
   "metadata": {},
   "source": [
    "## Plotting the Data\n",
    "* Use proper labeling of the plots using plot titles (including date of analysis) and axes labels.\n",
    "* Save the plotted figures as .pngs."
   ]
  },
  {
   "cell_type": "markdown",
   "metadata": {},
   "source": [
    "## Latitude vs. Temperature Plot"
   ]
  },
  {
   "cell_type": "code",
   "execution_count": 10,
   "metadata": {
    "scrolled": true
   },
   "outputs": [
    {
     "data": {
      "image/png": "[encoded data removed]",
      "text/plain": [
       "<Figure size 432x288 with 1 Axes>"
      ]
     },
     "metadata": {
      "needs_background": "light"
     },
     "output_type": "display_data"
    }
   ],
   "source": [
    "# Convert time into date format\n",
    "converted_weather_data_df = pd.to_datetime(weather_data['Date'], unit='s').dt.strftime('%m/%d/%Y')\n",
    "\n",
    "# Generate and format scatter plot\n",
    "x_axis = weather_data[\"Lat\"]\n",
    "data = weather_data[\"Max Temp\"]\n",
    "plt.scatter(x_axis, data, marker=\"o\", facecolors=\"blue\", edgecolors=\"black\")\n",
    "plt.title(f\"City Latitude vs. Max Temperature ({converted_weather_data_df[1]})\")\n",
    "plt.xlabel(\"Latitude\")\n",
    "plt.ylabel(\"Max Temperature (F)\")\n",
    "plt.grid()\n",
    "\n",
    "# Save figure \n",
    "plt.savefig(\"Images/Lat_temp.png\")\n",
    "\n",
    "plt.show()"
   ]
  },
  {
   "cell_type": "code",
   "execution_count": 11,
   "metadata": {},
   "outputs": [],
   "source": [
    "## The above plot analyzes the relationship between the maximum temperature and latitude. \n",
    "## From the graph it is clear that the temperature is higher near the equator. \n"
   ]
  },
  {
   "cell_type": "markdown",
   "metadata": {},
   "source": [
    "## Latitude vs. Humidity Plot"
   ]
  },
  {
   "cell_type": "code",
   "execution_count": 12,
   "metadata": {},
   "outputs": [
    {
     "data": {
      "image/png": "[encoded data removed]",
      "text/plain": [
       "<Figure size 432x288 with 1 Axes>"
      ]
     },
     "metadata": {
      "needs_background": "light"
     },
     "output_type": "display_data"
    }
   ],
   "source": [
    "# Generate and format scatter plot\n",
    "x_axis = weather_data[\"Lat\"]\n",
    "data = weather_data[\"Humidity\"]\n",
    "plt.scatter(x_axis, data, marker=\"o\", facecolors=\"blue\", edgecolors=\"black\")\n",
    "plt.title(f\"City Latitude vs. Humidity ({converted_weather_data_df[1]})\")\n",
    "plt.xlabel(\"Latitude\")\n",
    "plt.ylabel(\"Humidity (%)\")\n",
    "plt.grid()\n",
    "\n",
    "# Save figure \n",
    "plt.savefig(\"Images/Lat_Humidity.png\")\n",
    "\n",
    "plt.show()"
   ]
  },
  {
   "cell_type": "code",
   "execution_count": 13,
   "metadata": {},
   "outputs": [],
   "source": [
    "## The above plot analyzes the relationship between latitude and humidity. \n",
    "## The graph indicates that the majority of the cities have above 50% humidity.  "
   ]
  },
  {
   "cell_type": "markdown",
   "metadata": {},
   "source": [
    "## Latitude vs. Cloudiness Plot"
   ]
  },
  {
   "cell_type": "code",
   "execution_count": 14,
   "metadata": {},
   "outputs": [
    {
     "data": {
      "image/png": "[encoded data removed]",
      "text/plain": [
       "<Figure size 432x288 with 1 Axes>"
      ]
     },
     "metadata": {
      "needs_background": "light"
     },
     "output_type": "display_data"
    }
   ],
   "source": [
    "# Generate and format scatter plot\n",
    "x_axis = weather_data[\"Lat\"]\n",
    "data = weather_data[\"Cloudiness\"]\n",
    "plt.scatter(x_axis, data, marker=\"o\", facecolors=\"blue\", edgecolors=\"black\")\n",
    "plt.title(f\"City Latitude vs. Cloudiness ({converted_weather_data_df[1]})\")\n",
    "plt.xlabel(\"Latitude\")\n",
    "plt.ylabel(\"Cloudiness (%)\")\n",
    "plt.grid()\n",
    "\n",
    "# Save figure \n",
    "plt.savefig(\"Images/Lat_Cloudiness.png\")\n",
    "\n",
    "plt.show()"
   ]
  },
  {
   "cell_type": "code",
   "execution_count": 15,
   "metadata": {},
   "outputs": [],
   "source": [
    "## The above plot analyzes the relationship between latitude and cloudiness. \n",
    "## The graph indicates that there does not appear to be a relationship between latitude and cloudiness.  "
   ]
  },
  {
   "cell_type": "markdown",
   "metadata": {},
   "source": [
    "## Latitude vs. Wind Speed Plot"
   ]
  },
  {
   "cell_type": "code",
   "execution_count": 16,
   "metadata": {},
   "outputs": [
    {
     "data": {
      "image/png": "[encoded data removed]",
      "text/plain": [
       "<Figure size 432x288 with 1 Axes>"
      ]
     },
     "metadata": {
      "needs_background": "light"
     },
     "output_type": "display_data"
    }
   ],
   "source": [
    "# Generate and format scatter plot\n",
    "x_axis = weather_data[\"Lat\"]\n",
    "data = weather_data[\"Wind Speed\"]\n",
    "plt.scatter(x_axis, data, marker=\"o\", facecolors=\"blue\", edgecolors=\"black\")\n",
    "plt.title(f\"City Latitude vs. Wind Speed ({converted_weather_data_df[1]})\")\n",
    "plt.xlabel(\"Latitude\")\n",
    "plt.ylabel(\"Wind Speed (mph)\")\n",
    "plt.grid()\n",
    "\n",
    "# Save figure \n",
    "plt.savefig(\"Images/Lat_WindSpeed.png\")\n",
    "\n",
    "plt.show()"
   ]
  },
  {
   "cell_type": "code",
   "execution_count": 17,
   "metadata": {},
   "outputs": [],
   "source": [
    "## The above plot analyzes the relationship between latitude and wind speed. \n",
    "## The graph indicates that on this day across the globe, windspeed remained below 15 mph in most locations. "
   ]
  },
  {
   "cell_type": "markdown",
   "metadata": {},
   "source": [
    "## Linear Regression"
   ]
  },
  {
   "cell_type": "code",
   "execution_count": 18,
   "metadata": {},
   "outputs": [],
   "source": [
    "# Create northern hemisphere dataframe\n",
    "northern_df = weather_data[weather_data[\"Lat\"] >= 0]\n",
    "\n",
    "# Create southern hemisphere dataframe\n",
    "southern_df = weather_data[weather_data[\"Lat\"] < 0] "
   ]
  },
  {
   "cell_type": "markdown",
   "metadata": {},
   "source": [
    "####  Northern Hemisphere - Max Temp vs. Latitude Linear Regression"
   ]
  },
  {
   "cell_type": "code",
   "execution_count": 19,
   "metadata": {},
   "outputs": [
    {
     "name": "stdout",
     "output_type": "stream",
     "text": [
      "The r-value is: 0.7678155046310272\n"
     ]
    },
    {
     "data": {
      "image/png": "[encoded data removed]",
      "text/plain": [
       "<Figure size 432x288 with 1 Axes>"
      ]
     },
     "metadata": {
      "needs_background": "light"
     },
     "output_type": "display_data"
    }
   ],
   "source": [
    "# Generate scatter plot\n",
    "x_axis = northern_df[\"Lat\"]\n",
    "data = northern_df[\"Max Temp\"]\n",
    "plt.scatter(x_axis, data, marker=\"o\", facecolors=\"blue\", edgecolors=\"black\")\n",
    "\n",
    "# Complete linear regression \n",
    "(slope, intercept, rvalue, pvalue, stderr) = linregress(x_axis, data)\n",
    "regress_values = x_axis * slope + intercept\n",
    "line_eq = \"y= \" + str(round(slope, 2)) + \"x + \" + str(round(intercept, 2))\n",
    "plt.plot(x_axis, regress_values, \"r-\")\n",
    "plt.annotate(line_eq, (6,10), fontsize = 15, color = \"red\")\n",
    "\n",
    "# Format plot\n",
    "plt.title(f\"City Latitude vs. Max Temperature ({converted_weather_data_df[1]})\")\n",
    "plt.xlabel(\"Latitude\")\n",
    "plt.ylabel(\"Max Temperature (F)\")\n",
    "plt.grid()\n",
    "\n",
    "# Print correlation and plot \n",
    "print(f\"The r-value is: {rvalue**2}\")\n",
    "\n",
    "# Save figure \n",
    "plt.savefig(\"Images/North_Lat_MaxTemp.png\")\n",
    "\n",
    "plt.show()"
   ]
  },
  {
   "cell_type": "markdown",
   "metadata": {},
   "source": [
    "####  Southern Hemisphere - Max Temp vs. Latitude Linear Regression"
   ]
  },
  {
   "cell_type": "code",
   "execution_count": 20,
   "metadata": {},
   "outputs": [
    {
     "name": "stdout",
     "output_type": "stream",
     "text": [
      "The r-value is: 0.5356707043241549\n"
     ]
    },
    {
     "data": {
      "image/png": "[encoded data removed]",
      "text/plain": [
       "<Figure size 432x288 with 1 Axes>"
      ]
     },
     "metadata": {
      "needs_background": "light"
     },
     "output_type": "display_data"
    }
   ],
   "source": [
    "# Generate scatter plot\n",
    "x_axis = southern_df[\"Lat\"]\n",
    "data = southern_df[\"Max Temp\"]\n",
    "plt.scatter(x_axis, data, marker=\"o\", facecolors=\"blue\", edgecolors=\"black\")\n",
    "\n",
    "# Complete linear regression\n",
    "(slope, intercept, rvalue, pvalue, stderr) = linregress(x_axis, data)\n",
    "regress_values = x_axis * slope + intercept\n",
    "line_eq = \"y= \" + str(round(slope, 2)) + \"x + \" + str(round(intercept, 2))\n",
    "plt.plot(x_axis, regress_values, \"r-\")\n",
    "plt.annotate(line_eq, (-53,80), fontsize = 15, color = \"red\")\n",
    "\n",
    "# Format plot \n",
    "plt.title(f\"City Latitude vs. Max Temperature ({converted_weather_data_df[1]})\")\n",
    "plt.xlabel(\"Latitude\")\n",
    "plt.ylabel(\"Max Temperature (F)\")\n",
    "plt.grid()\n",
    "\n",
    "# Print correlation and plot\n",
    "print(f\"The r-value is: {rvalue**2}\")\n",
    "\n",
    "# Save figure \n",
    "plt.savefig(\"Images/South_Lat_MaxTemp.png\")\n",
    "plt.show()"
   ]
  },
  {
   "cell_type": "code",
   "execution_count": 21,
   "metadata": {},
   "outputs": [],
   "source": [
    "## The two plots above analyze the relationship between latitude and max temperature in both the northern and southern hemispheres. \n",
    "## The graphs indicate that temperature and latitude are correlated - as we get closer to the equator, temperature rises. "
   ]
  },
  {
   "cell_type": "markdown",
   "metadata": {},
   "source": [
    "####  Northern Hemisphere - Humidity (%) vs. Latitude Linear Regression"
   ]
  },
  {
   "cell_type": "code",
   "execution_count": 22,
   "metadata": {},
   "outputs": [
    {
     "name": "stdout",
     "output_type": "stream",
     "text": [
      "The r-value is: 0.011651483999141407\n"
     ]
    },
    {
     "data": {
      "image/png": "[encoded data removed]",
      "text/plain": [
       "<Figure size 432x288 with 1 Axes>"
      ]
     },
     "metadata": {
      "needs_background": "light"
     },
     "output_type": "display_data"
    }
   ],
   "source": [
    "# Generate and format scatter plot\n",
    "x_axis = northern_df[\"Lat\"]\n",
    "data = northern_df[\"Humidity\"]\n",
    "plt.scatter(x_axis, data, marker=\"o\", facecolors=\"blue\", edgecolors=\"black\")\n",
    "\n",
    "# Complete linear regression\n",
    "(slope, intercept, rvalue, pvalue, stderr) = linregress(x_axis, data)\n",
    "regress_values = x_axis * slope + intercept\n",
    "line_eq = \"y= \" + str(round(slope, 2)) + \"x + \" + str(round(intercept, 2))\n",
    "plt.plot(x_axis, regress_values, \"r-\")\n",
    "plt.annotate(line_eq, (47,10), fontsize = 15, color = \"red\")\n",
    "\n",
    "# Format plot\n",
    "plt.title(f\"City Latitude vs. Humidity ({converted_weather_data_df[1]})\")\n",
    "plt.xlabel(\"Latitude\")\n",
    "plt.ylabel(\"Humidity (%)\")\n",
    "plt.grid()\n",
    "\n",
    "# Print correlation and plot\n",
    "print(f\"The r-value is: {rvalue**2}\")\n",
    "\n",
    "# Save figure \n",
    "plt.savefig(\"Images/North_Lat_Humidity.png\")\n",
    "\n",
    "plt.show()"
   ]
  },
  {
   "cell_type": "markdown",
   "metadata": {},
   "source": [
    "####  Southern Hemisphere - Humidity (%) vs. Latitude Linear Regression"
   ]
  },
  {
   "cell_type": "code",
   "execution_count": 23,
   "metadata": {
    "scrolled": true
   },
   "outputs": [
    {
     "name": "stdout",
     "output_type": "stream",
     "text": [
      "The r-value is: 0.01752292428269702\n"
     ]
    },
    {
     "data": {
      "image/png": "[encoded data removed]",
      "text/plain": [
       "<Figure size 432x288 with 1 Axes>"
      ]
     },
     "metadata": {
      "needs_background": "light"
     },
     "output_type": "display_data"
    }
   ],
   "source": [
    "# Generate and format scatter plot\n",
    "x_axis = southern_df[\"Lat\"]\n",
    "data = southern_df[\"Humidity\"]\n",
    "plt.scatter(x_axis, data, marker=\"o\", facecolors=\"blue\", edgecolors=\"black\")\n",
    "\n",
    "# Complete linear regression\n",
    "(slope, intercept, rvalue, pvalue, stderr) = linregress(x_axis, data)\n",
    "regress_values = x_axis * slope + intercept\n",
    "line_eq = \"y= \" + str(round(slope, 2)) + \"x + \" + str(round(intercept, 2))\n",
    "plt.plot(x_axis, regress_values, \"r-\")\n",
    "plt.annotate(line_eq, (-50,30), fontsize = 15, color = \"red\")\n",
    "\n",
    "# Format plot \n",
    "plt.title(f\"City Latitude vs. Humidity ({converted_weather_data_df[1]})\")\n",
    "plt.xlabel(\"Latitude\")\n",
    "plt.ylabel(\"Humidity (%)\")\n",
    "plt.grid()\n",
    "\n",
    "# Print correlation and plot \n",
    "print(f\"The r-value is: {rvalue**2}\")\n",
    "\n",
    "# Save figure \n",
    "plt.savefig(\"Images/South_Lat_Humidity.png\")\n",
    "\n",
    "plt.show()"
   ]
  },
  {
   "cell_type": "code",
   "execution_count": 24,
   "metadata": {},
   "outputs": [],
   "source": [
    "## The two plots above analyze the relationship between latitude and humidity in both the northern and southern hemispheres.  \n",
    "## The graphs indicate that within these locations, there is a mild positive correlation with latitude and humidity. "
   ]
  },
  {
   "cell_type": "markdown",
   "metadata": {},
   "source": [
    "####  Northern Hemisphere - Cloudiness (%) vs. Latitude Linear Regression"
   ]
  },
  {
   "cell_type": "code",
   "execution_count": 25,
   "metadata": {},
   "outputs": [
    {
     "name": "stdout",
     "output_type": "stream",
     "text": [
      "The r-value is: 0.01804190133187744\n"
     ]
    },
    {
     "data": {
      "image/png": "[encoded data removed]",
      "text/plain": [
       "<Figure size 432x288 with 1 Axes>"
      ]
     },
     "metadata": {
      "needs_background": "light"
     },
     "output_type": "display_data"
    }
   ],
   "source": [
    "# Generate and format scatter plot\n",
    "x_axis = northern_df[\"Lat\"]\n",
    "data = northern_df[\"Cloudiness\"]\n",
    "plt.scatter(x_axis, data, marker=\"o\", facecolors=\"blue\", edgecolors=\"black\")\n",
    "\n",
    "# Complete linear regression \n",
    "(slope, intercept, rvalue, pvalue, stderr) = linregress(x_axis, data)\n",
    "regress_values = x_axis * slope + intercept\n",
    "line_eq = \"y= \" + str(round(slope, 2)) + \"x + \" + str(round(intercept, 2))\n",
    "plt.plot(x_axis, regress_values, \"r-\")\n",
    "plt.annotate(line_eq, (6,12), fontsize = 15, color = \"red\")\n",
    "\n",
    "# Format plot\n",
    "plt.title(f\"City Latitude vs. Cloudiness ({converted_weather_data_df[1]})\")\n",
    "plt.xlabel(\"Latitude\")\n",
    "plt.ylabel(\"Cloudiness (%)\")\n",
    "plt.grid()\n",
    "\n",
    "# Print correlation and plot\n",
    "print(f\"The r-value is: {rvalue**2}\")\n",
    "\n",
    "# Save figure \n",
    "plt.savefig(\"Images/North_Lat_Cloud.png\")\n",
    "\n",
    "plt.show()"
   ]
  },
  {
   "cell_type": "markdown",
   "metadata": {},
   "source": [
    "####  Southern Hemisphere - Cloudiness (%) vs. Latitude Linear Regression"
   ]
  },
  {
   "cell_type": "code",
   "execution_count": 26,
   "metadata": {},
   "outputs": [
    {
     "name": "stdout",
     "output_type": "stream",
     "text": [
      "The r-value is: 0.014734001553835368\n"
     ]
    },
    {
     "data": {
      "image/png": "[encoded data removed]",
      "text/plain": [
       "<Figure size 432x288 with 1 Axes>"
      ]
     },
     "metadata": {
      "needs_background": "light"
     },
     "output_type": "display_data"
    }
   ],
   "source": [
    "# Generate and format scatter plot\n",
    "x_axis = southern_df[\"Lat\"]\n",
    "data = southern_df[\"Cloudiness\"]\n",
    "plt.scatter(x_axis, data, marker=\"o\", facecolors=\"blue\", edgecolors=\"black\")\n",
    "\n",
    "# Complete linear regression\n",
    "(slope, intercept, rvalue, pvalue, stderr) = linregress(x_axis, data)\n",
    "regress_values = x_axis * slope + intercept\n",
    "line_eq = \"y= \" + str(round(slope, 2)) + \"x + \" + str(round(intercept, 2))\n",
    "plt.plot(x_axis, regress_values, \"r-\")\n",
    "plt.annotate(line_eq, (-50,60), fontsize = 15, color = \"red\")\n",
    "\n",
    "# Format plot\n",
    "plt.title(f\"City Latitude vs. Cloudiness ({converted_weather_data_df[1]})\")\n",
    "plt.xlabel(\"Latitude\")\n",
    "plt.ylabel(\"Cloudiness (%)\")\n",
    "plt.grid()\n",
    "\n",
    "# Print correlation and plot\n",
    "print(f\"The r-value is: {rvalue**2}\")\n",
    "\n",
    "# Save figure \n",
    "plt.savefig(\"Images/South_Lat_Cloud.png\")\n",
    "\n",
    "plt.show()"
   ]
  },
  {
   "cell_type": "code",
   "execution_count": null,
   "metadata": {},
   "outputs": [],
   "source": [
    "## The two plots above analyze the relationship between latitude and cloudiness in both the northern and southern hemispheres. \n",
    "## The graphs indicate that cloudiness and latitude have a positive correlation."
   ]
  },
  {
   "cell_type": "markdown",
   "metadata": {},
   "source": [
    "####  Northern Hemisphere - Wind Speed (mph) vs. Latitude Linear Regression"
   ]
  },
  {
   "cell_type": "code",
   "execution_count": 27,
   "metadata": {
    "scrolled": true
   },
   "outputs": [
    {
     "name": "stdout",
     "output_type": "stream",
     "text": [
      "The r-value is: 0.0009457209168719429\n"
     ]
    },
    {
     "data": {
      "image/png": "[encoded data removed]",
      "text/plain": [
       "<Figure size 432x288 with 1 Axes>"
      ]
     },
     "metadata": {
      "needs_background": "light"
     },
     "output_type": "display_data"
    }
   ],
   "source": [
    "# Generate and format scatter plot\n",
    "x_axis = northern_df[\"Lat\"]\n",
    "data = northern_df[\"Wind Speed\"]\n",
    "plt.scatter(x_axis, data, marker=\"o\", facecolors=\"blue\", edgecolors=\"black\")\n",
    "\n",
    "# Complete linear regression\n",
    "(slope, intercept, rvalue, pvalue, stderr) = linregress(x_axis, data)\n",
    "regress_values = x_axis * slope + intercept\n",
    "line_eq = \"y= \" + str(round(slope, 2)) + \"x + \" + str(round(intercept, 2))\n",
    "plt.plot(x_axis, regress_values, \"r-\")\n",
    "plt.annotate(line_eq, (20,27), fontsize = 15, color = \"red\")\n",
    "\n",
    "# Format plot\n",
    "plt.title(f\"City Latitude vs. Wind Speed ({converted_weather_data_df[1]})\")\n",
    "plt.xlabel(\"Latitude\")\n",
    "plt.ylabel(\"Wind Speed (mph)\")\n",
    "plt.grid()\n",
    "\n",
    "# Print correlation and plot \n",
    "print(f\"The r-value is: {rvalue**2}\")\n",
    "\n",
    "# Save figure \n",
    "plt.savefig(\"Images/North_Lat_WindSpeed.png\")\n",
    "\n",
    "plt.show()"
   ]
  },
  {
   "cell_type": "markdown",
   "metadata": {},
   "source": [
    "####  Southern Hemisphere - Wind Speed (mph) vs. Latitude Linear Regression"
   ]
  },
  {
   "cell_type": "code",
   "execution_count": 28,
   "metadata": {},
   "outputs": [
    {
     "name": "stdout",
     "output_type": "stream",
     "text": [
      "The r-value is: 0.010245067334585757\n"
     ]
    },
    {
     "data": {
      "image/png": "[encoded data removed]",
      "text/plain": [
       "<Figure size 432x288 with 1 Axes>"
      ]
     },
     "metadata": {
      "needs_background": "light"
     },
     "output_type": "display_data"
    }
   ],
   "source": [
    "# Generate and format scatter plot\n",
    "x_axis = southern_df[\"Lat\"]\n",
    "data = southern_df[\"Wind Speed\"]\n",
    "plt.scatter(x_axis, data, marker=\"o\", facecolors=\"blue\", edgecolors=\"black\")\n",
    "\n",
    "# Complete linear regression\n",
    "(slope, intercept, rvalue, pvalue, stderr) = linregress(x_axis, data)\n",
    "regress_values = x_axis * slope + intercept\n",
    "line_eq = \"y= \" + str(round(slope, 2)) + \"x + \" + str(round(intercept, 2))\n",
    "plt.plot(x_axis, regress_values, \"r-\")\n",
    "plt.annotate(line_eq, (-20, 25), fontsize = 15, color = \"red\")\n",
    "\n",
    "# Format plot\n",
    "plt.title(f\"City Latitude vs. Wind Speed ({converted_weather_data_df[1]})\")\n",
    "plt.xlabel(\"Latitude\")\n",
    "plt.ylabel(\"Wind Speed (mph)\")\n",
    "plt.grid()\n",
    "\n",
    "# Print correlation and plot \n",
    "print(f\"The r-value is: {rvalue**2}\")\n",
    "\n",
    "# Save figure \n",
    "plt.savefig(\"Images/South_Lat_WindSpeed.png\")\n",
    "\n",
    "plt.show()"
   ]
  },
  {
   "cell_type": "code",
   "execution_count": 29,
   "metadata": {},
   "outputs": [],
   "source": [
    "## The two plots above analyze the relationship between latitude and wind speed in both the northern and southern hemispheres. \n",
    "## The graphs indicate that wind speed remains below 15% in the majority of locations - with a larger amount of cities in this dataset existing in the northern hemisphere. There is a slightly positive correlation in the northern hemisphere and slightly negative correlation in the southern hemisphere. "
   ]
  },
  {
   "cell_type": "code",
   "execution_count": null,
   "metadata": {},
   "outputs": [],
   "source": []
  }
 ],
 "metadata": {
  "anaconda-cloud": {},
  "kernel_info": {
   "name": "python3"
  },
  "kernelspec": {
   "display_name": "Python [conda env:PythonData] *",
   "language": "python",
   "name": "conda-env-PythonData-py"
  },
  "language_info": {
   "codemirror_mode": {
    "name": "ipython",
    "version": 3
   },
   "file_extension": ".py",
   "mimetype": "text/x-python",
   "name": "python",
   "nbconvert_exporter": "python",
   "pygments_lexer": "ipython3",
   "version": "3.6.10"
  },
  "latex_envs": {
   "LaTeX_envs_menu_present": true,
   "autoclose": false,
   "autocomplete": true,
   "bibliofile": "biblio.bib",
   "cite_by": "apalike",
   "current_citInitial": 1,
   "eqLabelWithNumbers": true,
   "eqNumInitial": 1,
   "hotkeys": {
    "equation": "Ctrl-E",
    "itemize": "Ctrl-I"
   },
   "labels_anchors": false,
   "latex_user_defs": false,
   "report_style_numbering": false,
   "user_envs_cfg": false
  },
  "nteract": {
   "version": "0.12.3"
  }
 },
 "nbformat": 4,
 "nbformat_minor": 2
}
