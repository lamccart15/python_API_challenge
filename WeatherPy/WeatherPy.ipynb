{
 "cells": [
  {
   "cell_type": "markdown",
   "metadata": {},
   "source": [
    "# WeatherPy\n",
    "----\n",
    "\n",
    "#### Note\n",
    "* Instructions have been included for each segment. You do not have to follow them exactly, but they are included to help you think through the steps."
   ]
  },
  {
   "cell_type": "code",
   "execution_count": 53,
   "metadata": {
    "scrolled": true
   },
   "outputs": [],
   "source": [
    "# Dependencies and Setup\n",
    "import matplotlib.pyplot as plt\n",
    "import pandas as pd\n",
    "import numpy as np\n",
    "import requests\n",
    "import time\n",
    "from scipy.stats import linregress\n",
    "import datetime\n",
    "\n",
    "# Import API key\n",
    "from api_keys import weather_api_key\n",
    "\n",
    "# Incorporated citipy to determine city based on latitude and longitude\n",
    "from citipy import citipy\n",
    "\n",
    "# Output File (CSV)\n",
    "output_data_file = \"output_data/cities.csv\"\n",
    "\n",
    "# Range of latitudes and longitudes\n",
    "lat_range = (-90, 90)\n",
    "lng_range = (-180, 180)"
   ]
  },
  {
   "cell_type": "markdown",
   "metadata": {},
   "source": [
    "## Generate Cities List"
   ]
  },
  {
   "cell_type": "code",
   "execution_count": 2,
   "metadata": {},
   "outputs": [
    {
     "data": {
      "text/plain": [
       "594"
      ]
     },
     "execution_count": 2,
     "metadata": {},
     "output_type": "execute_result"
    }
   ],
   "source": [
    "# List for holding lat_lngs and cities\n",
    "lat_lngs = []\n",
    "cities = []\n",
    "\n",
    "# Create a set of random lat and lng combinations\n",
    "lats = np.random.uniform(lat_range[0], lat_range[1], size=1500)\n",
    "lngs = np.random.uniform(lng_range[0], lng_range[1], size=1500)\n",
    "lat_lngs = zip(lats, lngs)\n",
    "\n",
    "# Identify nearest city for each lat, lng combination\n",
    "for lat_lng in lat_lngs:\n",
    "    city = citipy.nearest_city(lat_lng[0], lat_lng[1]).city_name\n",
    "    \n",
    "    # If the city is unique, then add it to a our cities list\n",
    "    if city not in cities:\n",
    "        cities.append(city)\n",
    "\n",
    "# Print the city count to confirm sufficient count\n",
    "len(cities)"
   ]
  },
  {
   "cell_type": "markdown",
   "metadata": {},
   "source": [
    "### Perform API Calls\n",
    "* Perform a weather check on each city using a series of successive API calls.\n",
    "* Include a print log of each city as it'sbeing processed (with the city number and city name).\n"
   ]
  },
  {
   "cell_type": "code",
   "execution_count": 3,
   "metadata": {},
   "outputs": [],
   "source": [
    "## Identify url and units\n",
    "url = \"http://api.openweathermap.org/data/2.5/weather?\"\n",
    "units = \"imperial\"\n",
    "\n",
    "# Build partial query URL\n",
    "query_url = f\"{url}appid={weather_api_key}&units={units}&q=\""
   ]
  },
  {
   "cell_type": "code",
   "execution_count": 42,
   "metadata": {
    "scrolled": false
   },
   "outputs": [
    {
     "name": "stdout",
     "output_type": "stream",
     "text": [
      "----------------------------\n",
      "Beginning Data Retrieval\n",
      "----------------------------\n",
      "Processing Record 1 of Set 1 | luanda.\n",
      "Processing Record 2 of Set 1 | chenzhou.\n",
      "Processing Record 3 of Set 1 | portland.\n",
      "Processing Record 4 of Set 1 | punta arenas.\n",
      "Processing Record 5 of Set 1 | pangnirtung.\n",
      "Processing Record 6 of Set 1 | mount gambier.\n",
      "Processing Record 7 of Set 1 | mar del plata.\n",
      "Processing Record 8 of Set 1 | hami.\n",
      "Processing Record 9 of Set 1 | rikitea.\n",
      "Processing Record 10 of Set 1 | cape town.\n",
      "Processing Record 11 of Set 1 | mandera.\n",
      "Processing Record 12 of Set 1 | qaqortoq.\n",
      "Processing Record 13 of Set 1 | lavrentiya.\n",
      "Processing Record 14 of Set 1 | launceston.\n",
      "Processing Record 15 of Set 1 | port lincoln.\n",
      "Processing Record 16 of Set 1 | jamestown.\n",
      "Processing Record 17 of Set 1 | butaritari.\n",
      "Processing Record 18 of Set 1 | ancud.\n",
      "Processing Record 19 of Set 1 | tasiilaq.\n",
      "Processing Record 20 of Set 1 | ushuaia.\n",
      "Processing Record 21 of Set 1 | kavaratti.\n",
      "City not found. Skipping...\n",
      "City not found. Skipping...\n",
      "Processing Record 22 of Set 1 | ulaangom.\n",
      "Processing Record 23 of Set 1 | inuvik.\n",
      "Processing Record 24 of Set 1 | faanui.\n",
      "Processing Record 25 of Set 1 | tambun.\n",
      "Processing Record 26 of Set 1 | busselton.\n",
      "Processing Record 27 of Set 1 | puerto ayora.\n",
      "Processing Record 28 of Set 1 | guhagar.\n",
      "Processing Record 29 of Set 1 | khatanga.\n",
      "Processing Record 30 of Set 1 | tibati.\n",
      "Processing Record 31 of Set 1 | codrington.\n",
      "Processing Record 32 of Set 1 | east london.\n",
      "Processing Record 33 of Set 1 | hermanus.\n",
      "Processing Record 34 of Set 1 | adrar.\n",
      "Processing Record 35 of Set 1 | bredasdorp.\n",
      "Processing Record 36 of Set 1 | puerto el triunfo.\n",
      "Processing Record 37 of Set 1 | kapaa.\n",
      "Processing Record 38 of Set 1 | kruisfontein.\n",
      "Processing Record 39 of Set 1 | bethel.\n",
      "Processing Record 40 of Set 1 | leningradskiy.\n",
      "Processing Record 41 of Set 1 | arraial do cabo.\n",
      "Processing Record 42 of Set 1 | vao.\n",
      "Processing Record 43 of Set 1 | hilo.\n",
      "Processing Record 44 of Set 1 | takab.\n",
      "Processing Record 45 of Set 1 | kikwit.\n",
      "Processing Record 46 of Set 1 | bluff.\n",
      "Processing Record 47 of Set 1 | maragogi.\n",
      "Processing Record 48 of Set 1 | zelenoborskiy.\n",
      "Processing Record 49 of Set 1 | port elizabeth.\n",
      "Processing Record 50 of Set 1 | hithadhoo.\n",
      "Processing Record 1 of Set 2 | mataura.\n",
      "Processing Record 2 of Set 2 | castro.\n",
      "City not found. Skipping...\n",
      "Processing Record 3 of Set 2 | gat.\n",
      "Processing Record 4 of Set 2 | benicarlo.\n",
      "Processing Record 5 of Set 2 | bryan.\n",
      "Processing Record 6 of Set 2 | comodoro rivadavia.\n",
      "Processing Record 7 of Set 2 | iqaluit.\n",
      "Processing Record 8 of Set 2 | provideniya.\n",
      "Processing Record 9 of Set 2 | itarema.\n",
      "Processing Record 10 of Set 2 | tiksi.\n",
      "Processing Record 11 of Set 2 | khuzdar.\n",
      "Processing Record 12 of Set 2 | kaitangata.\n",
      "Processing Record 13 of Set 2 | bara.\n",
      "Processing Record 14 of Set 2 | havoysund.\n",
      "Processing Record 15 of Set 2 | clyde river.\n",
      "Processing Record 16 of Set 2 | barrow.\n",
      "Processing Record 17 of Set 2 | georgetown.\n",
      "City not found. Skipping...\n",
      "Processing Record 18 of Set 2 | muzhi.\n",
      "Processing Record 19 of Set 2 | wajir.\n",
      "Processing Record 20 of Set 2 | naples.\n",
      "Processing Record 21 of Set 2 | airai.\n",
      "City not found. Skipping...\n",
      "City not found. Skipping...\n",
      "Processing Record 22 of Set 2 | ushtobe.\n",
      "Processing Record 23 of Set 2 | guarda.\n",
      "Processing Record 24 of Set 2 | san quintin.\n",
      "Processing Record 25 of Set 2 | gambo.\n",
      "Processing Record 26 of Set 2 | bose.\n",
      "City not found. Skipping...\n",
      "Processing Record 27 of Set 2 | atuona.\n",
      "Processing Record 28 of Set 2 | abapo.\n",
      "Processing Record 29 of Set 2 | camacha.\n",
      "Processing Record 30 of Set 2 | kirakira.\n",
      "Processing Record 31 of Set 2 | yei.\n",
      "Processing Record 32 of Set 2 | mayo.\n",
      "City not found. Skipping...\n",
      "Processing Record 33 of Set 2 | klaksvik.\n",
      "Processing Record 34 of Set 2 | upernavik.\n",
      "Processing Record 35 of Set 2 | nikolskoye.\n",
      "Processing Record 36 of Set 2 | dingle.\n",
      "Processing Record 37 of Set 2 | port augusta.\n",
      "Processing Record 38 of Set 2 | kulhudhuffushi.\n",
      "Processing Record 39 of Set 2 | victoria.\n",
      "Processing Record 40 of Set 2 | tuktoyaktuk.\n",
      "Processing Record 41 of Set 2 | san carlos de bariloche.\n",
      "Processing Record 42 of Set 2 | faya.\n",
      "Processing Record 43 of Set 2 | port-gentil.\n",
      "Processing Record 44 of Set 2 | taksimo.\n",
      "City not found. Skipping...\n",
      "Processing Record 45 of Set 2 | road town.\n",
      "Processing Record 46 of Set 2 | devils lake.\n",
      "Processing Record 47 of Set 2 | roebourne.\n",
      "Processing Record 48 of Set 2 | takoradi.\n",
      "Processing Record 49 of Set 2 | albany.\n",
      "Processing Record 50 of Set 2 | kerman.\n",
      "Processing Record 1 of Set 3 | bengkulu.\n",
      "Processing Record 2 of Set 3 | avarua.\n",
      "Processing Record 3 of Set 3 | cidreira.\n",
      "City not found. Skipping...\n",
      "Processing Record 4 of Set 3 | alekseyevsk.\n",
      "Processing Record 5 of Set 3 | new norfolk.\n",
      "Processing Record 6 of Set 3 | pervomaysk.\n",
      "City not found. Skipping...\n",
      "Processing Record 7 of Set 3 | vaini.\n",
      "Processing Record 8 of Set 3 | klyuchi.\n",
      "Processing Record 9 of Set 3 | bambous virieux.\n",
      "Processing Record 10 of Set 3 | mahebourg.\n",
      "Processing Record 11 of Set 3 | kushiro.\n",
      "Processing Record 12 of Set 3 | tucurui.\n",
      "Processing Record 13 of Set 3 | vestmannaeyjar.\n",
      "Processing Record 14 of Set 3 | mehamn.\n",
      "Processing Record 15 of Set 3 | laguna.\n",
      "Processing Record 16 of Set 3 | warri.\n",
      "Processing Record 17 of Set 3 | aseri.\n",
      "Processing Record 18 of Set 3 | opuwo.\n",
      "City not found. Skipping...\n",
      "Processing Record 19 of Set 3 | yellowknife.\n",
      "Processing Record 20 of Set 3 | lebu.\n",
      "Processing Record 21 of Set 3 | neyshabur.\n",
      "Processing Record 22 of Set 3 | pottstown.\n",
      "Processing Record 23 of Set 3 | kahului.\n",
      "Processing Record 24 of Set 3 | nouakchott.\n",
      "Processing Record 25 of Set 3 | nola.\n",
      "Processing Record 26 of Set 3 | salalah.\n",
      "Processing Record 27 of Set 3 | paamiut.\n",
      "Processing Record 28 of Set 3 | daru.\n",
      "Processing Record 29 of Set 3 | gamba.\n",
      "Processing Record 30 of Set 3 | sao joao da barra.\n",
      "Processing Record 31 of Set 3 | nankana sahib.\n",
      "Processing Record 32 of Set 3 | tuatapere.\n",
      "Processing Record 33 of Set 3 | mount isa.\n",
      "Processing Record 34 of Set 3 | kavieng.\n",
      "Processing Record 35 of Set 3 | surt.\n",
      "Processing Record 36 of Set 3 | salur.\n",
      "Processing Record 37 of Set 3 | katsuura.\n",
      "Processing Record 38 of Set 3 | torbay.\n",
      "Processing Record 39 of Set 3 | pokrovsk.\n",
      "Processing Record 40 of Set 3 | tomatlan.\n",
      "Processing Record 41 of Set 3 | port alfred.\n",
      "Processing Record 42 of Set 3 | anchorage.\n",
      "City not found. Skipping...\n",
      "Processing Record 43 of Set 3 | carnarvon.\n",
      "Processing Record 44 of Set 3 | petropavlovsk-kamchatskiy.\n",
      "Processing Record 45 of Set 3 | kodiak.\n",
      "Processing Record 46 of Set 3 | ribeira grande.\n",
      "Processing Record 47 of Set 3 | hambantota.\n",
      "Processing Record 48 of Set 3 | guiglo.\n",
      "Processing Record 49 of Set 3 | muros.\n",
      "City not found. Skipping...\n",
      "Processing Record 50 of Set 3 | periyapatti.\n",
      "Processing Record 1 of Set 4 | erzin.\n",
      "City not found. Skipping...\n",
      "Processing Record 2 of Set 4 | qaanaaq.\n",
      "City not found. Skipping...\n",
      "Processing Record 3 of Set 4 | vangaindrano.\n",
      "Processing Record 4 of Set 4 | mandal.\n",
      "Processing Record 5 of Set 4 | praia da vitoria.\n",
      "Processing Record 6 of Set 4 | peddapalli.\n",
      "Processing Record 7 of Set 4 | batagay-alyta.\n",
      "Processing Record 8 of Set 4 | norman wells.\n",
      "Processing Record 9 of Set 4 | omaruru.\n",
      "Processing Record 10 of Set 4 | broken hill.\n",
      "Processing Record 11 of Set 4 | pevek.\n",
      "Processing Record 12 of Set 4 | awbari.\n",
      "Processing Record 13 of Set 4 | vila.\n",
      "Processing Record 14 of Set 4 | dikson.\n",
      "Processing Record 15 of Set 4 | karaton.\n",
      "Processing Record 16 of Set 4 | ponta do sol.\n",
      "City not found. Skipping...\n",
      "Processing Record 17 of Set 4 | eydhafushi.\n",
      "Processing Record 18 of Set 4 | robertsonpet.\n",
      "Processing Record 19 of Set 4 | vostok.\n",
      "Processing Record 20 of Set 4 | panalingaan.\n",
      "Processing Record 21 of Set 4 | wageningen.\n",
      "Processing Record 22 of Set 4 | thompson.\n",
      "Processing Record 23 of Set 4 | harper.\n",
      "Processing Record 24 of Set 4 | chokurdakh.\n",
      "Processing Record 25 of Set 4 | severo-kurilsk.\n",
      "Processing Record 26 of Set 4 | zimmi.\n",
      "Processing Record 27 of Set 4 | chara.\n",
      "Processing Record 28 of Set 4 | esperance.\n",
      "Processing Record 29 of Set 4 | pata.\n",
      "Processing Record 30 of Set 4 | dalnerechensk.\n",
      "Processing Record 31 of Set 4 | waddan.\n"
     ]
    },
    {
     "name": "stdout",
     "output_type": "stream",
     "text": [
      "Processing Record 32 of Set 4 | port macquarie.\n",
      "Processing Record 33 of Set 4 | santa maria.\n",
      "Processing Record 34 of Set 4 | orillia.\n",
      "Processing Record 35 of Set 4 | sumter.\n",
      "Processing Record 36 of Set 4 | ilulissat.\n",
      "Processing Record 37 of Set 4 | aksarka.\n",
      "Processing Record 38 of Set 4 | simao.\n",
      "Processing Record 39 of Set 4 | samarai.\n",
      "Processing Record 40 of Set 4 | mount barker.\n",
      "Processing Record 41 of Set 4 | chuy.\n",
      "Processing Record 42 of Set 4 | fairbanks.\n",
      "Processing Record 43 of Set 4 | srednekolymsk.\n",
      "Processing Record 44 of Set 4 | haysville.\n",
      "Processing Record 45 of Set 4 | saint george.\n",
      "Processing Record 46 of Set 4 | namibe.\n",
      "Processing Record 47 of Set 4 | punto fijo.\n",
      "Processing Record 48 of Set 4 | saint-philippe.\n",
      "Processing Record 49 of Set 4 | buala.\n",
      "Processing Record 50 of Set 4 | coxim.\n",
      "Processing Record 1 of Set 5 | radomsko.\n",
      "Processing Record 2 of Set 5 | naryan-mar.\n",
      "Processing Record 3 of Set 5 | lompoc.\n",
      "Processing Record 4 of Set 5 | ituacu.\n",
      "Processing Record 5 of Set 5 | alta floresta.\n",
      "Processing Record 6 of Set 5 | richards bay.\n",
      "Processing Record 7 of Set 5 | adolfo lopez mateos.\n",
      "Processing Record 8 of Set 5 | makakilo city.\n",
      "Processing Record 9 of Set 5 | prince albert.\n",
      "Processing Record 10 of Set 5 | kurumkan.\n",
      "Processing Record 11 of Set 5 | caravelas.\n",
      "Processing Record 12 of Set 5 | fortuna.\n",
      "Processing Record 13 of Set 5 | carutapera.\n",
      "Processing Record 14 of Set 5 | saldanha.\n",
      "Processing Record 15 of Set 5 | shelburne.\n",
      "Processing Record 16 of Set 5 | dhidhdhoo.\n",
      "Processing Record 17 of Set 5 | mahajanga.\n",
      "Processing Record 18 of Set 5 | les cayes.\n",
      "Processing Record 19 of Set 5 | noumea.\n",
      "Processing Record 20 of Set 5 | moron.\n",
      "City not found. Skipping...\n",
      "Processing Record 21 of Set 5 | quelimane.\n",
      "Processing Record 22 of Set 5 | fort beaufort.\n",
      "Processing Record 23 of Set 5 | tadine.\n",
      "Processing Record 24 of Set 5 | mrakovo.\n",
      "Processing Record 25 of Set 5 | shenjiamen.\n",
      "City not found. Skipping...\n",
      "Processing Record 26 of Set 5 | basco.\n",
      "Processing Record 27 of Set 5 | boyolangu.\n",
      "Processing Record 28 of Set 5 | kuytun.\n",
      "Processing Record 29 of Set 5 | hailar.\n",
      "Processing Record 30 of Set 5 | atkarsk.\n",
      "Processing Record 31 of Set 5 | port hedland.\n",
      "Processing Record 32 of Set 5 | okato.\n",
      "Processing Record 33 of Set 5 | hobart.\n",
      "Processing Record 34 of Set 5 | geraldton.\n",
      "Processing Record 35 of Set 5 | torreon.\n",
      "Processing Record 36 of Set 5 | abu samrah.\n",
      "Processing Record 37 of Set 5 | graham.\n",
      "Processing Record 38 of Set 5 | halifax.\n",
      "City not found. Skipping...\n",
      "Processing Record 39 of Set 5 | poronaysk.\n",
      "Processing Record 40 of Set 5 | kathmandu.\n",
      "Processing Record 41 of Set 5 | goundam.\n",
      "Processing Record 42 of Set 5 | rio grande.\n",
      "Processing Record 43 of Set 5 | tuy hoa.\n",
      "Processing Record 44 of Set 5 | iberia.\n",
      "Processing Record 45 of Set 5 | tual.\n",
      "Processing Record 46 of Set 5 | meulaboh.\n",
      "Processing Record 47 of Set 5 | charcas.\n",
      "Processing Record 48 of Set 5 | alexandria.\n",
      "Processing Record 49 of Set 5 | bilma.\n",
      "Processing Record 50 of Set 5 | hofn.\n",
      "Processing Record 1 of Set 6 | asau.\n",
      "Processing Record 2 of Set 6 | nokaneng.\n",
      "Processing Record 3 of Set 6 | qixingtai.\n",
      "Processing Record 4 of Set 6 | tilichiki.\n",
      "Processing Record 5 of Set 6 | san patricio.\n",
      "City not found. Skipping...\n",
      "Processing Record 6 of Set 6 | mangrol.\n",
      "Processing Record 7 of Set 6 | vila velha.\n",
      "Processing Record 8 of Set 6 | sergeyevka.\n",
      "Processing Record 9 of Set 6 | colares.\n",
      "Processing Record 10 of Set 6 | marsabit.\n",
      "Processing Record 11 of Set 6 | guaratuba.\n",
      "Processing Record 12 of Set 6 | andenes.\n",
      "City not found. Skipping...\n",
      "Processing Record 13 of Set 6 | palimbang.\n",
      "City not found. Skipping...\n",
      "Processing Record 14 of Set 6 | mount hagen.\n",
      "Processing Record 15 of Set 6 | nanortalik.\n",
      "Processing Record 16 of Set 6 | port hawkesbury.\n",
      "Processing Record 17 of Set 6 | lagoa.\n",
      "Processing Record 18 of Set 6 | guilin.\n",
      "City not found. Skipping...\n",
      "Processing Record 19 of Set 6 | andra.\n",
      "Processing Record 20 of Set 6 | ahipara.\n",
      "Processing Record 21 of Set 6 | hornepayne.\n",
      "Processing Record 22 of Set 6 | seguin.\n",
      "Processing Record 23 of Set 6 | balgazyn.\n",
      "Processing Record 24 of Set 6 | hamilton.\n",
      "Processing Record 25 of Set 6 | bandarbeyla.\n",
      "Processing Record 26 of Set 6 | evensk.\n",
      "Processing Record 27 of Set 6 | isangel.\n",
      "Processing Record 28 of Set 6 | walvis bay.\n",
      "Processing Record 29 of Set 6 | kologriv.\n",
      "Processing Record 30 of Set 6 | yaan.\n",
      "Processing Record 31 of Set 6 | shimoda.\n",
      "Processing Record 32 of Set 6 | sukhumi.\n",
      "Processing Record 33 of Set 6 | morristown.\n",
      "Processing Record 34 of Set 6 | digby.\n",
      "Processing Record 35 of Set 6 | zarate.\n",
      "Processing Record 36 of Set 6 | port hardy.\n",
      "Processing Record 37 of Set 6 | merauke.\n",
      "Processing Record 38 of Set 6 | guane.\n",
      "Processing Record 39 of Set 6 | ostrovnoy.\n",
      "Processing Record 40 of Set 6 | coihaique.\n",
      "City not found. Skipping...\n",
      "Processing Record 41 of Set 6 | anzhero-sudzhensk.\n",
      "City not found. Skipping...\n",
      "Processing Record 42 of Set 6 | zambezi.\n",
      "Processing Record 43 of Set 6 | mookane.\n",
      "Processing Record 44 of Set 6 | sao filipe.\n",
      "Processing Record 45 of Set 6 | ajdabiya.\n",
      "Processing Record 46 of Set 6 | marsaxlokk.\n",
      "Processing Record 47 of Set 6 | kwinana.\n",
      "Processing Record 48 of Set 6 | jerantut.\n",
      "Processing Record 49 of Set 6 | beloha.\n",
      "Processing Record 50 of Set 6 | dunedin.\n",
      "Processing Record 1 of Set 7 | college.\n",
      "Processing Record 2 of Set 7 | kurchum.\n",
      "City not found. Skipping...\n",
      "Processing Record 3 of Set 7 | yumen.\n",
      "Processing Record 4 of Set 7 | baker city.\n",
      "Processing Record 5 of Set 7 | marrakesh.\n",
      "Processing Record 6 of Set 7 | saint-pierre.\n",
      "Processing Record 7 of Set 7 | rudsar.\n",
      "Processing Record 8 of Set 7 | silver city.\n",
      "Processing Record 9 of Set 7 | talnakh.\n",
      "Processing Record 10 of Set 7 | ous.\n",
      "Processing Record 11 of Set 7 | hargeysa.\n",
      "Processing Record 12 of Set 7 | swan hill.\n",
      "Processing Record 13 of Set 7 | olot.\n",
      "Processing Record 14 of Set 7 | mareeba.\n",
      "Processing Record 15 of Set 7 | altay.\n",
      "Processing Record 16 of Set 7 | pisco.\n",
      "Processing Record 17 of Set 7 | menongue.\n",
      "Processing Record 18 of Set 7 | ormara.\n",
      "Processing Record 19 of Set 7 | sao miguel do araguaia.\n",
      "Processing Record 20 of Set 7 | ayan.\n",
      "City not found. Skipping...\n",
      "City not found. Skipping...\n",
      "Processing Record 21 of Set 7 | caxito.\n",
      "Processing Record 22 of Set 7 | khilok.\n",
      "Processing Record 23 of Set 7 | cullera.\n",
      "Processing Record 24 of Set 7 | ankazoabo.\n",
      "Processing Record 25 of Set 7 | nzerekore.\n",
      "Processing Record 26 of Set 7 | puerto baquerizo moreno.\n",
      "Processing Record 27 of Set 7 | jingdezhen.\n",
      "City not found. Skipping...\n",
      "City not found. Skipping...\n",
      "City not found. Skipping...\n",
      "Processing Record 28 of Set 7 | jak.\n",
      "City not found. Skipping...\n",
      "Processing Record 29 of Set 7 | teruel.\n",
      "Processing Record 30 of Set 7 | abu road.\n",
      "Processing Record 31 of Set 7 | arawa.\n",
      "Processing Record 32 of Set 7 | lorengau.\n",
      "City not found. Skipping...\n",
      "Processing Record 33 of Set 7 | pacific grove.\n",
      "Processing Record 34 of Set 7 | nuuk.\n",
      "Processing Record 35 of Set 7 | san luis.\n",
      "Processing Record 36 of Set 7 | sinnamary.\n",
      "Processing Record 37 of Set 7 | kushima.\n",
      "Processing Record 38 of Set 7 | kaduna.\n",
      "Processing Record 39 of Set 7 | praia.\n",
      "Processing Record 40 of Set 7 | chik.\n",
      "Processing Record 41 of Set 7 | lumeje.\n",
      "Processing Record 42 of Set 7 | paita.\n",
      "Processing Record 43 of Set 7 | bauchi.\n",
      "Processing Record 44 of Set 7 | constitucion.\n",
      "Processing Record 45 of Set 7 | ikauna.\n",
      "Processing Record 46 of Set 7 | springbok.\n",
      "Processing Record 47 of Set 7 | mount pleasant.\n",
      "Processing Record 48 of Set 7 | charters towers.\n",
      "Processing Record 49 of Set 7 | nome.\n",
      "City not found. Skipping...\n",
      "Processing Record 50 of Set 7 | atambua.\n",
      "Processing Record 1 of Set 8 | stokmarknes.\n",
      "Processing Record 2 of Set 8 | te anau.\n",
      "Processing Record 3 of Set 8 | bayburt.\n",
      "Processing Record 4 of Set 8 | killybegs.\n",
      "Processing Record 5 of Set 8 | saint anthony.\n",
      "Processing Record 6 of Set 8 | taoudenni.\n",
      "Processing Record 7 of Set 8 | iskateley.\n",
      "Processing Record 8 of Set 8 | buribay.\n",
      "Processing Record 9 of Set 8 | mortka.\n",
      "Processing Record 10 of Set 8 | nushki.\n",
      "Processing Record 11 of Set 8 | biggar.\n",
      "Processing Record 12 of Set 8 | washington.\n",
      "Processing Record 13 of Set 8 | cabanas.\n",
      "Processing Record 14 of Set 8 | kaeo.\n",
      "Processing Record 15 of Set 8 | ligayan.\n"
     ]
    },
    {
     "name": "stdout",
     "output_type": "stream",
     "text": [
      "Processing Record 16 of Set 8 | baruun-urt.\n",
      "Processing Record 17 of Set 8 | kardasova recice.\n",
      "Processing Record 18 of Set 8 | dorado.\n",
      "Processing Record 19 of Set 8 | ambon.\n",
      "Processing Record 20 of Set 8 | arrecife.\n",
      "Processing Record 21 of Set 8 | vardo.\n",
      "Processing Record 22 of Set 8 | lisakovsk.\n",
      "Processing Record 23 of Set 8 | zhigansk.\n",
      "Processing Record 24 of Set 8 | trairi.\n",
      "Processing Record 25 of Set 8 | ixtapa.\n",
      "City not found. Skipping...\n",
      "Processing Record 26 of Set 8 | bay roberts.\n",
      "Processing Record 27 of Set 8 | baykalsk.\n",
      "Processing Record 28 of Set 8 | sarh.\n",
      "Processing Record 29 of Set 8 | tendukheda.\n",
      "City not found. Skipping...\n",
      "Processing Record 30 of Set 8 | christchurch.\n",
      "Processing Record 31 of Set 8 | aksu.\n",
      "City not found. Skipping...\n",
      "Processing Record 32 of Set 8 | guanica.\n",
      "Processing Record 33 of Set 8 | taitung.\n",
      "Processing Record 34 of Set 8 | krasnoselkup.\n",
      "Processing Record 35 of Set 8 | najran.\n",
      "Processing Record 36 of Set 8 | krapivinskiy.\n",
      "Processing Record 37 of Set 8 | nalut.\n",
      "Processing Record 38 of Set 8 | severnoye.\n",
      "Processing Record 39 of Set 8 | bathsheba.\n",
      "Processing Record 40 of Set 8 | suicheng.\n",
      "Processing Record 41 of Set 8 | wichita falls.\n",
      "Processing Record 42 of Set 8 | tucuman.\n",
      "Processing Record 43 of Set 8 | seoul.\n",
      "Processing Record 44 of Set 8 | sestu.\n",
      "Processing Record 45 of Set 8 | nenjiang.\n",
      "Processing Record 46 of Set 8 | antofagasta.\n",
      "Processing Record 47 of Set 8 | sangre grande.\n",
      "Processing Record 48 of Set 8 | manzhouli.\n",
      "Processing Record 49 of Set 8 | quatre cocos.\n",
      "Processing Record 50 of Set 8 | anadyr.\n",
      "Processing Record 1 of Set 9 | alofi.\n",
      "Processing Record 2 of Set 9 | longyearbyen.\n",
      "Processing Record 3 of Set 9 | kelvington.\n",
      "Processing Record 4 of Set 9 | coutances.\n",
      "Processing Record 5 of Set 9 | esmeraldas.\n",
      "Processing Record 6 of Set 9 | port blair.\n",
      "Processing Record 7 of Set 9 | zlotow.\n",
      "Processing Record 8 of Set 9 | omsukchan.\n",
      "Processing Record 9 of Set 9 | kuusamo.\n",
      "Processing Record 10 of Set 9 | chilca.\n",
      "City not found. Skipping...\n",
      "Processing Record 11 of Set 9 | buraydah.\n",
      "City not found. Skipping...\n",
      "City not found. Skipping...\n",
      "Processing Record 12 of Set 9 | rioblanco.\n",
      "Processing Record 13 of Set 9 | saskylakh.\n",
      "Processing Record 14 of Set 9 | funtua.\n",
      "Processing Record 15 of Set 9 | vanavara.\n",
      "Processing Record 16 of Set 9 | moose factory.\n",
      "Processing Record 17 of Set 9 | vung tau.\n",
      "Processing Record 18 of Set 9 | devanhalli.\n",
      "Processing Record 19 of Set 9 | ornskoldsvik.\n",
      "Processing Record 20 of Set 9 | padang.\n",
      "Processing Record 21 of Set 9 | sorland.\n",
      "Processing Record 22 of Set 9 | morant bay.\n",
      "Processing Record 23 of Set 9 | watsa.\n",
      "Processing Record 24 of Set 9 | cururupu.\n",
      "Processing Record 25 of Set 9 | nyaunglebin.\n",
      "Processing Record 26 of Set 9 | mahbubabad.\n",
      "Processing Record 27 of Set 9 | tabou.\n",
      "Processing Record 28 of Set 9 | ojinaga.\n",
      "Processing Record 29 of Set 9 | hasaki.\n",
      "Processing Record 30 of Set 9 | chala.\n",
      "Processing Record 31 of Set 9 | wanaka.\n",
      "Processing Record 32 of Set 9 | kedrovyy.\n",
      "Processing Record 33 of Set 9 | san miguel.\n",
      "Processing Record 34 of Set 9 | koumac.\n",
      "Processing Record 35 of Set 9 | oktyabrskiy.\n",
      "Processing Record 36 of Set 9 | moree.\n",
      "Processing Record 37 of Set 9 | scalea.\n",
      "Processing Record 38 of Set 9 | los llanos de aridane.\n",
      "Processing Record 39 of Set 9 | souillac.\n",
      "Processing Record 40 of Set 9 | xuddur.\n",
      "Processing Record 41 of Set 9 | marsh harbour.\n",
      "Processing Record 42 of Set 9 | arlit.\n",
      "Processing Record 43 of Set 9 | aripuana.\n",
      "Processing Record 44 of Set 9 | andilamena.\n",
      "Processing Record 45 of Set 9 | san juan.\n",
      "Processing Record 46 of Set 9 | okhotsk.\n",
      "Processing Record 47 of Set 9 | victor harbor.\n",
      "Processing Record 48 of Set 9 | aykhal.\n",
      "Processing Record 49 of Set 9 | leua.\n",
      "Processing Record 50 of Set 9 | vanimo.\n",
      "City not found. Skipping...\n",
      "City not found. Skipping...\n",
      "Processing Record 1 of Set 10 | trat.\n",
      "Processing Record 2 of Set 10 | mishan.\n",
      "Processing Record 3 of Set 10 | mto wa mbu.\n",
      "Processing Record 4 of Set 10 | lamu.\n",
      "Processing Record 5 of Set 10 | ust-nera.\n",
      "Processing Record 6 of Set 10 | kamiiso.\n",
      "City not found. Skipping...\n",
      "Processing Record 7 of Set 10 | oudtshoorn.\n",
      "Processing Record 8 of Set 10 | dekar.\n",
      "Processing Record 9 of Set 10 | alugan.\n",
      "Processing Record 10 of Set 10 | hanmer springs.\n",
      "Processing Record 11 of Set 10 | sitka.\n",
      "Processing Record 12 of Set 10 | talara.\n",
      "City not found. Skipping...\n",
      "Processing Record 13 of Set 10 | oranjestad.\n",
      "Processing Record 14 of Set 10 | atikokan.\n",
      "Processing Record 15 of Set 10 | saint-joseph.\n",
      "Processing Record 16 of Set 10 | etchoropo.\n",
      "Processing Record 17 of Set 10 | bonito.\n",
      "Processing Record 18 of Set 10 | riyadh.\n",
      "Processing Record 19 of Set 10 | susanville.\n",
      "Processing Record 20 of Set 10 | vettavalam.\n",
      "Processing Record 21 of Set 10 | kenai.\n",
      "Processing Record 22 of Set 10 | ponta delgada.\n",
      "Processing Record 23 of Set 10 | solomenskoye.\n",
      "Processing Record 24 of Set 10 | kaihua.\n",
      "Processing Record 25 of Set 10 | bubaque.\n",
      "Processing Record 26 of Set 10 | rocha.\n",
      "Processing Record 27 of Set 10 | bonavista.\n",
      "Processing Record 28 of Set 10 | esil.\n",
      "Processing Record 29 of Set 10 | imeni poliny osipenko.\n",
      "Processing Record 30 of Set 10 | bud.\n",
      "Processing Record 31 of Set 10 | merano.\n",
      "Processing Record 32 of Set 10 | ovalle.\n",
      "Processing Record 33 of Set 10 | olafsvik.\n",
      "Processing Record 34 of Set 10 | fereydun kenar.\n",
      "Processing Record 35 of Set 10 | yar-sale.\n",
      "Processing Record 36 of Set 10 | maceio.\n",
      "Processing Record 37 of Set 10 | pedasi.\n",
      "Processing Record 38 of Set 10 | kita.\n",
      "Processing Record 39 of Set 10 | pochutla.\n",
      "Processing Record 40 of Set 10 | biak.\n",
      "Processing Record 41 of Set 10 | nizhniy kuranakh.\n",
      "Processing Record 42 of Set 10 | nador.\n",
      "Processing Record 43 of Set 10 | kurilsk.\n",
      "Processing Record 44 of Set 10 | neuquen.\n",
      "Processing Record 45 of Set 10 | dzhebariki-khaya.\n",
      "Processing Record 46 of Set 10 | darnah.\n",
      "Processing Record 47 of Set 10 | lalmohan.\n",
      "Processing Record 48 of Set 10 | bilibino.\n",
      "Processing Record 49 of Set 10 | cayenne.\n",
      "Processing Record 50 of Set 10 | klyuchevskiy.\n",
      "Processing Record 1 of Set 11 | salekhard.\n",
      "Processing Record 2 of Set 11 | sitges.\n",
      "Processing Record 3 of Set 11 | dicabisagan.\n",
      "City not found. Skipping...\n",
      "Processing Record 4 of Set 11 | amiens.\n",
      "Processing Record 5 of Set 11 | porto walter.\n",
      "Processing Record 6 of Set 11 | along.\n",
      "City not found. Skipping...\n",
      "Processing Record 7 of Set 11 | tefe.\n",
      "Processing Record 8 of Set 11 | guerrero negro.\n",
      "Processing Record 9 of Set 11 | acapulco.\n",
      "Processing Record 10 of Set 11 | muswellbrook.\n",
      "Processing Record 11 of Set 11 | saint-augustin.\n",
      "Processing Record 12 of Set 11 | kiunga.\n",
      "Processing Record 13 of Set 11 | le vauclin.\n",
      "Processing Record 14 of Set 11 | marathon.\n",
      "Processing Record 15 of Set 11 | san jose.\n",
      "Processing Record 16 of Set 11 | maymyo.\n",
      "Processing Record 17 of Set 11 | porto santo.\n",
      "Processing Record 18 of Set 11 | coquimbo.\n",
      "Processing Record 19 of Set 11 | nha trang.\n",
      "Processing Record 20 of Set 11 | nhulunbuy.\n",
      "Processing Record 21 of Set 11 | ugoofaaru.\n",
      "Processing Record 22 of Set 11 | sur.\n",
      "Processing Record 23 of Set 11 | iquitos.\n",
      "Processing Record 24 of Set 11 | mangan.\n",
      "Processing Record 25 of Set 11 | nueve de julio.\n",
      "Processing Record 26 of Set 11 | hirara.\n",
      "Processing Record 27 of Set 11 | medicine hat.\n",
      "Processing Record 28 of Set 11 | kerema.\n",
      "Processing Record 29 of Set 11 | acarau.\n",
      "Processing Record 30 of Set 11 | zhangjiakou.\n",
      "Processing Record 31 of Set 11 | matane.\n",
      "Processing Record 32 of Set 11 | myrhorod.\n",
      "Processing Record 33 of Set 11 | namatanai.\n",
      "Processing Record 34 of Set 11 | margate.\n",
      "Processing Record 35 of Set 11 | mingyue.\n",
      "Processing Record 36 of Set 11 | otatitlan.\n",
      "Processing Record 37 of Set 11 | banda aceh.\n",
      "Processing Record 38 of Set 11 | tirumullaivasal.\n",
      "Processing Record 39 of Set 11 | cherskiy.\n",
      "Processing Record 40 of Set 11 | karimnagar.\n",
      "City not found. Skipping...\n",
      "Processing Record 41 of Set 11 | manta.\n",
      "Processing Record 42 of Set 11 | alice springs.\n",
      "Processing Record 43 of Set 11 | gouyave.\n",
      "Processing Record 44 of Set 11 | jalu.\n",
      "Processing Record 45 of Set 11 | cabadiangan.\n",
      "Processing Record 46 of Set 11 | khor.\n",
      "----------------------------\n",
      "Data Retrieval Complete\n",
      "----------------------------\n"
     ]
    }
   ],
   "source": [
    "# Create lists to hold data\n",
    "city_name = []\n",
    "lat = []\n",
    "lng = []\n",
    "max_temp = []\n",
    "humidity = []\n",
    "cloudiness = []\n",
    "windspeed = []\n",
    "country = []\n",
    "date = []\n",
    "\n",
    "# Loop through the list of cities and perform a request for data on each\n",
    "print(\"----------------------------\")\n",
    "print(f\"Beginning Data Retrieval\")\n",
    "print(\"----------------------------\")\n",
    "\n",
    "record = 0 \n",
    "set_number = 1 \n",
    "\n",
    "for city in cities:   \n",
    "\n",
    "    try:\n",
    "        response = requests.get(query_url + city).json()\n",
    "        city_name.append(response['name'])\n",
    "        lat.append(response['coord']['lat'])\n",
    "        lng.append(response['coord']['lon'])\n",
    "        max_temp.append(response['main']['temp_max'])\n",
    "        humidity.append(response['main']['humidity'])\n",
    "        cloudiness.append(response['clouds']['all'])\n",
    "        windspeed.append(response['wind']['speed'])\n",
    "        country.append(response['sys']['country'])\n",
    "        date.append(response['dt'])\n",
    "        \n",
    "        if record >= 50:\n",
    "            record = 1 \n",
    "            set_number = set_number + 1\n",
    "        else: \n",
    "            record = record + 1 \n",
    "\n",
    "        print(f\"Processing Record {record} of Set {set_number} | {city}.\")\n",
    "        time.sleep(1.01)\n",
    "    except:\n",
    "        print(\"City not found. Skipping...\")\n",
    "        time.sleep(1.01)\n",
    "        \n",
    "print(\"----------------------------\")\n",
    "print(f\"Data Retrieval Complete\")\n",
    "print(\"----------------------------\")    "
   ]
  },
  {
   "cell_type": "markdown",
   "metadata": {},
   "source": [
    "### Convert Raw Data to DataFrame\n",
    "* Export the city data into a .csv.\n",
    "* Display the DataFrame"
   ]
  },
  {
   "cell_type": "code",
   "execution_count": 43,
   "metadata": {},
   "outputs": [
    {
     "data": {
      "text/html": [
       "<div>\n",
       "<style scoped>\n",
       "    .dataframe tbody tr th:only-of-type {\n",
       "        vertical-align: middle;\n",
       "    }\n",
       "\n",
       "    .dataframe tbody tr th {\n",
       "        vertical-align: top;\n",
       "    }\n",
       "\n",
       "    .dataframe thead th {\n",
       "        text-align: right;\n",
       "    }\n",
       "</style>\n",
       "<table border=\"1\" class=\"dataframe\">\n",
       "  <thead>\n",
       "    <tr style=\"text-align: right;\">\n",
       "      <th></th>\n",
       "      <th>City</th>\n",
       "      <th>Lat</th>\n",
       "      <th>Lng</th>\n",
       "      <th>Max Temp</th>\n",
       "      <th>Humidity</th>\n",
       "      <th>Cloudiness</th>\n",
       "      <th>Wind Speed</th>\n",
       "      <th>Country</th>\n",
       "      <th>Date</th>\n",
       "    </tr>\n",
       "  </thead>\n",
       "  <tbody>\n",
       "    <tr>\n",
       "      <th>0</th>\n",
       "      <td>Luanda</td>\n",
       "      <td>-8.8368</td>\n",
       "      <td>13.2343</td>\n",
       "      <td>77.00</td>\n",
       "      <td>88</td>\n",
       "      <td>75</td>\n",
       "      <td>5.75</td>\n",
       "      <td>AO</td>\n",
       "      <td>1618000782</td>\n",
       "    </tr>\n",
       "    <tr>\n",
       "      <th>1</th>\n",
       "      <td>Chenzhou</td>\n",
       "      <td>25.8000</td>\n",
       "      <td>113.0333</td>\n",
       "      <td>58.64</td>\n",
       "      <td>95</td>\n",
       "      <td>100</td>\n",
       "      <td>1.23</td>\n",
       "      <td>CN</td>\n",
       "      <td>1618000783</td>\n",
       "    </tr>\n",
       "    <tr>\n",
       "      <th>2</th>\n",
       "      <td>Portland</td>\n",
       "      <td>45.5234</td>\n",
       "      <td>-122.6762</td>\n",
       "      <td>57.99</td>\n",
       "      <td>47</td>\n",
       "      <td>75</td>\n",
       "      <td>4.61</td>\n",
       "      <td>US</td>\n",
       "      <td>1618000785</td>\n",
       "    </tr>\n",
       "    <tr>\n",
       "      <th>3</th>\n",
       "      <td>Punta Arenas</td>\n",
       "      <td>-53.1500</td>\n",
       "      <td>-70.9167</td>\n",
       "      <td>51.80</td>\n",
       "      <td>58</td>\n",
       "      <td>40</td>\n",
       "      <td>11.50</td>\n",
       "      <td>CL</td>\n",
       "      <td>1618000786</td>\n",
       "    </tr>\n",
       "    <tr>\n",
       "      <th>4</th>\n",
       "      <td>Pangnirtung</td>\n",
       "      <td>66.1451</td>\n",
       "      <td>-65.7125</td>\n",
       "      <td>17.60</td>\n",
       "      <td>93</td>\n",
       "      <td>90</td>\n",
       "      <td>9.22</td>\n",
       "      <td>CA</td>\n",
       "      <td>1618000787</td>\n",
       "    </tr>\n",
       "    <tr>\n",
       "      <th>...</th>\n",
       "      <td>...</td>\n",
       "      <td>...</td>\n",
       "      <td>...</td>\n",
       "      <td>...</td>\n",
       "      <td>...</td>\n",
       "      <td>...</td>\n",
       "      <td>...</td>\n",
       "      <td>...</td>\n",
       "      <td>...</td>\n",
       "    </tr>\n",
       "    <tr>\n",
       "      <th>541</th>\n",
       "      <td>Alice Springs</td>\n",
       "      <td>-23.7000</td>\n",
       "      <td>133.8833</td>\n",
       "      <td>57.20</td>\n",
       "      <td>67</td>\n",
       "      <td>13</td>\n",
       "      <td>4.61</td>\n",
       "      <td>AU</td>\n",
       "      <td>1618001535</td>\n",
       "    </tr>\n",
       "    <tr>\n",
       "      <th>542</th>\n",
       "      <td>Gouyave</td>\n",
       "      <td>12.1646</td>\n",
       "      <td>-61.7296</td>\n",
       "      <td>84.20</td>\n",
       "      <td>74</td>\n",
       "      <td>40</td>\n",
       "      <td>23.02</td>\n",
       "      <td>GD</td>\n",
       "      <td>1618001536</td>\n",
       "    </tr>\n",
       "    <tr>\n",
       "      <th>543</th>\n",
       "      <td>Jalu</td>\n",
       "      <td>29.0331</td>\n",
       "      <td>21.5482</td>\n",
       "      <td>63.01</td>\n",
       "      <td>36</td>\n",
       "      <td>0</td>\n",
       "      <td>20.11</td>\n",
       "      <td>LY</td>\n",
       "      <td>1618001537</td>\n",
       "    </tr>\n",
       "    <tr>\n",
       "      <th>544</th>\n",
       "      <td>Cabadiangan</td>\n",
       "      <td>9.7531</td>\n",
       "      <td>122.4739</td>\n",
       "      <td>77.52</td>\n",
       "      <td>80</td>\n",
       "      <td>91</td>\n",
       "      <td>4.92</td>\n",
       "      <td>PH</td>\n",
       "      <td>1618001539</td>\n",
       "    </tr>\n",
       "    <tr>\n",
       "      <th>545</th>\n",
       "      <td>Khor</td>\n",
       "      <td>47.8861</td>\n",
       "      <td>134.9464</td>\n",
       "      <td>31.57</td>\n",
       "      <td>61</td>\n",
       "      <td>39</td>\n",
       "      <td>5.86</td>\n",
       "      <td>RU</td>\n",
       "      <td>1618001541</td>\n",
       "    </tr>\n",
       "  </tbody>\n",
       "</table>\n",
       "<p>546 rows × 9 columns</p>\n",
       "</div>"
      ],
      "text/plain": [
       "              City      Lat       Lng  Max Temp  Humidity  Cloudiness  \\\n",
       "0           Luanda  -8.8368   13.2343     77.00        88          75   \n",
       "1         Chenzhou  25.8000  113.0333     58.64        95         100   \n",
       "2         Portland  45.5234 -122.6762     57.99        47          75   \n",
       "3     Punta Arenas -53.1500  -70.9167     51.80        58          40   \n",
       "4      Pangnirtung  66.1451  -65.7125     17.60        93          90   \n",
       "..             ...      ...       ...       ...       ...         ...   \n",
       "541  Alice Springs -23.7000  133.8833     57.20        67          13   \n",
       "542        Gouyave  12.1646  -61.7296     84.20        74          40   \n",
       "543           Jalu  29.0331   21.5482     63.01        36           0   \n",
       "544    Cabadiangan   9.7531  122.4739     77.52        80          91   \n",
       "545           Khor  47.8861  134.9464     31.57        61          39   \n",
       "\n",
       "     Wind Speed Country        Date  \n",
       "0          5.75      AO  1618000782  \n",
       "1          1.23      CN  1618000783  \n",
       "2          4.61      US  1618000785  \n",
       "3         11.50      CL  1618000786  \n",
       "4          9.22      CA  1618000787  \n",
       "..          ...     ...         ...  \n",
       "541        4.61      AU  1618001535  \n",
       "542       23.02      GD  1618001536  \n",
       "543       20.11      LY  1618001537  \n",
       "544        4.92      PH  1618001539  \n",
       "545        5.86      RU  1618001541  \n",
       "\n",
       "[546 rows x 9 columns]"
      ]
     },
     "execution_count": 43,
     "metadata": {},
     "output_type": "execute_result"
    }
   ],
   "source": [
    "# Create dataframe\n",
    "weather_dict = {\n",
    "    \"City\": city_name,\n",
    "    \"Lat\": lat,\n",
    "    \"Lng\": lng, \n",
    "    \"Max Temp\": max_temp, \n",
    "    \"Humidity\": humidity, \n",
    "    \"Cloudiness\": cloudiness, \n",
    "    \"Wind Speed\": windspeed, \n",
    "    \"Country\": country, \n",
    "    \"Date\": date\n",
    "}\n",
    "\n",
    "weather_data = pd.DataFrame(weather_dict)\n",
    "weather_data"
   ]
  },
  {
   "cell_type": "code",
   "execution_count": 44,
   "metadata": {},
   "outputs": [
    {
     "data": {
      "text/html": [
       "<div>\n",
       "<style scoped>\n",
       "    .dataframe tbody tr th:only-of-type {\n",
       "        vertical-align: middle;\n",
       "    }\n",
       "\n",
       "    .dataframe tbody tr th {\n",
       "        vertical-align: top;\n",
       "    }\n",
       "\n",
       "    .dataframe thead th {\n",
       "        text-align: right;\n",
       "    }\n",
       "</style>\n",
       "<table border=\"1\" class=\"dataframe\">\n",
       "  <thead>\n",
       "    <tr style=\"text-align: right;\">\n",
       "      <th></th>\n",
       "      <th>Lat</th>\n",
       "      <th>Lng</th>\n",
       "      <th>Max Temp</th>\n",
       "      <th>Humidity</th>\n",
       "      <th>Cloudiness</th>\n",
       "      <th>Wind Speed</th>\n",
       "      <th>Date</th>\n",
       "    </tr>\n",
       "  </thead>\n",
       "  <tbody>\n",
       "    <tr>\n",
       "      <th>count</th>\n",
       "      <td>546.000000</td>\n",
       "      <td>546.000000</td>\n",
       "      <td>546.000000</td>\n",
       "      <td>546.000000</td>\n",
       "      <td>546.000000</td>\n",
       "      <td>546.000000</td>\n",
       "      <td>5.460000e+02</td>\n",
       "    </tr>\n",
       "    <tr>\n",
       "      <th>mean</th>\n",
       "      <td>19.103904</td>\n",
       "      <td>23.829421</td>\n",
       "      <td>58.773974</td>\n",
       "      <td>69.890110</td>\n",
       "      <td>56.349817</td>\n",
       "      <td>8.351007</td>\n",
       "      <td>1.618001e+09</td>\n",
       "    </tr>\n",
       "    <tr>\n",
       "      <th>std</th>\n",
       "      <td>33.332660</td>\n",
       "      <td>90.265900</td>\n",
       "      <td>24.256491</td>\n",
       "      <td>22.480875</td>\n",
       "      <td>39.423092</td>\n",
       "      <td>6.110964</td>\n",
       "      <td>2.375199e+02</td>\n",
       "    </tr>\n",
       "    <tr>\n",
       "      <th>min</th>\n",
       "      <td>-54.800000</td>\n",
       "      <td>-175.200000</td>\n",
       "      <td>-24.650000</td>\n",
       "      <td>5.000000</td>\n",
       "      <td>0.000000</td>\n",
       "      <td>0.510000</td>\n",
       "      <td>1.618001e+09</td>\n",
       "    </tr>\n",
       "    <tr>\n",
       "      <th>25%</th>\n",
       "      <td>-8.079350</td>\n",
       "      <td>-56.137700</td>\n",
       "      <td>46.000000</td>\n",
       "      <td>57.250000</td>\n",
       "      <td>20.000000</td>\n",
       "      <td>3.870000</td>\n",
       "      <td>1.618001e+09</td>\n",
       "    </tr>\n",
       "    <tr>\n",
       "      <th>50%</th>\n",
       "      <td>22.311950</td>\n",
       "      <td>25.150750</td>\n",
       "      <td>64.400000</td>\n",
       "      <td>74.500000</td>\n",
       "      <td>74.000000</td>\n",
       "      <td>6.900000</td>\n",
       "      <td>1.618001e+09</td>\n",
       "    </tr>\n",
       "    <tr>\n",
       "      <th>75%</th>\n",
       "      <td>47.574950</td>\n",
       "      <td>102.500000</td>\n",
       "      <td>77.992500</td>\n",
       "      <td>88.000000</td>\n",
       "      <td>98.000000</td>\n",
       "      <td>11.500000</td>\n",
       "      <td>1.618001e+09</td>\n",
       "    </tr>\n",
       "    <tr>\n",
       "      <th>max</th>\n",
       "      <td>78.218600</td>\n",
       "      <td>178.416700</td>\n",
       "      <td>110.460000</td>\n",
       "      <td>100.000000</td>\n",
       "      <td>100.000000</td>\n",
       "      <td>55.990000</td>\n",
       "      <td>1.618002e+09</td>\n",
       "    </tr>\n",
       "  </tbody>\n",
       "</table>\n",
       "</div>"
      ],
      "text/plain": [
       "              Lat         Lng    Max Temp    Humidity  Cloudiness  Wind Speed  \\\n",
       "count  546.000000  546.000000  546.000000  546.000000  546.000000  546.000000   \n",
       "mean    19.103904   23.829421   58.773974   69.890110   56.349817    8.351007   \n",
       "std     33.332660   90.265900   24.256491   22.480875   39.423092    6.110964   \n",
       "min    -54.800000 -175.200000  -24.650000    5.000000    0.000000    0.510000   \n",
       "25%     -8.079350  -56.137700   46.000000   57.250000   20.000000    3.870000   \n",
       "50%     22.311950   25.150750   64.400000   74.500000   74.000000    6.900000   \n",
       "75%     47.574950  102.500000   77.992500   88.000000   98.000000   11.500000   \n",
       "max     78.218600  178.416700  110.460000  100.000000  100.000000   55.990000   \n",
       "\n",
       "               Date  \n",
       "count  5.460000e+02  \n",
       "mean   1.618001e+09  \n",
       "std    2.375199e+02  \n",
       "min    1.618001e+09  \n",
       "25%    1.618001e+09  \n",
       "50%    1.618001e+09  \n",
       "75%    1.618001e+09  \n",
       "max    1.618002e+09  "
      ]
     },
     "execution_count": 44,
     "metadata": {},
     "output_type": "execute_result"
    }
   ],
   "source": [
    "# Describe data\n",
    "weather_data.describe()"
   ]
  },
  {
   "cell_type": "markdown",
   "metadata": {},
   "source": [
    "## Inspect the data and remove the cities where the humidity > 100%.\n",
    "----\n",
    "Skip this step if there are no cities that have humidity > 100%. "
   ]
  },
  {
   "cell_type": "markdown",
   "metadata": {},
   "source": [
    "## Plotting the Data\n",
    "* Use proper labeling of the plots using plot titles (including date of analysis) and axes labels.\n",
    "* Save the plotted figures as .pngs."
   ]
  },
  {
   "cell_type": "markdown",
   "metadata": {},
   "source": [
    "## Latitude vs. Temperature Plot"
   ]
  },
  {
   "cell_type": "code",
   "execution_count": 79,
   "metadata": {
    "scrolled": true
   },
   "outputs": [
    {
     "data": {
      "image/png": "[encoded data removed]",
      "text/plain": [
       "<Figure size 432x288 with 1 Axes>"
      ]
     },
     "metadata": {
      "needs_background": "light"
     },
     "output_type": "display_data"
    }
   ],
   "source": [
    "converted_weather_data_df = pd.to_datetime(weather_data['Date'], unit='s').dt.strftime('%m/%d/%Y')\n",
    "\n",
    "x_axis = weather_data[\"Lat\"]\n",
    "data = weather_data[\"Max Temp\"]\n",
    "plt.scatter(x_axis, data, marker=\"o\", facecolors=\"blue\", edgecolors=\"black\")\n",
    "plt.title(f\"City Latitude vs. Max Temperature ({converted_weather_data_df[1]})\")\n",
    "plt.xlabel(\"Latitude\")\n",
    "plt.ylabel(\"Max Temperature (F)\")\n",
    "plt.grid()\n",
    "plt.show()\n",
    "\n",
    "#plt.savefig(\"../Images/Lat_temp.png\")\n"
   ]
  },
  {
   "cell_type": "markdown",
   "metadata": {},
   "source": [
    "## Latitude vs. Humidity Plot"
   ]
  },
  {
   "cell_type": "code",
   "execution_count": 78,
   "metadata": {},
   "outputs": [
    {
     "data": {
      "image/png": "[encoded data removed]",
      "text/plain": [
       "<Figure size 432x288 with 1 Axes>"
      ]
     },
     "metadata": {
      "needs_background": "light"
     },
     "output_type": "display_data"
    }
   ],
   "source": [
    "x_axis = weather_data[\"Lat\"]\n",
    "data = weather_data[\"Humidity\"]\n",
    "plt.scatter(x_axis, data, marker=\"o\", facecolors=\"blue\", edgecolors=\"black\")\n",
    "plt.title(f\"City Latitude vs. Humidity ({converted_weather_data_df[1]})\")\n",
    "plt.xlabel(\"Latitude\")\n",
    "plt.ylabel(\"Humidity (%)\")\n",
    "plt.grid()\n",
    "plt.show()\n",
    "\n",
    "#plt.savefig(\"../Images/Humidity.png\")"
   ]
  },
  {
   "cell_type": "markdown",
   "metadata": {},
   "source": [
    "## Latitude vs. Cloudiness Plot"
   ]
  },
  {
   "cell_type": "code",
   "execution_count": 80,
   "metadata": {},
   "outputs": [
    {
     "data": {
      "image/png": "[encoded data removed]",
      "text/plain": [
       "<Figure size 432x288 with 1 Axes>"
      ]
     },
     "metadata": {
      "needs_background": "light"
     },
     "output_type": "display_data"
    }
   ],
   "source": [
    "x_axis = weather_data[\"Lat\"]\n",
    "data = weather_data[\"Cloudiness\"]\n",
    "plt.scatter(x_axis, data, marker=\"o\", facecolors=\"blue\", edgecolors=\"black\")\n",
    "plt.title(f\"City Latitude vs. Cloudiness ({converted_weather_data_df[1]})\")\n",
    "plt.xlabel(\"Latitude\")\n",
    "plt.ylabel(\"Cloudiness (%)\")\n",
    "plt.grid()\n",
    "plt.show()\n",
    "\n",
    "#plt.savefig(\"../Images/Humidity.png\")"
   ]
  },
  {
   "cell_type": "markdown",
   "metadata": {},
   "source": [
    "## Latitude vs. Wind Speed Plot"
   ]
  },
  {
   "cell_type": "code",
   "execution_count": 81,
   "metadata": {},
   "outputs": [
    {
     "data": {
      "image/png": "[encoded data removed]",
      "text/plain": [
       "<Figure size 432x288 with 1 Axes>"
      ]
     },
     "metadata": {
      "needs_background": "light"
     },
     "output_type": "display_data"
    }
   ],
   "source": [
    "x_axis = weather_data[\"Lat\"]\n",
    "data = weather_data[\"Wind Speed\"]\n",
    "plt.scatter(x_axis, data, marker=\"o\", facecolors=\"blue\", edgecolors=\"black\")\n",
    "plt.title(f\"City Latitude vs. Wind Speed ({converted_weather_data_df[1]})\")\n",
    "plt.xlabel(\"Latitude\")\n",
    "plt.ylabel(\"Wind Speed (mph)\")\n",
    "plt.grid()\n",
    "plt.show()\n",
    "\n",
    "#plt.savefig(\"../Images/Humidity.png\")"
   ]
  },
  {
   "cell_type": "markdown",
   "metadata": {},
   "source": [
    "## Linear Regression"
   ]
  },
  {
   "cell_type": "code",
   "execution_count": 24,
   "metadata": {},
   "outputs": [],
   "source": []
  },
  {
   "cell_type": "markdown",
   "metadata": {},
   "source": [
    "####  Northern Hemisphere - Max Temp vs. Latitude Linear Regression"
   ]
  },
  {
   "cell_type": "code",
   "execution_count": 25,
   "metadata": {},
   "outputs": [
    {
     "name": "stdout",
     "output_type": "stream",
     "text": [
      "The r-value is: 0.46937863826630627\n"
     ]
    },
    {
     "data": {
      "image/png": "[encoded data removed]",
      "text/plain": [
       "<Figure size 432x288 with 1 Axes>"
      ]
     },
     "metadata": {
      "needs_background": "light"
     },
     "output_type": "display_data"
    }
   ],
   "source": []
  },
  {
   "cell_type": "markdown",
   "metadata": {},
   "source": [
    "####  Southern Hemisphere - Max Temp vs. Latitude Linear Regression"
   ]
  },
  {
   "cell_type": "code",
   "execution_count": 26,
   "metadata": {},
   "outputs": [
    {
     "name": "stdout",
     "output_type": "stream",
     "text": [
      "The r-value is: 0.6082708688906918\n"
     ]
    },
    {
     "data": {
      "image/png": "[encoded data removed]",
      "text/plain": [
       "<Figure size 432x288 with 1 Axes>"
      ]
     },
     "metadata": {
      "needs_background": "light"
     },
     "output_type": "display_data"
    }
   ],
   "source": []
  },
  {
   "cell_type": "markdown",
   "metadata": {},
   "source": [
    "####  Northern Hemisphere - Humidity (%) vs. Latitude Linear Regression"
   ]
  },
  {
   "cell_type": "code",
   "execution_count": 27,
   "metadata": {},
   "outputs": [
    {
     "name": "stdout",
     "output_type": "stream",
     "text": [
      "The r-value is: 0.000543987878808455\n"
     ]
    },
    {
     "data": {
      "image/png": "[encoded data removed]",
      "text/plain": [
       "<Figure size 432x288 with 1 Axes>"
      ]
     },
     "metadata": {
      "needs_background": "light"
     },
     "output_type": "display_data"
    }
   ],
   "source": []
  },
  {
   "cell_type": "markdown",
   "metadata": {},
   "source": [
    "####  Southern Hemisphere - Humidity (%) vs. Latitude Linear Regression"
   ]
  },
  {
   "cell_type": "code",
   "execution_count": 28,
   "metadata": {},
   "outputs": [
    {
     "name": "stdout",
     "output_type": "stream",
     "text": [
      "The r-value is: 0.014985174297345524\n"
     ]
    },
    {
     "data": {
      "image/png": "[encoded data removed]",
      "text/plain": [
       "<Figure size 432x288 with 1 Axes>"
      ]
     },
     "metadata": {
      "needs_background": "light"
     },
     "output_type": "display_data"
    }
   ],
   "source": []
  },
  {
   "cell_type": "markdown",
   "metadata": {},
   "source": [
    "####  Northern Hemisphere - Cloudiness (%) vs. Latitude Linear Regression"
   ]
  },
  {
   "cell_type": "code",
   "execution_count": 29,
   "metadata": {},
   "outputs": [
    {
     "name": "stdout",
     "output_type": "stream",
     "text": [
      "The r-value is: 0.0020898727664228514\n"
     ]
    },
    {
     "data": {
      "image/png": "[encoded data removed]",
      "text/plain": [
       "<Figure size 432x288 with 1 Axes>"
      ]
     },
     "metadata": {
      "needs_background": "light"
     },
     "output_type": "display_data"
    }
   ],
   "source": []
  },
  {
   "cell_type": "markdown",
   "metadata": {},
   "source": [
    "####  Southern Hemisphere - Cloudiness (%) vs. Latitude Linear Regression"
   ]
  },
  {
   "cell_type": "code",
   "execution_count": 30,
   "metadata": {},
   "outputs": [
    {
     "name": "stdout",
     "output_type": "stream",
     "text": [
      "The r-value is: 0.0035263772085582894\n"
     ]
    },
    {
     "data": {
      "image/png": "[encoded data removed]",
      "text/plain": [
       "<Figure size 432x288 with 1 Axes>"
      ]
     },
     "metadata": {
      "needs_background": "light"
     },
     "output_type": "display_data"
    }
   ],
   "source": []
  },
  {
   "cell_type": "markdown",
   "metadata": {},
   "source": [
    "####  Northern Hemisphere - Wind Speed (mph) vs. Latitude Linear Regression"
   ]
  },
  {
   "cell_type": "code",
   "execution_count": 31,
   "metadata": {},
   "outputs": [
    {
     "name": "stdout",
     "output_type": "stream",
     "text": [
      "The r-value is: 0.04019723576144484\n"
     ]
    },
    {
     "data": {
      "image/png": "[encoded data removed]",
      "text/plain": [
       "<Figure size 432x288 with 1 Axes>"
      ]
     },
     "metadata": {
      "needs_background": "light"
     },
     "output_type": "display_data"
    }
   ],
   "source": []
  },
  {
   "cell_type": "markdown",
   "metadata": {},
   "source": [
    "####  Southern Hemisphere - Wind Speed (mph) vs. Latitude Linear Regression"
   ]
  },
  {
   "cell_type": "code",
   "execution_count": 32,
   "metadata": {},
   "outputs": [
    {
     "name": "stdout",
     "output_type": "stream",
     "text": [
      "The r-value is: 0.017128274759839232\n"
     ]
    },
    {
     "data": {
      "image/png": "[encoded data removed]",
      "text/plain": [
       "<Figure size 432x288 with 1 Axes>"
      ]
     },
     "metadata": {
      "needs_background": "light"
     },
     "output_type": "display_data"
    }
   ],
   "source": []
  },
  {
   "cell_type": "code",
   "execution_count": null,
   "metadata": {},
   "outputs": [],
   "source": []
  }
 ],
 "metadata": {
  "anaconda-cloud": {},
  "kernel_info": {
   "name": "python3"
  },
  "kernelspec": {
   "display_name": "Python [conda env:PythonData] *",
   "language": "python",
   "name": "conda-env-PythonData-py"
  },
  "language_info": {
   "codemirror_mode": {
    "name": "ipython",
    "version": 3
   },
   "file_extension": ".py",
   "mimetype": "text/x-python",
   "name": "python",
   "nbconvert_exporter": "python",
   "pygments_lexer": "ipython3",
   "version": "3.6.10"
  },
  "latex_envs": {
   "LaTeX_envs_menu_present": true,
   "autoclose": false,
   "autocomplete": true,
   "bibliofile": "biblio.bib",
   "cite_by": "apalike",
   "current_citInitial": 1,
   "eqLabelWithNumbers": true,
   "eqNumInitial": 1,
   "hotkeys": {
    "equation": "Ctrl-E",
    "itemize": "Ctrl-I"
   },
   "labels_anchors": false,
   "latex_user_defs": false,
   "report_style_numbering": false,
   "user_envs_cfg": false
  },
  "nteract": {
   "version": "0.12.3"
  }
 },
 "nbformat": 4,
 "nbformat_minor": 2
}
